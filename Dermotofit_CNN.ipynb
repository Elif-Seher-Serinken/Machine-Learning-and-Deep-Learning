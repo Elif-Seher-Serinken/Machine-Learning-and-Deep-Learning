{
  "nbformat": 4,
  "nbformat_minor": 0,
  "metadata": {
    "colab": {
      "provenance": [],
      "collapsed_sections": [
        "PtsfLZ7yApt7"
      ],
      "mount_file_id": "1YlzAyZgtn5K0VCpkgq_L5p3MTwwT1BVj",
      "authorship_tag": "ABX9TyM/nPYzAOfBf2/2JNz4s74v",
      "include_colab_link": true
    },
    "kernelspec": {
      "name": "python3",
      "display_name": "Python 3"
    },
    "language_info": {
      "name": "python"
    }
  },
  "cells": [
    {
      "cell_type": "markdown",
      "metadata": {
        "id": "view-in-github",
        "colab_type": "text"
      },
      "source": [
        "<a href=\"https://colab.research.google.com/github/elif-s286/Deep-Learning/blob/main/Dermotofit_CNN.ipynb\" target=\"_parent\"><img src=\"https://colab.research.google.com/assets/colab-badge.svg\" alt=\"Open In Colab\"/></a>"
      ]
    },
    {
      "cell_type": "code",
      "execution_count": null,
      "metadata": {
        "id": "C2gckmYF8jLm"
      },
      "outputs": [],
      "source": [
        "import tensorflow as tf\n",
        "from keras import layers, models\n",
        "import matplotlib.pyplot as plt\n",
        "import numpy as np\n",
        "import pandas as pd\n",
        "import random"
      ]
    },
    {
      "cell_type": "code",
      "source": [
        "from google.colab import drive\n",
        "drive.mount('/content/drive')"
      ],
      "metadata": {
        "colab": {
          "base_uri": "https://localhost:8080/"
        },
        "id": "yMKbi5Hn8kd1",
        "outputId": "1ada9571-1eb0-45f7-fc2f-c43c40d3553c"
      },
      "execution_count": null,
      "outputs": [
        {
          "output_type": "stream",
          "name": "stdout",
          "text": [
            "Drive already mounted at /content/drive; to attempt to forcibly remount, call drive.mount(\"/content/drive\", force_remount=True).\n"
          ]
        }
      ]
    },
    {
      "cell_type": "markdown",
      "source": [
        "# Risksiz gruplarla CNN modeli\n"
      ],
      "metadata": {
        "id": "yi-is4yBAe_P"
      }
    },
    {
      "cell_type": "code",
      "source": [
        "# importing cv2 \n",
        "import cv2 \n",
        "import numpy as np\n",
        "import pandas as pd\n",
        "import sys\n",
        "import os\n",
        "from PIL import Image\n",
        "import glob\n",
        "from google.colab.patches import cv2_imshow #cv2_imshow(crop_img) diye kullanılıyor."
      ],
      "metadata": {
        "id": "FDLgTgakE7sp"
      },
      "execution_count": null,
      "outputs": []
    },
    {
      "cell_type": "code",
      "source": [
        "yol = \"/content/drive/MyDrive/Colab Notebooks/ANN and CNN/dermofit\"\n",
        "list_yol = os.listdir(yol)\n",
        "len(list_yol)"
      ],
      "metadata": {
        "colab": {
          "base_uri": "https://localhost:8080/"
        },
        "id": "sOoO4irFFDQ0",
        "outputId": "bc20ab81-8c4c-4219-ac08-664acf3a3134"
      },
      "execution_count": null,
      "outputs": [
        {
          "output_type": "execute_result",
          "data": {
            "text/plain": [
              "6"
            ]
          },
          "metadata": {},
          "execution_count": 4
        }
      ]
    },
    {
      "cell_type": "code",
      "source": [
        "img_list_c= glob.glob(\"/content/drive/MyDrive/Colab Notebooks/ANN and CNN/dermofit/mic_normal_2/*.png\")\n",
        "print(img_list_c)\n",
        "img_list_r= glob.glob(\"/content/drive/MyDrive/Colab Notebooks/ANN and CNN/dermofit/tri_normal_r1/*.png\")\n",
        "img_list_t= glob.glob(\"/content/drive/MyDrive/Colab Notebooks/ANN and CNN/dermofit/tri_normal_t1/*.png\")"
      ],
      "metadata": {
        "colab": {
          "base_uri": "https://localhost:8080/"
        },
        "id": "PIMhoJOkFcpX",
        "outputId": "41b2ce39-4dac-487f-c488-b9a88fe85cf4"
      },
      "execution_count": null,
      "outputs": [
        {
          "output_type": "stream",
          "name": "stdout",
          "text": [
            "['/content/drive/MyDrive/Colab Notebooks/ANN and CNN/dermofit/mic_normal_2/Ekran görüntüsü 2021-03-26 111227.png', '/content/drive/MyDrive/Colab Notebooks/ANN and CNN/dermofit/mic_normal_2/Ekran görüntüsü 2021-03-26 111325.png', '/content/drive/MyDrive/Colab Notebooks/ANN and CNN/dermofit/mic_normal_2/Ekran görüntüsü 2021-03-26 111410.png', '/content/drive/MyDrive/Colab Notebooks/ANN and CNN/dermofit/mic_normal_2/Ekran görüntüsü 2021-03-26 111626.png', '/content/drive/MyDrive/Colab Notebooks/ANN and CNN/dermofit/mic_normal_2/Ekran görüntüsü 2021-03-26 111658.png', '/content/drive/MyDrive/Colab Notebooks/ANN and CNN/dermofit/mic_normal_2/Ekran görüntüsü 2021-03-26 111723.png', '/content/drive/MyDrive/Colab Notebooks/ANN and CNN/dermofit/mic_normal_2/Ekran görüntüsü 2021-03-26 112034.png', '/content/drive/MyDrive/Colab Notebooks/ANN and CNN/dermofit/mic_normal_2/Ekran görüntüsü 2021-03-26 112139.png', '/content/drive/MyDrive/Colab Notebooks/ANN and CNN/dermofit/mic_normal_2/Ekran görüntüsü 2021-03-26 112225.png', '/content/drive/MyDrive/Colab Notebooks/ANN and CNN/dermofit/mic_normal_2/Ekran görüntüsü 2021-03-26 112547.png', '/content/drive/MyDrive/Colab Notebooks/ANN and CNN/dermofit/mic_normal_2/Ekran görüntüsü 2021-03-26 112634.png', '/content/drive/MyDrive/Colab Notebooks/ANN and CNN/dermofit/mic_normal_2/Ekran görüntüsü 2021-03-26 112858.png', '/content/drive/MyDrive/Colab Notebooks/ANN and CNN/dermofit/mic_normal_2/Ekran görüntüsü 2021-03-26 113027.png', '/content/drive/MyDrive/Colab Notebooks/ANN and CNN/dermofit/mic_normal_2/Ekran görüntüsü 2021-03-26 113842.png', '/content/drive/MyDrive/Colab Notebooks/ANN and CNN/dermofit/mic_normal_2/Ekran görüntüsü 2021-03-26 114026.png', '/content/drive/MyDrive/Colab Notebooks/ANN and CNN/dermofit/mic_normal_2/Ekran görüntüsü 2021-03-26 114940.png', '/content/drive/MyDrive/Colab Notebooks/ANN and CNN/dermofit/mic_normal_2/Ekran görüntüsü 2021-03-26 115006.png', '/content/drive/MyDrive/Colab Notebooks/ANN and CNN/dermofit/mic_normal_2/Ekran görüntüsü 2021-03-26 115044.png', '/content/drive/MyDrive/Colab Notebooks/ANN and CNN/dermofit/mic_normal_2/Ekran görüntüsü 2021-03-26 115119.png', '/content/drive/MyDrive/Colab Notebooks/ANN and CNN/dermofit/mic_normal_2/Ekran görüntüsü 2021-03-26 115356.png', '/content/drive/MyDrive/Colab Notebooks/ANN and CNN/dermofit/mic_normal_2/Ekran görüntüsü 2021-03-26 115617.png', '/content/drive/MyDrive/Colab Notebooks/ANN and CNN/dermofit/mic_normal_2/Ekran görüntüsü 2021-03-26 115832.png', '/content/drive/MyDrive/Colab Notebooks/ANN and CNN/dermofit/mic_normal_2/Ekran görüntüsü 2021-03-26 115953.png', '/content/drive/MyDrive/Colab Notebooks/ANN and CNN/dermofit/mic_normal_2/Ekran görüntüsü 2021-03-26 120017.png', '/content/drive/MyDrive/Colab Notebooks/ANN and CNN/dermofit/mic_normal_2/Ekran görüntüsü 2021-03-26 120305.png', '/content/drive/MyDrive/Colab Notebooks/ANN and CNN/dermofit/mic_normal_2/Ekran görüntüsü 2021-03-26 125449.png', '/content/drive/MyDrive/Colab Notebooks/ANN and CNN/dermofit/mic_normal_2/Ekran görüntüsü 2021-03-26 125635.png', '/content/drive/MyDrive/Colab Notebooks/ANN and CNN/dermofit/mic_normal_2/Ekran görüntüsü 2021-03-26 130314.png', '/content/drive/MyDrive/Colab Notebooks/ANN and CNN/dermofit/mic_normal_2/Ekran görüntüsü 2021-03-26 130552.png', '/content/drive/MyDrive/Colab Notebooks/ANN and CNN/dermofit/mic_normal_2/Ekran görüntüsü 2021-03-26 130635.png', '/content/drive/MyDrive/Colab Notebooks/ANN and CNN/dermofit/mic_normal_2/Ekran görüntüsü 2021-03-26 130651.png', '/content/drive/MyDrive/Colab Notebooks/ANN and CNN/dermofit/mic_normal_2/Ekran görüntüsü 2021-03-26 130720.png', '/content/drive/MyDrive/Colab Notebooks/ANN and CNN/dermofit/mic_normal_2/Ekran görüntüsü 2021-03-26 130840.png', '/content/drive/MyDrive/Colab Notebooks/ANN and CNN/dermofit/mic_normal_2/Ekran görüntüsü 2021-03-26 130922.png', '/content/drive/MyDrive/Colab Notebooks/ANN and CNN/dermofit/mic_normal_2/Ekran görüntüsü 2021-03-26 131110.png', '/content/drive/MyDrive/Colab Notebooks/ANN and CNN/dermofit/mic_normal_2/Ekran görüntüsü 2021-03-26 131129.png', '/content/drive/MyDrive/Colab Notebooks/ANN and CNN/dermofit/mic_normal_2/Ekran görüntüsü 2021-03-26 131202.png', '/content/drive/MyDrive/Colab Notebooks/ANN and CNN/dermofit/mic_normal_2/Ekran görüntüsü 2021-03-26 131240.png', '/content/drive/MyDrive/Colab Notebooks/ANN and CNN/dermofit/mic_normal_2/Ekran görüntüsü 2021-03-26 131257.png', '/content/drive/MyDrive/Colab Notebooks/ANN and CNN/dermofit/mic_normal_2/Ekran görüntüsü 2021-03-26 131748.png', '/content/drive/MyDrive/Colab Notebooks/ANN and CNN/dermofit/mic_normal_2/Ekran görüntüsü 2021-03-26 132041.png', '/content/drive/MyDrive/Colab Notebooks/ANN and CNN/dermofit/mic_normal_2/Ekran görüntüsü 2021-03-26 132428.png', '/content/drive/MyDrive/Colab Notebooks/ANN and CNN/dermofit/mic_normal_2/Ekran görüntüsü 2021-03-26 132448.png', '/content/drive/MyDrive/Colab Notebooks/ANN and CNN/dermofit/mic_normal_2/Ekran görüntüsü 2021-03-26 132505.png', '/content/drive/MyDrive/Colab Notebooks/ANN and CNN/dermofit/mic_normal_2/Ekran görüntüsü 2021-03-26 132531.png', '/content/drive/MyDrive/Colab Notebooks/ANN and CNN/dermofit/mic_normal_2/Ekran görüntüsü 2021-03-26 132554.png', '/content/drive/MyDrive/Colab Notebooks/ANN and CNN/dermofit/mic_normal_2/Ekran görüntüsü 2021-03-26 132815.png', '/content/drive/MyDrive/Colab Notebooks/ANN and CNN/dermofit/mic_normal_2/Ekran görüntüsü 2021-03-26 133319.png', '/content/drive/MyDrive/Colab Notebooks/ANN and CNN/dermofit/mic_normal_2/Ekran görüntüsü 2021-03-26 133355.png', '/content/drive/MyDrive/Colab Notebooks/ANN and CNN/dermofit/mic_normal_2/Ekran görüntüsü 2021-03-26 133415.png', '/content/drive/MyDrive/Colab Notebooks/ANN and CNN/dermofit/mic_normal_2/Ekran görüntüsü 2021-03-26 133538.png', '/content/drive/MyDrive/Colab Notebooks/ANN and CNN/dermofit/mic_normal_2/Ekran görüntüsü 2021-03-26 133719.png', '/content/drive/MyDrive/Colab Notebooks/ANN and CNN/dermofit/mic_normal_2/Ekran görüntüsü 2021-03-26 133910.png', '/content/drive/MyDrive/Colab Notebooks/ANN and CNN/dermofit/mic_normal_2/Ekran görüntüsü 2021-03-26 133939.png', '/content/drive/MyDrive/Colab Notebooks/ANN and CNN/dermofit/mic_normal_2/Ekran görüntüsü 2021-03-26 134004.png', '/content/drive/MyDrive/Colab Notebooks/ANN and CNN/dermofit/mic_normal_2/Ekran görüntüsü 2021-03-26 134027.png', '/content/drive/MyDrive/Colab Notebooks/ANN and CNN/dermofit/mic_normal_2/Ekran görüntüsü 2021-03-26 134824.png', '/content/drive/MyDrive/Colab Notebooks/ANN and CNN/dermofit/mic_normal_2/Ekran görüntüsü 2021-03-26 135058.png', '/content/drive/MyDrive/Colab Notebooks/ANN and CNN/dermofit/mic_normal_2/Ekran görüntüsü 2021-03-26 135717.png', '/content/drive/MyDrive/Colab Notebooks/ANN and CNN/dermofit/mic_normal_2/Ekran görüntüsü 2021-03-26 140108.png', '/content/drive/MyDrive/Colab Notebooks/ANN and CNN/dermofit/mic_normal_2/Ekran görüntüsü 2021-03-26 140352.png', '/content/drive/MyDrive/Colab Notebooks/ANN and CNN/dermofit/mic_normal_2/Ekran görüntüsü 2021-03-26 140848.png', '/content/drive/MyDrive/Colab Notebooks/ANN and CNN/dermofit/mic_normal_2/Ekran görüntüsü 2021-03-26 140908.png', '/content/drive/MyDrive/Colab Notebooks/ANN and CNN/dermofit/mic_normal_2/Ekran görüntüsü 2021-03-26 141313.png', '/content/drive/MyDrive/Colab Notebooks/ANN and CNN/dermofit/mic_normal_2/Ekran görüntüsü 2021-03-26 141434.png', '/content/drive/MyDrive/Colab Notebooks/ANN and CNN/dermofit/mic_normal_2/Ekran görüntüsü 2021-03-26 141505.png', '/content/drive/MyDrive/Colab Notebooks/ANN and CNN/dermofit/mic_normal_2/Ekran görüntüsü 2021-03-26 141704.png', '/content/drive/MyDrive/Colab Notebooks/ANN and CNN/dermofit/mic_normal_2/Ekran görüntüsü 2021-03-26 141729.png', '/content/drive/MyDrive/Colab Notebooks/ANN and CNN/dermofit/mic_normal_2/Ekran görüntüsü 2021-03-26 142733.png', '/content/drive/MyDrive/Colab Notebooks/ANN and CNN/dermofit/mic_normal_2/Ekran görüntüsü 2021-03-26 142823.png', '/content/drive/MyDrive/Colab Notebooks/ANN and CNN/dermofit/mic_normal_2/Ekran görüntüsü 2021-03-26 142919.png', '/content/drive/MyDrive/Colab Notebooks/ANN and CNN/dermofit/mic_normal_2/Ekran görüntüsü 2021-03-26 143109.png', '/content/drive/MyDrive/Colab Notebooks/ANN and CNN/dermofit/mic_normal_2/Ekran görüntüsü 2021-03-26 144058.png', '/content/drive/MyDrive/Colab Notebooks/ANN and CNN/dermofit/mic_normal_2/Ekran görüntüsü 2021-03-26 144131.png', '/content/drive/MyDrive/Colab Notebooks/ANN and CNN/dermofit/mic_normal_2/Ekran görüntüsü 2021-03-26 144234.png', '/content/drive/MyDrive/Colab Notebooks/ANN and CNN/dermofit/mic_normal_2/Ekran görüntüsü 2021-03-26 144402.png', '/content/drive/MyDrive/Colab Notebooks/ANN and CNN/dermofit/mic_normal_2/Ekran görüntüsü 2021-03-26 144744.png', '/content/drive/MyDrive/Colab Notebooks/ANN and CNN/dermofit/mic_normal_2/Ekran görüntüsü 2021-03-26 150504.png', '/content/drive/MyDrive/Colab Notebooks/ANN and CNN/dermofit/mic_normal_2/Ekran görüntüsü 2021-03-26 151324.png', '/content/drive/MyDrive/Colab Notebooks/ANN and CNN/dermofit/mic_normal_2/Ekran görüntüsü 2021-03-26 151433.png', '/content/drive/MyDrive/Colab Notebooks/ANN and CNN/dermofit/mic_normal_2/Ekran görüntüsü 2021-03-26 151545.png', '/content/drive/MyDrive/Colab Notebooks/ANN and CNN/dermofit/mic_normal_2/Ekran görüntüsü 2021-03-26 151736.png', '/content/drive/MyDrive/Colab Notebooks/ANN and CNN/dermofit/mic_normal_2/Ekran görüntüsü 2021-03-26 151756.png', '/content/drive/MyDrive/Colab Notebooks/ANN and CNN/dermofit/mic_normal_2/Ekran görüntüsü 2021-03-26 151824.png', '/content/drive/MyDrive/Colab Notebooks/ANN and CNN/dermofit/mic_normal_2/Ekran görüntüsü 2021-03-26 151948.png', '/content/drive/MyDrive/Colab Notebooks/ANN and CNN/dermofit/mic_normal_2/Ekran görüntüsü 2021-03-26 152012.png', '/content/drive/MyDrive/Colab Notebooks/ANN and CNN/dermofit/mic_normal_2/Ekran görüntüsü 2021-03-26 152029.png', '/content/drive/MyDrive/Colab Notebooks/ANN and CNN/dermofit/mic_normal_2/Ekran görüntüsü 2021-03-26 152049.png', '/content/drive/MyDrive/Colab Notebooks/ANN and CNN/dermofit/mic_normal_2/Ekran görüntüsü 2021-03-26 154657.png', '/content/drive/MyDrive/Colab Notebooks/ANN and CNN/dermofit/mic_normal_2/Ekran görüntüsü 2021-03-26 154713.png', '/content/drive/MyDrive/Colab Notebooks/ANN and CNN/dermofit/mic_normal_2/Ekran görüntüsü 2021-03-26 154724.png', '/content/drive/MyDrive/Colab Notebooks/ANN and CNN/dermofit/mic_normal_2/Ekran görüntüsü 2021-03-26 154740.png', '/content/drive/MyDrive/Colab Notebooks/ANN and CNN/dermofit/mic_normal_2/Ekran görüntüsü 2021-03-26 154757.png', '/content/drive/MyDrive/Colab Notebooks/ANN and CNN/dermofit/mic_normal_2/Ekran görüntüsü 2021-03-26 154932.png', '/content/drive/MyDrive/Colab Notebooks/ANN and CNN/dermofit/mic_normal_2/Ekran görüntüsü 2021-03-26 154954.png', '/content/drive/MyDrive/Colab Notebooks/ANN and CNN/dermofit/mic_normal_2/Ekran görüntüsü 2021-03-26 155051.png', '/content/drive/MyDrive/Colab Notebooks/ANN and CNN/dermofit/mic_normal_2/Ekran görüntüsü 2021-03-26 155122.png', '/content/drive/MyDrive/Colab Notebooks/ANN and CNN/dermofit/mic_normal_2/Ekran görüntüsü 2021-03-26 155139.png', '/content/drive/MyDrive/Colab Notebooks/ANN and CNN/dermofit/mic_normal_2/Ekran görüntüsü 2021-03-26 155159.png', '/content/drive/MyDrive/Colab Notebooks/ANN and CNN/dermofit/mic_normal_2/Ekran görüntüsü 2021-03-26 155216.png', '/content/drive/MyDrive/Colab Notebooks/ANN and CNN/dermofit/mic_normal_2/Ekran görüntüsü 2021-03-26 155330.png', '/content/drive/MyDrive/Colab Notebooks/ANN and CNN/dermofit/mic_normal_2/Ekran görüntüsü 2021-03-26 155355.png', '/content/drive/MyDrive/Colab Notebooks/ANN and CNN/dermofit/mic_normal_2/Ekran görüntüsü 2021-03-26 155417.png', '/content/drive/MyDrive/Colab Notebooks/ANN and CNN/dermofit/mic_normal_2/Ekran görüntüsü 2021-03-26 155635.png', '/content/drive/MyDrive/Colab Notebooks/ANN and CNN/dermofit/mic_normal_2/Ekran görüntüsü 2021-03-26 155654.png', '/content/drive/MyDrive/Colab Notebooks/ANN and CNN/dermofit/mic_normal_2/Ekran görüntüsü 2021-03-26 155714.png', '/content/drive/MyDrive/Colab Notebooks/ANN and CNN/dermofit/mic_normal_2/Ekran görüntüsü 2021-03-26 165045.png', '/content/drive/MyDrive/Colab Notebooks/ANN and CNN/dermofit/mic_normal_2/Ekran görüntüsü 2021-03-26 165101.png', '/content/drive/MyDrive/Colab Notebooks/ANN and CNN/dermofit/mic_normal_2/Ekran görüntüsü 2021-03-26 165204.png', '/content/drive/MyDrive/Colab Notebooks/ANN and CNN/dermofit/mic_normal_2/Ekran görüntüsü 2021-03-26 165320.png', '/content/drive/MyDrive/Colab Notebooks/ANN and CNN/dermofit/mic_normal_2/Ekran görüntüsü 2021-03-26 165358.png', '/content/drive/MyDrive/Colab Notebooks/ANN and CNN/dermofit/mic_normal_2/Ekran görüntüsü 2021-03-26 165510.png', '/content/drive/MyDrive/Colab Notebooks/ANN and CNN/dermofit/mic_normal_2/Ekran görüntüsü 2021-03-26 165527.png', '/content/drive/MyDrive/Colab Notebooks/ANN and CNN/dermofit/mic_normal_2/Ekran görüntüsü 2021-03-26 165555.png', '/content/drive/MyDrive/Colab Notebooks/ANN and CNN/dermofit/mic_normal_2/Ekran görüntüsü 2021-03-26 165623.png', '/content/drive/MyDrive/Colab Notebooks/ANN and CNN/dermofit/mic_normal_2/Ekran görüntüsü 2021-03-26 165658.png', '/content/drive/MyDrive/Colab Notebooks/ANN and CNN/dermofit/mic_normal_2/Ekran görüntüsü 2021-03-26 165717.png', '/content/drive/MyDrive/Colab Notebooks/ANN and CNN/dermofit/mic_normal_2/Ekran görüntüsü 2021-03-26 165945.png', '/content/drive/MyDrive/Colab Notebooks/ANN and CNN/dermofit/mic_normal_2/Ekran görüntüsü 2021-03-26 182850.png', '/content/drive/MyDrive/Colab Notebooks/ANN and CNN/dermofit/mic_normal_2/Ekran görüntüsü 2021-03-26 182949.png', '/content/drive/MyDrive/Colab Notebooks/ANN and CNN/dermofit/mic_normal_2/Ekran görüntüsü 2021-03-26 183014.png', '/content/drive/MyDrive/Colab Notebooks/ANN and CNN/dermofit/mic_normal_2/Ekran görüntüsü 2021-03-26 183127.png', '/content/drive/MyDrive/Colab Notebooks/ANN and CNN/dermofit/mic_normal_2/Ekran görüntüsü 2021-03-26 183202.png', '/content/drive/MyDrive/Colab Notebooks/ANN and CNN/dermofit/mic_normal_2/Ekran görüntüsü 2021-03-26 183322.png', '/content/drive/MyDrive/Colab Notebooks/ANN and CNN/dermofit/mic_normal_2/Ekran görüntüsü 2021-03-26 183344.png', '/content/drive/MyDrive/Colab Notebooks/ANN and CNN/dermofit/mic_normal_2/Ekran görüntüsü 2021-03-26 183402.png', '/content/drive/MyDrive/Colab Notebooks/ANN and CNN/dermofit/mic_normal_2/Ekran görüntüsü 2021-03-26 183444.png', '/content/drive/MyDrive/Colab Notebooks/ANN and CNN/dermofit/mic_normal_2/Ekran görüntüsü 2021-03-26 183509.png', '/content/drive/MyDrive/Colab Notebooks/ANN and CNN/dermofit/mic_normal_2/Ekran görüntüsü 2021-03-26 183537.png', '/content/drive/MyDrive/Colab Notebooks/ANN and CNN/dermofit/mic_normal_2/Ekran görüntüsü 2021-03-26 183554.png', '/content/drive/MyDrive/Colab Notebooks/ANN and CNN/dermofit/mic_normal_2/Ekran görüntüsü 2021-03-26 183613.png', '/content/drive/MyDrive/Colab Notebooks/ANN and CNN/dermofit/mic_normal_2/Ekran görüntüsü 2021-03-26 183700.png', '/content/drive/MyDrive/Colab Notebooks/ANN and CNN/dermofit/mic_normal_2/Ekran görüntüsü 2021-03-26 183719.png', '/content/drive/MyDrive/Colab Notebooks/ANN and CNN/dermofit/mic_normal_2/Ekran görüntüsü 2021-03-26 183743.png', '/content/drive/MyDrive/Colab Notebooks/ANN and CNN/dermofit/mic_normal_2/Ekran görüntüsü 2021-03-26 183815.png', '/content/drive/MyDrive/Colab Notebooks/ANN and CNN/dermofit/mic_normal_2/Ekran görüntüsü 2021-03-26 183830.png', '/content/drive/MyDrive/Colab Notebooks/ANN and CNN/dermofit/mic_normal_2/Ekran görüntüsü 2021-03-26 183845.png', '/content/drive/MyDrive/Colab Notebooks/ANN and CNN/dermofit/mic_normal_2/Ekran görüntüsü 2021-03-26 183921.png', '/content/drive/MyDrive/Colab Notebooks/ANN and CNN/dermofit/mic_normal_2/Ekran görüntüsü 2021-03-26 184013.png', '/content/drive/MyDrive/Colab Notebooks/ANN and CNN/dermofit/mic_normal_2/Ekran görüntüsü 2021-03-26 184025.png', '/content/drive/MyDrive/Colab Notebooks/ANN and CNN/dermofit/mic_normal_2/Ekran görüntüsü 2021-03-26 184045.png', '/content/drive/MyDrive/Colab Notebooks/ANN and CNN/dermofit/mic_normal_2/Ekran görüntüsü 2021-03-26 184103.png', '/content/drive/MyDrive/Colab Notebooks/ANN and CNN/dermofit/mic_normal_2/Ekran görüntüsü 2021-03-26 184135.png', '/content/drive/MyDrive/Colab Notebooks/ANN and CNN/dermofit/mic_normal_2/Ekran görüntüsü 2021-03-26 184156.png', '/content/drive/MyDrive/Colab Notebooks/ANN and CNN/dermofit/mic_normal_2/Ekran görüntüsü 2021-03-26 184219.png', '/content/drive/MyDrive/Colab Notebooks/ANN and CNN/dermofit/mic_normal_2/Ekran görüntüsü 2021-03-26 184241.png', '/content/drive/MyDrive/Colab Notebooks/ANN and CNN/dermofit/mic_normal_2/Ekran görüntüsü 2021-03-26 184259.png', '/content/drive/MyDrive/Colab Notebooks/ANN and CNN/dermofit/mic_normal_2/Ekran görüntüsü 2021-03-26 184331.png', '/content/drive/MyDrive/Colab Notebooks/ANN and CNN/dermofit/mic_normal_2/Ekran görüntüsü 2021-03-26 184347.png', '/content/drive/MyDrive/Colab Notebooks/ANN and CNN/dermofit/mic_normal_2/Ekran görüntüsü 2021-03-26 184404.png', '/content/drive/MyDrive/Colab Notebooks/ANN and CNN/dermofit/mic_normal_2/Ekran görüntüsü 2021-03-26 184420.png', '/content/drive/MyDrive/Colab Notebooks/ANN and CNN/dermofit/mic_normal_2/Ekran görüntüsü 2021-03-26 184452.png', '/content/drive/MyDrive/Colab Notebooks/ANN and CNN/dermofit/mic_normal_2/Ekran görüntüsü 2021-03-26 184541.png', '/content/drive/MyDrive/Colab Notebooks/ANN and CNN/dermofit/mic_normal_2/Ekran görüntüsü 2021-03-26 184556.png', '/content/drive/MyDrive/Colab Notebooks/ANN and CNN/dermofit/mic_normal_2/Ekran görüntüsü 2021-03-26 184613.png', '/content/drive/MyDrive/Colab Notebooks/ANN and CNN/dermofit/mic_normal_2/Ekran görüntüsü 2021-03-26 184628.png', '/content/drive/MyDrive/Colab Notebooks/ANN and CNN/dermofit/mic_normal_2/Ekran görüntüsü 2021-03-26 184641.png', '/content/drive/MyDrive/Colab Notebooks/ANN and CNN/dermofit/mic_normal_2/Ekran görüntüsü 2021-03-26 184801.png', '/content/drive/MyDrive/Colab Notebooks/ANN and CNN/dermofit/mic_normal_2/Ekran görüntüsü 2021-03-26 185318.png', '/content/drive/MyDrive/Colab Notebooks/ANN and CNN/dermofit/mic_normal_2/Ekran görüntüsü 2021-03-26 185333.png', '/content/drive/MyDrive/Colab Notebooks/ANN and CNN/dermofit/mic_normal_2/Ekran görüntüsü 2021-03-26 185411.png', '/content/drive/MyDrive/Colab Notebooks/ANN and CNN/dermofit/mic_normal_2/Ekran görüntüsü 2021-03-26 185430 (1).png', '/content/drive/MyDrive/Colab Notebooks/ANN and CNN/dermofit/mic_normal_2/Ekran görüntüsü 2021-03-26 185430.png', '/content/drive/MyDrive/Colab Notebooks/ANN and CNN/dermofit/mic_normal_2/Ekran görüntüsü 2021-03-26 185447 (1).png', '/content/drive/MyDrive/Colab Notebooks/ANN and CNN/dermofit/mic_normal_2/Ekran görüntüsü 2021-03-26 185447.png', '/content/drive/MyDrive/Colab Notebooks/ANN and CNN/dermofit/mic_normal_2/Ekran görüntüsü 2021-03-26 185545 (1).png', '/content/drive/MyDrive/Colab Notebooks/ANN and CNN/dermofit/mic_normal_2/Ekran görüntüsü 2021-03-26 185545.png', '/content/drive/MyDrive/Colab Notebooks/ANN and CNN/dermofit/mic_normal_2/Ekran görüntüsü 2021-03-26 185604 (1).png', '/content/drive/MyDrive/Colab Notebooks/ANN and CNN/dermofit/mic_normal_2/Ekran görüntüsü 2021-03-26 185604.png', '/content/drive/MyDrive/Colab Notebooks/ANN and CNN/dermofit/mic_normal_2/Ekran görüntüsü 2021-03-26 185631 (1).png', '/content/drive/MyDrive/Colab Notebooks/ANN and CNN/dermofit/mic_normal_2/Ekran görüntüsü 2021-03-26 185631.png', '/content/drive/MyDrive/Colab Notebooks/ANN and CNN/dermofit/mic_normal_2/Ekran görüntüsü 2021-03-26 185644 (1).png', '/content/drive/MyDrive/Colab Notebooks/ANN and CNN/dermofit/mic_normal_2/Ekran görüntüsü 2021-03-26 185644.png', '/content/drive/MyDrive/Colab Notebooks/ANN and CNN/dermofit/mic_normal_2/Ekran görüntüsü 2021-03-26 185845.png', '/content/drive/MyDrive/Colab Notebooks/ANN and CNN/dermofit/mic_normal_2/Ekran görüntüsü 2021-03-26 185912.png', '/content/drive/MyDrive/Colab Notebooks/ANN and CNN/dermofit/mic_normal_2/Ekran görüntüsü 2021-03-26 185958.png', '/content/drive/MyDrive/Colab Notebooks/ANN and CNN/dermofit/mic_normal_2/Ekran görüntüsü 2021-03-26 190019.png', '/content/drive/MyDrive/Colab Notebooks/ANN and CNN/dermofit/mic_normal_2/Ekran görüntüsü 2021-03-26 190036.png', '/content/drive/MyDrive/Colab Notebooks/ANN and CNN/dermofit/mic_normal_2/Ekran görüntüsü 2021-03-26 190059.png', '/content/drive/MyDrive/Colab Notebooks/ANN and CNN/dermofit/mic_normal_2/Ekran görüntüsü 2021-03-26 190111.png', '/content/drive/MyDrive/Colab Notebooks/ANN and CNN/dermofit/mic_normal_2/Ekran görüntüsü 2021-03-26 190122.png', '/content/drive/MyDrive/Colab Notebooks/ANN and CNN/dermofit/mic_normal_2/Ekran görüntüsü 2021-03-26 190138.png', '/content/drive/MyDrive/Colab Notebooks/ANN and CNN/dermofit/mic_normal_2/Ekran görüntüsü 2021-03-26 190155.png', '/content/drive/MyDrive/Colab Notebooks/ANN and CNN/dermofit/mic_normal_2/Ekran görüntüsü 2021-03-26 190215.png', '/content/drive/MyDrive/Colab Notebooks/ANN and CNN/dermofit/mic_normal_2/Ekran görüntüsü 2021-03-26 190230.png', '/content/drive/MyDrive/Colab Notebooks/ANN and CNN/dermofit/mic_normal_2/Ekran görüntüsü 2021-03-26 190315.png', '/content/drive/MyDrive/Colab Notebooks/ANN and CNN/dermofit/mic_normal_2/Ekran görüntüsü 2021-03-26 190357.png', '/content/drive/MyDrive/Colab Notebooks/ANN and CNN/dermofit/mic_normal_2/Ekran görüntüsü 2021-03-29 001444.png', '/content/drive/MyDrive/Colab Notebooks/ANN and CNN/dermofit/mic_normal_2/Ekran görüntüsü 2021-03-29 001617.png', '/content/drive/MyDrive/Colab Notebooks/ANN and CNN/dermofit/mic_normal_2/Ekran görüntüsü 2021-03-29 001641.png', '/content/drive/MyDrive/Colab Notebooks/ANN and CNN/dermofit/mic_normal_2/Ekran görüntüsü 2021-03-29 002728.png', '/content/drive/MyDrive/Colab Notebooks/ANN and CNN/dermofit/mic_normal_2/Ekran görüntüsü 2021-03-29 002820.png', '/content/drive/MyDrive/Colab Notebooks/ANN and CNN/dermofit/mic_normal_2/Ekran görüntüsü 2021-03-29 002838.png', '/content/drive/MyDrive/Colab Notebooks/ANN and CNN/dermofit/mic_normal_2/Ekran görüntüsü 2021-03-29 002922.png', '/content/drive/MyDrive/Colab Notebooks/ANN and CNN/dermofit/mic_normal_2/Ekran görüntüsü 2021-03-29 003033.png', '/content/drive/MyDrive/Colab Notebooks/ANN and CNN/dermofit/mic_normal_2/Ekran görüntüsü 2021-03-29 003927.png', '/content/drive/MyDrive/Colab Notebooks/ANN and CNN/dermofit/mic_normal_2/Ekran görüntüsü 2021-03-29 004048.png', '/content/drive/MyDrive/Colab Notebooks/ANN and CNN/dermofit/mic_normal_2/Ekran görüntüsü 2021-03-29 004120.png', '/content/drive/MyDrive/Colab Notebooks/ANN and CNN/dermofit/mic_normal_2/Ekran görüntüsü 2021-03-29 004155.png', '/content/drive/MyDrive/Colab Notebooks/ANN and CNN/dermofit/mic_normal_2/Ekran görüntüsü 2021-03-29 004219.png', '/content/drive/MyDrive/Colab Notebooks/ANN and CNN/dermofit/mic_normal_2/Ekran görüntüsü 2021-03-29 004312.png', '/content/drive/MyDrive/Colab Notebooks/ANN and CNN/dermofit/mic_normal_2/Ekran görüntüsü 2021-03-29 004500.png', '/content/drive/MyDrive/Colab Notebooks/ANN and CNN/dermofit/mic_normal_2/Ekran görüntüsü 2021-03-29 004554.png', '/content/drive/MyDrive/Colab Notebooks/ANN and CNN/dermofit/mic_normal_2/Ekran görüntüsü 2021-03-29 005009.png', '/content/drive/MyDrive/Colab Notebooks/ANN and CNN/dermofit/mic_normal_2/Ekran görüntüsü 2021-03-29 005107.png', '/content/drive/MyDrive/Colab Notebooks/ANN and CNN/dermofit/mic_normal_2/Ekran görüntüsü 2021-03-29 005256.png', '/content/drive/MyDrive/Colab Notebooks/ANN and CNN/dermofit/mic_normal_2/Ekran görüntüsü 2021-03-29 010212.png', '/content/drive/MyDrive/Colab Notebooks/ANN and CNN/dermofit/mic_normal_2/Ekran görüntüsü 2021-03-29 011032.png', '/content/drive/MyDrive/Colab Notebooks/ANN and CNN/dermofit/mic_normal_2/Ekran görüntüsü 2021-03-29 011853.png', '/content/drive/MyDrive/Colab Notebooks/ANN and CNN/dermofit/mic_normal_2/Ekran görüntüsü 2021-03-29 011912.png', '/content/drive/MyDrive/Colab Notebooks/ANN and CNN/dermofit/mic_normal_2/Ekran görüntüsü 2021-03-29 012052.png', '/content/drive/MyDrive/Colab Notebooks/ANN and CNN/dermofit/mic_normal_2/Ekran görüntüsü 2021-03-29 012358.png', '/content/drive/MyDrive/Colab Notebooks/ANN and CNN/dermofit/mic_normal_2/Ekran görüntüsü 2021-03-29 012444.png', '/content/drive/MyDrive/Colab Notebooks/ANN and CNN/dermofit/mic_normal_2/Ekran görüntüsü 2021-03-29 012902.png', '/content/drive/MyDrive/Colab Notebooks/ANN and CNN/dermofit/mic_normal_2/Ekran görüntüsü 2021-03-29 013021.png', '/content/drive/MyDrive/Colab Notebooks/ANN and CNN/dermofit/mic_normal_2/Ekran görüntüsü 2021-03-29 014635.png', '/content/drive/MyDrive/Colab Notebooks/ANN and CNN/dermofit/mic_normal_2/Ekran görüntüsü 2021-03-29 014720.png', '/content/drive/MyDrive/Colab Notebooks/ANN and CNN/dermofit/mic_normal_2/Ekran görüntüsü 2021-03-29 015400.png', '/content/drive/MyDrive/Colab Notebooks/ANN and CNN/dermofit/mic_normal_2/c1.png', '/content/drive/MyDrive/Colab Notebooks/ANN and CNN/dermofit/mic_normal_2/c3.png', '/content/drive/MyDrive/Colab Notebooks/ANN and CNN/dermofit/mic_normal_2/c4.png', '/content/drive/MyDrive/Colab Notebooks/ANN and CNN/dermofit/mic_normal_2/c6.png', '/content/drive/MyDrive/Colab Notebooks/ANN and CNN/dermofit/mic_normal_2/c8.png', '/content/drive/MyDrive/Colab Notebooks/ANN and CNN/dermofit/mic_normal_2/c10.png', '/content/drive/MyDrive/Colab Notebooks/ANN and CNN/dermofit/mic_normal_2/c11.png', '/content/drive/MyDrive/Colab Notebooks/ANN and CNN/dermofit/mic_normal_2/c12.png', '/content/drive/MyDrive/Colab Notebooks/ANN and CNN/dermofit/mic_normal_2/c13.png', '/content/drive/MyDrive/Colab Notebooks/ANN and CNN/dermofit/mic_normal_2/c15.png', '/content/drive/MyDrive/Colab Notebooks/ANN and CNN/dermofit/mic_normal_2/c16.png', '/content/drive/MyDrive/Colab Notebooks/ANN and CNN/dermofit/mic_normal_2/c17.png', '/content/drive/MyDrive/Colab Notebooks/ANN and CNN/dermofit/mic_normal_2/c20.png', '/content/drive/MyDrive/Colab Notebooks/ANN and CNN/dermofit/mic_normal_2/c21.png', '/content/drive/MyDrive/Colab Notebooks/ANN and CNN/dermofit/mic_normal_2/c30.png', '/content/drive/MyDrive/Colab Notebooks/ANN and CNN/dermofit/mic_normal_2/c31.png', '/content/drive/MyDrive/Colab Notebooks/ANN and CNN/dermofit/mic_normal_2/c32.png', '/content/drive/MyDrive/Colab Notebooks/ANN and CNN/dermofit/mic_normal_2/c33.png', '/content/drive/MyDrive/Colab Notebooks/ANN and CNN/dermofit/mic_normal_2/c36.png', '/content/drive/MyDrive/Colab Notebooks/ANN and CNN/dermofit/mic_normal_2/c37.png', '/content/drive/MyDrive/Colab Notebooks/ANN and CNN/dermofit/mic_normal_2/c38.png', '/content/drive/MyDrive/Colab Notebooks/ANN and CNN/dermofit/mic_normal_2/c39.png', '/content/drive/MyDrive/Colab Notebooks/ANN and CNN/dermofit/mic_normal_2/c40.png', '/content/drive/MyDrive/Colab Notebooks/ANN and CNN/dermofit/mic_normal_2/c44.png', '/content/drive/MyDrive/Colab Notebooks/ANN and CNN/dermofit/mic_normal_2/c45.png', '/content/drive/MyDrive/Colab Notebooks/ANN and CNN/dermofit/mic_normal_2/c46.png', '/content/drive/MyDrive/Colab Notebooks/ANN and CNN/dermofit/mic_normal_2/c47.png', '/content/drive/MyDrive/Colab Notebooks/ANN and CNN/dermofit/mic_normal_2/c48.png', '/content/drive/MyDrive/Colab Notebooks/ANN and CNN/dermofit/mic_normal_2/c49.png', '/content/drive/MyDrive/Colab Notebooks/ANN and CNN/dermofit/mic_normal_2/c50.png', '/content/drive/MyDrive/Colab Notebooks/ANN and CNN/dermofit/mic_normal_2/c51.png', '/content/drive/MyDrive/Colab Notebooks/ANN and CNN/dermofit/mic_normal_2/c52.png', '/content/drive/MyDrive/Colab Notebooks/ANN and CNN/dermofit/mic_normal_2/c53.png', '/content/drive/MyDrive/Colab Notebooks/ANN and CNN/dermofit/mic_normal_2/c54.png', '/content/drive/MyDrive/Colab Notebooks/ANN and CNN/dermofit/mic_normal_2/c55.png', '/content/drive/MyDrive/Colab Notebooks/ANN and CNN/dermofit/mic_normal_2/c56.png', '/content/drive/MyDrive/Colab Notebooks/ANN and CNN/dermofit/mic_normal_2/c57.png', '/content/drive/MyDrive/Colab Notebooks/ANN and CNN/dermofit/mic_normal_2/c58.png', '/content/drive/MyDrive/Colab Notebooks/ANN and CNN/dermofit/mic_normal_2/c59.png', '/content/drive/MyDrive/Colab Notebooks/ANN and CNN/dermofit/mic_normal_2/c60.png', '/content/drive/MyDrive/Colab Notebooks/ANN and CNN/dermofit/mic_normal_2/c61.png', '/content/drive/MyDrive/Colab Notebooks/ANN and CNN/dermofit/mic_normal_2/c62.png', '/content/drive/MyDrive/Colab Notebooks/ANN and CNN/dermofit/mic_normal_2/c63.png', '/content/drive/MyDrive/Colab Notebooks/ANN and CNN/dermofit/mic_normal_2/c64.png', '/content/drive/MyDrive/Colab Notebooks/ANN and CNN/dermofit/mic_normal_2/c65.png', '/content/drive/MyDrive/Colab Notebooks/ANN and CNN/dermofit/mic_normal_2/c66.png', '/content/drive/MyDrive/Colab Notebooks/ANN and CNN/dermofit/mic_normal_2/c67.png', '/content/drive/MyDrive/Colab Notebooks/ANN and CNN/dermofit/mic_normal_2/c68.png', '/content/drive/MyDrive/Colab Notebooks/ANN and CNN/dermofit/mic_normal_2/c69.png', '/content/drive/MyDrive/Colab Notebooks/ANN and CNN/dermofit/mic_normal_2/c70.png', '/content/drive/MyDrive/Colab Notebooks/ANN and CNN/dermofit/mic_normal_2/c71.png', '/content/drive/MyDrive/Colab Notebooks/ANN and CNN/dermofit/mic_normal_2/c72.png', '/content/drive/MyDrive/Colab Notebooks/ANN and CNN/dermofit/mic_normal_2/c73.png', '/content/drive/MyDrive/Colab Notebooks/ANN and CNN/dermofit/mic_normal_2/c74.png', '/content/drive/MyDrive/Colab Notebooks/ANN and CNN/dermofit/mic_normal_2/c75.png', '/content/drive/MyDrive/Colab Notebooks/ANN and CNN/dermofit/mic_normal_2/c76.png', '/content/drive/MyDrive/Colab Notebooks/ANN and CNN/dermofit/mic_normal_2/c77.png', '/content/drive/MyDrive/Colab Notebooks/ANN and CNN/dermofit/mic_normal_2/c78.png']\n"
          ]
        }
      ]
    },
    {
      "cell_type": "code",
      "source": [
        "canis= []\n",
        "rubrum = []\n",
        "\n",
        "\n",
        "for i in img_list_c:\n",
        "  img = cv2.imread(i)\n",
        "  n_img_size = cv2.resize(img, (75,75), interpolation = cv2.INTER_LINEAR)\n",
        "  canis.append([n_img_size,0])\n",
        "for i in img_list_r:\n",
        "  img = cv2.imread(i)\n",
        "  n_img_size = cv2.resize(img, (75,75), interpolation = cv2.INTER_LINEAR)\n",
        "  rubrum.append([n_img_size,1])\n"
      ],
      "metadata": {
        "id": "ubxFDDfdYUpc"
      },
      "execution_count": null,
      "outputs": []
    },
    {
      "cell_type": "code",
      "source": [
        "X = []\n",
        "y = []\n",
        "\n",
        "image = np.concatenate((canis, rubrum))\n",
        "random.shuffle(image)\n",
        "\n",
        "for feature, label in image:\n",
        "    X.append(feature)\n",
        "    y.append(label)\n",
        "    \n",
        "X = np.array(X)\n",
        "y = np.array(y)\n",
        "y"
      ],
      "metadata": {
        "colab": {
          "base_uri": "https://localhost:8080/"
        },
        "id": "bhCZXAZ9sRYG",
        "outputId": "76a8a364-bb15-4049-c8c5-0ed5c856e513"
      },
      "execution_count": null,
      "outputs": [
        {
          "output_type": "stream",
          "name": "stderr",
          "text": [
            "<string>:6: VisibleDeprecationWarning: Creating an ndarray from ragged nested sequences (which is a list-or-tuple of lists-or-tuples-or ndarrays with different lengths or shapes) is deprecated. If you meant to do this, you must specify 'dtype=object' when creating the ndarray.\n"
          ]
        },
        {
          "output_type": "execute_result",
          "data": {
            "text/plain": [
              "array([0, 0, 0, 0, 0, 0, 0, 0, 0, 0, 0, 0, 0, 0, 0, 0, 0, 0, 0, 0, 0, 0,\n",
              "       0, 0, 0, 0, 0, 0, 0, 0, 0, 0, 0, 0, 0, 0, 0, 0, 0, 0, 0, 0, 0, 0,\n",
              "       0, 0, 0, 0, 0, 0, 0, 0, 0, 0, 0, 0, 0, 0, 0, 0, 0, 0, 0, 0, 0, 0,\n",
              "       0, 0, 0, 0, 0, 0, 0, 0, 0, 0, 0, 0, 0, 0, 0, 0, 0, 0, 0, 0, 0, 0,\n",
              "       0, 0, 0, 0, 0, 0, 0, 0, 0, 0, 0, 0, 0, 0, 0, 0, 0, 0, 0, 0, 0, 0,\n",
              "       0, 0, 0, 0, 0, 0, 0, 0, 0, 0, 0, 0, 0, 0, 0, 0, 0, 0, 0, 0, 0, 0,\n",
              "       0, 0, 0, 0, 0, 0, 0, 0, 0, 0, 0, 0, 0, 0, 0, 0, 0, 0, 0, 0, 0, 0,\n",
              "       0, 0, 0, 0, 0, 0, 0, 0, 0, 0, 0, 0, 0, 0, 0, 0, 0, 0, 0, 0, 0, 0,\n",
              "       0, 0, 0, 0, 0, 0, 0, 0, 0, 0, 0, 0, 0, 0, 0, 0, 0, 0, 0, 0, 0, 0,\n",
              "       0, 0, 0, 0, 0, 0, 0, 0, 0, 0, 0, 0, 0, 0, 0, 0, 0, 0, 0, 0, 0, 0,\n",
              "       0, 0, 0, 0, 0, 0, 0, 0, 0, 0, 0, 0, 0, 0, 0, 0, 0, 0, 0, 0, 0, 0,\n",
              "       0, 0, 0, 0, 0, 0, 0, 0, 0, 0, 0, 0, 0, 0, 0, 0, 0, 0, 0, 0, 0, 0,\n",
              "       0, 0, 0, 0, 0, 0, 0, 0, 0, 0, 0, 0, 0, 0, 0, 0, 0, 0, 0, 0, 1, 0,\n",
              "       0, 0, 0, 0, 0, 0, 1, 0, 0, 0, 0, 0, 0, 0, 0, 0, 0, 0, 0, 0, 0, 0,\n",
              "       0, 0, 1, 0, 0, 0, 0, 0, 0, 0, 0, 0, 0, 0, 0, 1, 0, 0, 1, 0, 0, 0,\n",
              "       0, 0, 1, 0, 0, 0, 0, 1, 0, 0, 1, 0, 0, 1, 0, 0, 0, 1, 0, 0, 0, 0,\n",
              "       1, 1, 0, 0, 0, 1, 0, 0, 1, 0, 1, 0, 0, 0, 0, 1, 0, 0, 0, 0, 0, 0,\n",
              "       0, 0, 0, 0, 0, 0, 0, 1, 0, 0, 0, 0, 1, 1, 0, 1, 1, 0, 0, 0, 0, 1,\n",
              "       0, 1, 0, 0, 0, 0, 0, 1, 0, 0, 0, 0, 1, 0, 0, 0, 0, 0, 0, 1, 0, 1,\n",
              "       0, 0, 0, 0, 1, 0, 0, 0, 0, 0, 0, 0, 0, 0, 1, 1, 0, 0, 0, 0, 1, 1,\n",
              "       1, 0, 1, 0, 1, 0, 0, 0, 0, 1, 0, 0, 0, 0, 1, 1, 1, 0, 0, 0, 0, 1,\n",
              "       0, 1, 0, 1, 0, 1, 1, 0, 0, 0, 0, 1, 1, 0, 1, 1, 0, 0, 1, 0, 1, 0,\n",
              "       0, 0, 0, 0, 0, 0, 0, 0, 0, 1, 1, 1, 0, 1, 0, 0, 1, 0, 0, 0, 1, 1,\n",
              "       0, 1, 1, 0, 1, 0, 1, 0, 1, 1, 0, 1, 0, 1, 1, 0, 1, 1, 0, 0, 1, 0,\n",
              "       0, 0, 0, 1, 0, 0, 0, 0, 0, 1, 0, 1, 1, 1, 0, 0, 0, 1, 0, 1, 1, 0,\n",
              "       0, 1, 1, 1, 1, 0, 0, 1, 0, 0, 0, 0, 0, 1, 0, 0, 1, 0, 0, 1, 0, 0,\n",
              "       0, 0, 0, 1, 1, 0, 0, 1, 1, 1, 0, 1, 0, 0, 1, 0, 1, 1, 1, 1, 0, 0,\n",
              "       0, 0, 1, 0, 0, 1, 1, 1, 0, 1, 0, 1, 0, 0, 0, 1, 1, 0, 1, 1, 0, 0,\n",
              "       1, 1, 1, 1, 0, 1, 1, 0, 0, 0, 1, 1, 1, 0, 1, 0, 0, 0, 0, 0, 1, 1,\n",
              "       1, 0, 0, 1, 0, 0, 1, 1, 0, 0, 1, 0, 1, 0, 1, 1, 0, 0, 1, 0, 1, 1,\n",
              "       1, 1, 1, 1, 1, 1, 0, 0, 1, 0, 1, 1, 1, 1, 1, 1, 0, 0, 0, 1, 0, 0,\n",
              "       1, 1, 0, 1, 0, 1, 0, 1, 0, 1, 1, 0, 1, 1, 1, 1, 1, 0, 0, 0, 1, 1,\n",
              "       1, 1, 0, 0, 1, 1, 0, 1, 0, 0, 0, 0, 0, 1, 1, 1, 1, 1, 1, 0, 1, 1,\n",
              "       1, 1, 0, 1, 1, 1, 0, 1, 1, 1, 1, 1, 1, 1, 1, 1, 0, 1, 1, 1, 1, 0,\n",
              "       1, 1, 0, 0, 0, 0, 1, 1, 0, 1, 1, 1, 0, 1, 1, 0, 1, 1, 1, 0, 1, 1,\n",
              "       1, 0, 0, 1, 1, 0, 1, 0, 0, 1, 1, 1, 0, 1, 1, 0, 1, 0, 0, 0, 1, 0,\n",
              "       1, 1, 1, 1, 1, 0, 1, 0, 0, 1, 0, 1, 0, 1, 1, 1, 1, 0, 1, 0, 1, 0,\n",
              "       1, 1, 1, 0, 1, 1, 1, 1, 0, 1, 0, 0, 1, 1, 1, 0, 1, 1, 1, 0, 0, 0,\n",
              "       1, 1, 1, 0, 1, 1, 1, 1, 0, 0, 1, 1, 1, 0, 1, 1, 1, 1, 1, 1, 1, 0,\n",
              "       0, 1, 1, 1, 1, 1, 0, 1, 1, 0, 1, 1, 1, 0, 0, 0, 1, 0, 1, 0, 0, 1,\n",
              "       1, 1, 0, 1, 1, 1, 1, 1, 1, 1, 1, 1, 0, 0, 1, 0, 0, 0, 0, 1, 1, 1,\n",
              "       1, 0, 1, 1, 0, 1, 0, 1, 1, 1, 0, 1, 0, 1, 0, 1, 1, 1, 0, 0, 1, 1,\n",
              "       1, 1, 0, 1, 1, 1, 1, 0, 1, 1, 0, 1, 0, 1, 0, 1, 1, 1, 0, 1, 1, 1,\n",
              "       1, 1, 1, 1, 1])"
            ]
          },
          "metadata": {},
          "execution_count": 49
        }
      ]
    },
    {
      "cell_type": "code",
      "source": [
        "from sklearn.model_selection import train_test_split\n",
        "X_train, X_predict, y_train, y_true  = train_test_split(X,y,shuffle=False, test_size=0.2, random_state=42)\n",
        "print(\"X train\",len(X_train))\n",
        "print(\"X predict\",len(X_predict))\n",
        "print(\"y train\",len(y_train))\n",
        "print(\"y true\",len(y_true))\n"
      ],
      "metadata": {
        "colab": {
          "base_uri": "https://localhost:8080/"
        },
        "id": "OWkdN48CR0WT",
        "outputId": "73e4ac9e-1bbb-465c-a79c-91e7e4a1d84a"
      },
      "execution_count": null,
      "outputs": [
        {
          "output_type": "stream",
          "name": "stdout",
          "text": [
            "X train 760\n",
            "X predict 191\n",
            "y train 760\n",
            "y true 191\n"
          ]
        }
      ]
    },
    {
      "cell_type": "code",
      "source": [
        "from sklearn.metrics import confusion_matrix\n",
        "import itertools\n",
        "\n",
        "from keras.utils.np_utils import to_categorical # convert to one-hot-encoding\n",
        "from keras.models import Sequential\n",
        "from keras.layers import Dense, Dropout, Flatten, Conv2D, MaxPool2D\n",
        "\n",
        "from keras.preprocessing.image import ImageDataGenerator\n",
        "from keras.callbacks import ReduceLROnPlateau\n",
        "\n",
        "model = Sequential()\n",
        "#\n",
        "model.add(Conv2D(filters = 8, kernel_size = (5,5),padding = 'Same', \n",
        "                 activation ='relu', input_shape = (75,75,3)))\n",
        "model.add(MaxPool2D(pool_size=(2,2)))\n",
        "model.add(Dropout(0.25))\n",
        "#\n",
        "model.add(Conv2D(filters = 16, kernel_size = (3,3),padding = 'Same', \n",
        "                 activation ='relu' , input_shape = (75,75,3) ))\n",
        "model.add(MaxPool2D(pool_size=(2,2), strides=(2,2)))\n",
        "model.add(Dropout(0.25))\n",
        "# fully connected\n",
        "model.add(Flatten())\n",
        "model.add(Dense(256, activation = \"relu\"))\n",
        "model.add(Dropout(0.5))\n",
        "model.add(Dense(2, activation = \"softmax\"))"
      ],
      "metadata": {
        "id": "EFkWC4-I8no3"
      },
      "execution_count": null,
      "outputs": []
    },
    {
      "cell_type": "code",
      "source": [
        "model.compile(optimizer='adam',loss = tf.keras.losses.SparseCategoricalCrossentropy(from_logits=True), metrics=['accuracy'])"
      ],
      "metadata": {
        "id": "FdMvLjP78xuy"
      },
      "execution_count": null,
      "outputs": []
    },
    {
      "cell_type": "code",
      "source": [
        "datagen = ImageDataGenerator(\n",
        "        featurewise_center=False,  # set input mean to 0 over the dataset\n",
        "        samplewise_center=False,  # set each sample mean to 0\n",
        "        featurewise_std_normalization=False,  # divide inputs by std of the dataset\n",
        "        samplewise_std_normalization=False,  # divide each input by its std\n",
        "        zca_whitening=False,  # dimesion reduction\n",
        "        rotation_range=5,  # randomly rotate images in the range 5 degrees\n",
        "        zoom_range = 0.1, # Randomly zoom image 10%\n",
        "        width_shift_range=0.1,  # randomly shift images horizontally 10%\n",
        "        height_shift_range=0.1,  # randomly shift images vertically 10%\n",
        "        horizontal_flip=False,  # randomly flip images\n",
        "        vertical_flip=False)  # randomly flip images\n",
        "\n",
        "datagen.fit(X_train)"
      ],
      "metadata": {
        "id": "IgAQln5k82tB"
      },
      "execution_count": null,
      "outputs": []
    },
    {
      "cell_type": "code",
      "source": [
        "history = model.fit(X_train, y_train, validation_data = (X_predict, y_true), epochs = 20, batch_size = 50)"
      ],
      "metadata": {
        "id": "We2DPQQZ85QP",
        "colab": {
          "base_uri": "https://localhost:8080/"
        },
        "outputId": "1c6793b8-ffb9-460c-ad5b-f2979abd7f00"
      },
      "execution_count": null,
      "outputs": [
        {
          "output_type": "stream",
          "name": "stdout",
          "text": [
            "Epoch 1/20\n"
          ]
        },
        {
          "output_type": "stream",
          "name": "stderr",
          "text": [
            "/usr/local/lib/python3.7/dist-packages/tensorflow/python/util/dispatch.py:1082: UserWarning: \"`sparse_categorical_crossentropy` received `from_logits=True`, but the `output` argument was produced by a sigmoid or softmax activation and thus does not represent logits. Was this intended?\"\n",
            "  return dispatch_target(*args, **kwargs)\n"
          ]
        },
        {
          "output_type": "stream",
          "name": "stdout",
          "text": [
            "16/16 [==============================] - 5s 252ms/step - loss: 156.0430 - accuracy: 0.6211 - val_loss: 5.0109 - val_accuracy: 0.3351\n",
            "Epoch 2/20\n",
            "16/16 [==============================] - 4s 241ms/step - loss: 11.8851 - accuracy: 0.6342 - val_loss: 2.4853 - val_accuracy: 0.3874\n",
            "Epoch 3/20\n",
            "16/16 [==============================] - 4s 240ms/step - loss: 2.4932 - accuracy: 0.6197 - val_loss: 1.5878 - val_accuracy: 0.3455\n",
            "Epoch 4/20\n",
            "16/16 [==============================] - 4s 237ms/step - loss: 0.8156 - accuracy: 0.6829 - val_loss: 0.8624 - val_accuracy: 0.3979\n",
            "Epoch 5/20\n",
            "16/16 [==============================] - 4s 239ms/step - loss: 0.5701 - accuracy: 0.7645 - val_loss: 0.7419 - val_accuracy: 0.3927\n",
            "Epoch 6/20\n",
            "16/16 [==============================] - 4s 239ms/step - loss: 0.5455 - accuracy: 0.7500 - val_loss: 0.7862 - val_accuracy: 0.3717\n",
            "Epoch 7/20\n",
            "16/16 [==============================] - 4s 239ms/step - loss: 0.5178 - accuracy: 0.7697 - val_loss: 0.6916 - val_accuracy: 0.4660\n",
            "Epoch 8/20\n",
            "16/16 [==============================] - 4s 239ms/step - loss: 0.4904 - accuracy: 0.7684 - val_loss: 0.7700 - val_accuracy: 0.4136\n",
            "Epoch 9/20\n",
            "16/16 [==============================] - 4s 240ms/step - loss: 0.4741 - accuracy: 0.7776 - val_loss: 0.6942 - val_accuracy: 0.4869\n",
            "Epoch 10/20\n",
            "16/16 [==============================] - 4s 240ms/step - loss: 0.4869 - accuracy: 0.7868 - val_loss: 0.7195 - val_accuracy: 0.4764\n",
            "Epoch 11/20\n",
            "16/16 [==============================] - 4s 241ms/step - loss: 0.4635 - accuracy: 0.7855 - val_loss: 0.7089 - val_accuracy: 0.5026\n",
            "Epoch 12/20\n",
            "16/16 [==============================] - 4s 239ms/step - loss: 0.4295 - accuracy: 0.8171 - val_loss: 0.6908 - val_accuracy: 0.5707\n",
            "Epoch 13/20\n",
            "16/16 [==============================] - 4s 236ms/step - loss: 0.4370 - accuracy: 0.8039 - val_loss: 0.7501 - val_accuracy: 0.4817\n",
            "Epoch 14/20\n",
            "16/16 [==============================] - 4s 239ms/step - loss: 0.4046 - accuracy: 0.8079 - val_loss: 0.7355 - val_accuracy: 0.5288\n",
            "Epoch 15/20\n",
            "16/16 [==============================] - 4s 239ms/step - loss: 0.3981 - accuracy: 0.8224 - val_loss: 0.7381 - val_accuracy: 0.4869\n",
            "Epoch 16/20\n",
            "16/16 [==============================] - 4s 239ms/step - loss: 0.4034 - accuracy: 0.8211 - val_loss: 0.7469 - val_accuracy: 0.5079\n",
            "Epoch 17/20\n",
            "16/16 [==============================] - 4s 240ms/step - loss: 0.3689 - accuracy: 0.8329 - val_loss: 0.7067 - val_accuracy: 0.5759\n",
            "Epoch 18/20\n",
            "16/16 [==============================] - 4s 240ms/step - loss: 0.3635 - accuracy: 0.8408 - val_loss: 0.7493 - val_accuracy: 0.5759\n",
            "Epoch 19/20\n",
            "16/16 [==============================] - 4s 239ms/step - loss: 0.3609 - accuracy: 0.8447 - val_loss: 0.7299 - val_accuracy: 0.5550\n",
            "Epoch 20/20\n",
            "16/16 [==============================] - 6s 368ms/step - loss: 0.3502 - accuracy: 0.8368 - val_loss: 0.6540 - val_accuracy: 0.6126\n"
          ]
        }
      ]
    },
    {
      "cell_type": "code",
      "source": [
        "from sklearn.metrics import confusion_matrix\n",
        "import seaborn as sns\n",
        "\n",
        "Y_pred = model.predict(X_predict)\n",
        "Y_pred_classes = np.argmax(Y_pred,axis = 1) \n",
        "\n",
        "\n",
        "confusion_mtx = confusion_matrix(y_true, Y_pred_classes) \n",
        "\n",
        "f,ax = plt.subplots(figsize=(8, 8))\n",
        "sns.heatmap(confusion_mtx, annot=True, linewidths=0.01,cmap=\"OrRd\",linecolor=\"black\", fmt= '.1f',ax=ax)\n",
        "plt.xlabel(\"Predicted Label\")\n",
        "plt.ylabel(\"True Label\")\n",
        "plt.title(\"Confusion Matrix\")\n",
        "plt.show()"
      ],
      "metadata": {
        "colab": {
          "base_uri": "https://localhost:8080/",
          "height": 513
        },
        "id": "h8wOZeNBbQSl",
        "outputId": "6ea62300-fc31-4d0e-d906-fb4f8fd3e047"
      },
      "execution_count": null,
      "outputs": [
        {
          "output_type": "display_data",
          "data": {
            "text/plain": [
              "<Figure size 576x576 with 2 Axes>"
            ],
            "image/png": "[encoded data removed]"
          },
          "metadata": {
            "needs_background": "light"
          }
        }
      ]
    },
    {
      "cell_type": "code",
      "source": [
        "from sklearn.metrics import classification_report\n",
        "\n",
        "print(classification_report(y_true, Y_pred_classes))"
      ],
      "metadata": {
        "colab": {
          "base_uri": "https://localhost:8080/"
        },
        "id": "95HCGdzjbQFo",
        "outputId": "9358e2a3-ca91-4bd4-c943-871ec4509d17"
      },
      "execution_count": null,
      "outputs": [
        {
          "output_type": "stream",
          "name": "stdout",
          "text": [
            "              precision    recall  f1-score   support\n",
            "\n",
            "           0       0.47      1.00      0.64        65\n",
            "           1       1.00      0.41      0.58       126\n",
            "\n",
            "    accuracy                           0.61       191\n",
            "   macro avg       0.73      0.71      0.61       191\n",
            "weighted avg       0.82      0.61      0.60       191\n",
            "\n"
          ]
        }
      ]
    },
    {
      "cell_type": "markdown",
      "source": [
        "# Riskli Gruplarla CNN modeli"
      ],
      "metadata": {
        "id": "PtsfLZ7yApt7"
      }
    },
    {
      "cell_type": "code",
      "source": [
        "yol2 = \"/content/drive/MyDrive/Colab Notebooks/ANN and CNN/riskli\"\n",
        "list_yol2 = os.listdir(yol2)\n",
        "len(list_yol2)"
      ],
      "metadata": {
        "id": "Lw2hdlbWAvEI",
        "colab": {
          "base_uri": "https://localhost:8080/"
        },
        "outputId": "3542cbb3-7ed7-42f0-afbe-bb58a7a658c4"
      },
      "execution_count": null,
      "outputs": [
        {
          "output_type": "execute_result",
          "data": {
            "text/plain": [
              "2"
            ]
          },
          "metadata": {},
          "execution_count": 16
        }
      ]
    },
    {
      "cell_type": "code",
      "source": [
        "img_c= glob.glob(\"/content/drive/MyDrive/Colab Notebooks/ANN and CNN/riskli/mic/*.png\")\n",
        "print(img_c)\n",
        "img_r= glob.glob(\"/content/drive/MyDrive/Colab Notebooks/ANN and CNN/riskli/rubrum/*.png\")\n"
      ],
      "metadata": {
        "id": "9z9VeX0NDjLJ",
        "colab": {
          "base_uri": "https://localhost:8080/"
        },
        "outputId": "8df03abb-e6ca-4efc-9421-3d159e95e7a7"
      },
      "execution_count": null,
      "outputs": [
        {
          "output_type": "stream",
          "name": "stdout",
          "text": [
            "['/content/drive/MyDrive/Colab Notebooks/ANN and CNN/riskli/mic/Ekran görüntüsü 2021-03-26 111441 (2).png', '/content/drive/MyDrive/Colab Notebooks/ANN and CNN/riskli/mic/Ekran görüntüsü 2021-03-26 111441.png', '/content/drive/MyDrive/Colab Notebooks/ANN and CNN/riskli/mic/su damlası.png', '/content/drive/MyDrive/Colab Notebooks/ANN and CNN/riskli/mic/su damlası (2).png', '/content/drive/MyDrive/Colab Notebooks/ANN and CNN/riskli/mic/Ekran görüntüsü 2021-03-26 111759 (2).png', '/content/drive/MyDrive/Colab Notebooks/ANN and CNN/riskli/mic/Ekran görüntüsü 2021-03-26 111759.png', '/content/drive/MyDrive/Colab Notebooks/ANN and CNN/riskli/mic/güle benzeyen.png', '/content/drive/MyDrive/Colab Notebooks/ANN and CNN/riskli/mic/güle benzeyen (2).png', '/content/drive/MyDrive/Colab Notebooks/ANN and CNN/riskli/mic/Ekran görüntüsü 2021-03-26 112114.png', '/content/drive/MyDrive/Colab Notebooks/ANN and CNN/riskli/mic/Ekran görüntüsü 2021-03-26 112114 (2).png', '/content/drive/MyDrive/Colab Notebooks/ANN and CNN/riskli/mic/Ekran görüntüsü 2021-03-26 112701.png', '/content/drive/MyDrive/Colab Notebooks/ANN and CNN/riskli/mic/Ekran görüntüsü 2021-03-26 112701 (2).png', '/content/drive/MyDrive/Colab Notebooks/ANN and CNN/riskli/mic/Ekran görüntüsü 2021-03-26 113051 (2).png', '/content/drive/MyDrive/Colab Notebooks/ANN and CNN/riskli/mic/Ekran görüntüsü 2021-03-26 113051.png', '/content/drive/MyDrive/Colab Notebooks/ANN and CNN/riskli/mic/Ekran görüntüsü 2021-03-26 113112 (2).png', '/content/drive/MyDrive/Colab Notebooks/ANN and CNN/riskli/mic/Ekran görüntüsü 2021-03-26 113112.png', '/content/drive/MyDrive/Colab Notebooks/ANN and CNN/riskli/mic/Ekran görüntüsü 2021-03-26 113145.png', '/content/drive/MyDrive/Colab Notebooks/ANN and CNN/riskli/mic/Ekran görüntüsü 2021-03-26 113145 (2).png', '/content/drive/MyDrive/Colab Notebooks/ANN and CNN/riskli/mic/Ekran görüntüsü 2021-03-26 113214 (2).png', '/content/drive/MyDrive/Colab Notebooks/ANN and CNN/riskli/mic/Ekran görüntüsü 2021-03-26 113214.png', '/content/drive/MyDrive/Colab Notebooks/ANN and CNN/riskli/mic/Ekran görüntüsü 2021-03-26 113258.png', '/content/drive/MyDrive/Colab Notebooks/ANN and CNN/riskli/mic/Ekran görüntüsü 2021-03-26 113258 (2).png', '/content/drive/MyDrive/Colab Notebooks/ANN and CNN/riskli/mic/Ekran görüntüsü 2021-03-26 113519.png', '/content/drive/MyDrive/Colab Notebooks/ANN and CNN/riskli/mic/Ekran görüntüsü 2021-03-26 113519 (2).png', '/content/drive/MyDrive/Colab Notebooks/ANN and CNN/riskli/mic/Ekran görüntüsü 2021-03-26 113547.png', '/content/drive/MyDrive/Colab Notebooks/ANN and CNN/riskli/mic/Ekran görüntüsü 2021-03-26 113547 (2).png', '/content/drive/MyDrive/Colab Notebooks/ANN and CNN/riskli/mic/Ekran görüntüsü 2021-03-26 113559.png', '/content/drive/MyDrive/Colab Notebooks/ANN and CNN/riskli/mic/Ekran görüntüsü 2021-03-26 113559 (2).png', '/content/drive/MyDrive/Colab Notebooks/ANN and CNN/riskli/mic/Ekran görüntüsü 2021-03-26 113719.png', '/content/drive/MyDrive/Colab Notebooks/ANN and CNN/riskli/mic/Ekran görüntüsü 2021-03-26 113719 (2).png', '/content/drive/MyDrive/Colab Notebooks/ANN and CNN/riskli/mic/Ekran görüntüsü 2021-03-26 113737.png', '/content/drive/MyDrive/Colab Notebooks/ANN and CNN/riskli/mic/Ekran görüntüsü 2021-03-26 113737 (2).png', '/content/drive/MyDrive/Colab Notebooks/ANN and CNN/riskli/mic/Ekran görüntüsü 2021-03-26 113755.png', '/content/drive/MyDrive/Colab Notebooks/ANN and CNN/riskli/mic/Ekran görüntüsü 2021-03-26 113755 (2).png', '/content/drive/MyDrive/Colab Notebooks/ANN and CNN/riskli/mic/ortadaki beyazlık (2).png', '/content/drive/MyDrive/Colab Notebooks/ANN and CNN/riskli/mic/ortadaki beyazlık.png', '/content/drive/MyDrive/Colab Notebooks/ANN and CNN/riskli/mic/Ekran görüntüsü 2021-03-26 114100.png', '/content/drive/MyDrive/Colab Notebooks/ANN and CNN/riskli/mic/Ekran görüntüsü 2021-03-26 114100 (2).png', '/content/drive/MyDrive/Colab Notebooks/ANN and CNN/riskli/mic/Ekran görüntüsü 2021-03-26 115153 (2).png', '/content/drive/MyDrive/Colab Notebooks/ANN and CNN/riskli/mic/Ekran görüntüsü 2021-03-26 115153.png', '/content/drive/MyDrive/Colab Notebooks/ANN and CNN/riskli/mic/Ekran görüntüsü 2021-03-26 115225 (2).png', '/content/drive/MyDrive/Colab Notebooks/ANN and CNN/riskli/mic/Ekran görüntüsü 2021-03-26 115225.png', '/content/drive/MyDrive/Colab Notebooks/ANN and CNN/riskli/mic/Ekran görüntüsü 2021-03-26 115254.png', '/content/drive/MyDrive/Colab Notebooks/ANN and CNN/riskli/mic/Ekran görüntüsü 2021-03-26 115254 (2).png', '/content/drive/MyDrive/Colab Notebooks/ANN and CNN/riskli/mic/Ekran görüntüsü 2021-03-26 115426.png', '/content/drive/MyDrive/Colab Notebooks/ANN and CNN/riskli/mic/Ekran görüntüsü 2021-03-26 115426 (2).png', '/content/drive/MyDrive/Colab Notebooks/ANN and CNN/riskli/mic/Ekran görüntüsü 2021-03-26 115656 (2).png', '/content/drive/MyDrive/Colab Notebooks/ANN and CNN/riskli/mic/Ekran görüntüsü 2021-03-26 115656.png', '/content/drive/MyDrive/Colab Notebooks/ANN and CNN/riskli/mic/Ekran görüntüsü 2021-03-26 115750 (2).png', '/content/drive/MyDrive/Colab Notebooks/ANN and CNN/riskli/mic/Ekran görüntüsü 2021-03-26 115750.png', '/content/drive/MyDrive/Colab Notebooks/ANN and CNN/riskli/mic/Ekran görüntüsü 2021-03-26 115902.png', '/content/drive/MyDrive/Colab Notebooks/ANN and CNN/riskli/mic/Ekran görüntüsü 2021-03-26 115902 (2).png', '/content/drive/MyDrive/Colab Notebooks/ANN and CNN/riskli/mic/Ekran görüntüsü 2021-03-26 120329.png', '/content/drive/MyDrive/Colab Notebooks/ANN and CNN/riskli/mic/Ekran görüntüsü 2021-03-26 120329 (2).png', '/content/drive/MyDrive/Colab Notebooks/ANN and CNN/riskli/mic/Ekran görüntüsü 2021-03-26 120346.png', '/content/drive/MyDrive/Colab Notebooks/ANN and CNN/riskli/mic/Ekran görüntüsü 2021-03-26 120346 (2).png', '/content/drive/MyDrive/Colab Notebooks/ANN and CNN/riskli/mic/Ekran görüntüsü 2021-03-26 125156 (2).png', '/content/drive/MyDrive/Colab Notebooks/ANN and CNN/riskli/mic/Ekran görüntüsü 2021-03-26 125156.png', '/content/drive/MyDrive/Colab Notebooks/ANN and CNN/riskli/mic/siyahlık (2).png', '/content/drive/MyDrive/Colab Notebooks/ANN and CNN/riskli/mic/siyahlık.png', '/content/drive/MyDrive/Colab Notebooks/ANN and CNN/riskli/mic/Ekran görüntüsü 2021-03-26 125255.png', '/content/drive/MyDrive/Colab Notebooks/ANN and CNN/riskli/mic/Ekran görüntüsü 2021-03-26 125255 (2).png', '/content/drive/MyDrive/Colab Notebooks/ANN and CNN/riskli/mic/Ekran görüntüsü 2021-03-26 125353.png', '/content/drive/MyDrive/Colab Notebooks/ANN and CNN/riskli/mic/Ekran görüntüsü 2021-03-26 125353 (2).png', '/content/drive/MyDrive/Colab Notebooks/ANN and CNN/riskli/mic/Ekran görüntüsü 2021-03-26 125425 (2).png', '/content/drive/MyDrive/Colab Notebooks/ANN and CNN/riskli/mic/Ekran görüntüsü 2021-03-26 125425.png', '/content/drive/MyDrive/Colab Notebooks/ANN and CNN/riskli/mic/Ekran görüntüsü 2021-03-26 125523 (2).png', '/content/drive/MyDrive/Colab Notebooks/ANN and CNN/riskli/mic/Ekran görüntüsü 2021-03-26 125523.png', '/content/drive/MyDrive/Colab Notebooks/ANN and CNN/riskli/mic/Ekran görüntüsü 2021-03-26 125555 (2).png', '/content/drive/MyDrive/Colab Notebooks/ANN and CNN/riskli/mic/Ekran görüntüsü 2021-03-26 125555.png', '/content/drive/MyDrive/Colab Notebooks/ANN and CNN/riskli/mic/Ekran görüntüsü 2021-03-26 125701.png', '/content/drive/MyDrive/Colab Notebooks/ANN and CNN/riskli/mic/Ekran görüntüsü 2021-03-26 125701 (2).png', '/content/drive/MyDrive/Colab Notebooks/ANN and CNN/riskli/mic/Ekran görüntüsü 2021-03-26 125736 (2).png', '/content/drive/MyDrive/Colab Notebooks/ANN and CNN/riskli/mic/Ekran görüntüsü 2021-03-26 125736.png', '/content/drive/MyDrive/Colab Notebooks/ANN and CNN/riskli/mic/Ekran görüntüsü 2021-03-26 125853.png', '/content/drive/MyDrive/Colab Notebooks/ANN and CNN/riskli/mic/Ekran görüntüsü 2021-03-26 125853 (2).png', '/content/drive/MyDrive/Colab Notebooks/ANN and CNN/riskli/mic/köşe siyah (2).png', '/content/drive/MyDrive/Colab Notebooks/ANN and CNN/riskli/mic/köşe siyah.png', '/content/drive/MyDrive/Colab Notebooks/ANN and CNN/riskli/mic/Ekran görüntüsü 2021-03-26 125952 (2).png', '/content/drive/MyDrive/Colab Notebooks/ANN and CNN/riskli/mic/Ekran görüntüsü 2021-03-26 125952.png', '/content/drive/MyDrive/Colab Notebooks/ANN and CNN/riskli/mic/Ekran görüntüsü 2021-03-26 130253 (2).png', '/content/drive/MyDrive/Colab Notebooks/ANN and CNN/riskli/mic/Ekran görüntüsü 2021-03-26 130253.png', '/content/drive/MyDrive/Colab Notebooks/ANN and CNN/riskli/mic/Ekran görüntüsü 2021-03-26 130343 (2).png', '/content/drive/MyDrive/Colab Notebooks/ANN and CNN/riskli/mic/Ekran görüntüsü 2021-03-26 130343.png', '/content/drive/MyDrive/Colab Notebooks/ANN and CNN/riskli/mic/Ekran görüntüsü 2021-03-26 130404 (2).png', '/content/drive/MyDrive/Colab Notebooks/ANN and CNN/riskli/mic/Ekran görüntüsü 2021-03-26 130404.png', '/content/drive/MyDrive/Colab Notebooks/ANN and CNN/riskli/mic/Ekran görüntüsü 2021-03-26 130426.png', '/content/drive/MyDrive/Colab Notebooks/ANN and CNN/riskli/mic/Ekran görüntüsü 2021-03-26 130426 (2).png', '/content/drive/MyDrive/Colab Notebooks/ANN and CNN/riskli/mic/SİYAHLIK (2).png', '/content/drive/MyDrive/Colab Notebooks/ANN and CNN/riskli/mic/SİYAHLIK.png', '/content/drive/MyDrive/Colab Notebooks/ANN and CNN/riskli/mic/Ekran görüntüsü 2021-03-26 130521.png', '/content/drive/MyDrive/Colab Notebooks/ANN and CNN/riskli/mic/Ekran görüntüsü 2021-03-26 130521 (2).png', '/content/drive/MyDrive/Colab Notebooks/ANN and CNN/riskli/mic/Ekran görüntüsü 2021-03-26 130734 (2).png', '/content/drive/MyDrive/Colab Notebooks/ANN and CNN/riskli/mic/Ekran görüntüsü 2021-03-26 130734.png', '/content/drive/MyDrive/Colab Notebooks/ANN and CNN/riskli/mic/siyah1.png', '/content/drive/MyDrive/Colab Notebooks/ANN and CNN/riskli/mic/siyah1 (2).png', '/content/drive/MyDrive/Colab Notebooks/ANN and CNN/riskli/mic/Ekran görüntüsü 2021-03-26 131010 (2).png', '/content/drive/MyDrive/Colab Notebooks/ANN and CNN/riskli/mic/Ekran görüntüsü 2021-03-26 131010.png', '/content/drive/MyDrive/Colab Notebooks/ANN and CNN/riskli/mic/belirsiz (2).png', '/content/drive/MyDrive/Colab Notebooks/ANN and CNN/riskli/mic/belirsiz.png', '/content/drive/MyDrive/Colab Notebooks/ANN and CNN/riskli/mic/Ekran görüntüsü 2021-03-26 131813 (2).png', '/content/drive/MyDrive/Colab Notebooks/ANN and CNN/riskli/mic/Ekran görüntüsü 2021-03-26 131813.png', '/content/drive/MyDrive/Colab Notebooks/ANN and CNN/riskli/mic/şekilsiz.png', '/content/drive/MyDrive/Colab Notebooks/ANN and CNN/riskli/mic/şekilsiz (2).png', '/content/drive/MyDrive/Colab Notebooks/ANN and CNN/riskli/mic/Ekran görüntüsü 2021-03-26 132122 (2).png', '/content/drive/MyDrive/Colab Notebooks/ANN and CNN/riskli/mic/Ekran görüntüsü 2021-03-26 132122.png', '/content/drive/MyDrive/Colab Notebooks/ANN and CNN/riskli/mic/belirsiz1 (2).png', '/content/drive/MyDrive/Colab Notebooks/ANN and CNN/riskli/mic/belirsiz1.png', '/content/drive/MyDrive/Colab Notebooks/ANN and CNN/riskli/mic/belirszi (2).png', '/content/drive/MyDrive/Colab Notebooks/ANN and CNN/riskli/mic/belirszi.png', '/content/drive/MyDrive/Colab Notebooks/ANN and CNN/riskli/mic/Ekran görüntüsü 2021-03-26 133514.png', '/content/drive/MyDrive/Colab Notebooks/ANN and CNN/riskli/mic/Ekran görüntüsü 2021-03-26 133514 (2).png', '/content/drive/MyDrive/Colab Notebooks/ANN and CNN/riskli/mic/Ekran görüntüsü 2021-03-26 133557.png', '/content/drive/MyDrive/Colab Notebooks/ANN and CNN/riskli/mic/Ekran görüntüsü 2021-03-26 133557 (2).png', '/content/drive/MyDrive/Colab Notebooks/ANN and CNN/riskli/mic/Ekran görüntüsü 2021-03-26 133614 (2).png', '/content/drive/MyDrive/Colab Notebooks/ANN and CNN/riskli/mic/Ekran görüntüsü 2021-03-26 133614.png', '/content/drive/MyDrive/Colab Notebooks/ANN and CNN/riskli/mic/Ekran görüntüsü 2021-03-26 133648.png', '/content/drive/MyDrive/Colab Notebooks/ANN and CNN/riskli/mic/Ekran görüntüsü 2021-03-26 133648 (2).png', '/content/drive/MyDrive/Colab Notebooks/ANN and CNN/riskli/mic/Ekran görüntüsü 2021-03-26 133750.png', '/content/drive/MyDrive/Colab Notebooks/ANN and CNN/riskli/mic/Ekran görüntüsü 2021-03-26 133750 (2).png', '/content/drive/MyDrive/Colab Notebooks/ANN and CNN/riskli/mic/Ekran görüntüsü 2021-03-26 133810 (2).png', '/content/drive/MyDrive/Colab Notebooks/ANN and CNN/riskli/mic/Ekran görüntüsü 2021-03-26 133810.png', '/content/drive/MyDrive/Colab Notebooks/ANN and CNN/riskli/mic/Ekran görüntüsü 2021-03-26 133827 (2).png', '/content/drive/MyDrive/Colab Notebooks/ANN and CNN/riskli/mic/Ekran görüntüsü 2021-03-26 133827.png', '/content/drive/MyDrive/Colab Notebooks/ANN and CNN/riskli/mic/Ekran görüntüsü 2021-03-26 133853 (2).png', '/content/drive/MyDrive/Colab Notebooks/ANN and CNN/riskli/mic/Ekran görüntüsü 2021-03-26 133853.png', '/content/drive/MyDrive/Colab Notebooks/ANN and CNN/riskli/mic/Ekran görüntüsü 2021-03-26 134043 (2).png', '/content/drive/MyDrive/Colab Notebooks/ANN and CNN/riskli/mic/Ekran görüntüsü 2021-03-26 134043.png', '/content/drive/MyDrive/Colab Notebooks/ANN and CNN/riskli/mic/Ekran görüntüsü 2021-03-26 134103 (2).png', '/content/drive/MyDrive/Colab Notebooks/ANN and CNN/riskli/mic/Ekran görüntüsü 2021-03-26 134103.png', '/content/drive/MyDrive/Colab Notebooks/ANN and CNN/riskli/mic/Ekran görüntüsü 2021-03-26 134842.png', '/content/drive/MyDrive/Colab Notebooks/ANN and CNN/riskli/mic/Ekran görüntüsü 2021-03-26 134842 (2).png', '/content/drive/MyDrive/Colab Notebooks/ANN and CNN/riskli/mic/Ekran görüntüsü 2021-03-26 134908 (2).png', '/content/drive/MyDrive/Colab Notebooks/ANN and CNN/riskli/mic/Ekran görüntüsü 2021-03-26 134908.png', '/content/drive/MyDrive/Colab Notebooks/ANN and CNN/riskli/mic/Ekran görüntüsü 2021-03-26 134924.png', '/content/drive/MyDrive/Colab Notebooks/ANN and CNN/riskli/mic/Ekran görüntüsü 2021-03-26 134924 (2).png', '/content/drive/MyDrive/Colab Notebooks/ANN and CNN/riskli/mic/siyah2 (2).png', '/content/drive/MyDrive/Colab Notebooks/ANN and CNN/riskli/mic/siyah2.png', '/content/drive/MyDrive/Colab Notebooks/ANN and CNN/riskli/mic/siyahleke.png', '/content/drive/MyDrive/Colab Notebooks/ANN and CNN/riskli/mic/siyahleke (2).png', '/content/drive/MyDrive/Colab Notebooks/ANN and CNN/riskli/mic/Ekran görüntüsü 2021-03-26 135121 (2).png', '/content/drive/MyDrive/Colab Notebooks/ANN and CNN/riskli/mic/Ekran görüntüsü 2021-03-26 135121.png', '/content/drive/MyDrive/Colab Notebooks/ANN and CNN/riskli/mic/Ekran görüntüsü 2021-03-26 135142.png', '/content/drive/MyDrive/Colab Notebooks/ANN and CNN/riskli/mic/Ekran görüntüsü 2021-03-26 135142 (2).png', '/content/drive/MyDrive/Colab Notebooks/ANN and CNN/riskli/mic/kesik görüntü (2).png', '/content/drive/MyDrive/Colab Notebooks/ANN and CNN/riskli/mic/kesik görüntü.png', '/content/drive/MyDrive/Colab Notebooks/ANN and CNN/riskli/mic/Ekran görüntüsü 2021-03-26 135518 (2).png', '/content/drive/MyDrive/Colab Notebooks/ANN and CNN/riskli/mic/Ekran görüntüsü 2021-03-26 135518.png', '/content/drive/MyDrive/Colab Notebooks/ANN and CNN/riskli/mic/bulanık (2).png', '/content/drive/MyDrive/Colab Notebooks/ANN and CNN/riskli/mic/bulanık.png', '/content/drive/MyDrive/Colab Notebooks/ANN and CNN/riskli/mic/Ekran görüntüsü 2021-03-26 135745 (2).png', '/content/drive/MyDrive/Colab Notebooks/ANN and CNN/riskli/mic/Ekran görüntüsü 2021-03-26 135745.png', '/content/drive/MyDrive/Colab Notebooks/ANN and CNN/riskli/mic/Ekran görüntüsü 2021-03-26 135804.png', '/content/drive/MyDrive/Colab Notebooks/ANN and CNN/riskli/mic/Ekran görüntüsü 2021-03-26 135804 (2).png', '/content/drive/MyDrive/Colab Notebooks/ANN and CNN/riskli/mic/Ekran görüntüsü 2021-03-26 135818 (2).png', '/content/drive/MyDrive/Colab Notebooks/ANN and CNN/riskli/mic/Ekran görüntüsü 2021-03-26 135818.png', '/content/drive/MyDrive/Colab Notebooks/ANN and CNN/riskli/mic/Ekran görüntüsü 2021-03-26 135836.png', '/content/drive/MyDrive/Colab Notebooks/ANN and CNN/riskli/mic/Ekran görüntüsü 2021-03-26 135836 (2).png', '/content/drive/MyDrive/Colab Notebooks/ANN and CNN/riskli/mic/Ekran görüntüsü 2021-03-26 135952 (2).png', '/content/drive/MyDrive/Colab Notebooks/ANN and CNN/riskli/mic/Ekran görüntüsü 2021-03-26 135952.png', '/content/drive/MyDrive/Colab Notebooks/ANN and CNN/riskli/mic/Ekran görüntüsü 2021-03-26 140008 (2).png', '/content/drive/MyDrive/Colab Notebooks/ANN and CNN/riskli/mic/Ekran görüntüsü 2021-03-26 140008.png', '/content/drive/MyDrive/Colab Notebooks/ANN and CNN/riskli/mic/Ekran görüntüsü 2021-03-26 140026.png', '/content/drive/MyDrive/Colab Notebooks/ANN and CNN/riskli/mic/Ekran görüntüsü 2021-03-26 140026 (2).png', '/content/drive/MyDrive/Colab Notebooks/ANN and CNN/riskli/mic/Ekran görüntüsü 2021-03-26 140046.png', '/content/drive/MyDrive/Colab Notebooks/ANN and CNN/riskli/mic/Ekran görüntüsü 2021-03-26 140046 (2).png', '/content/drive/MyDrive/Colab Notebooks/ANN and CNN/riskli/mic/Ekran görüntüsü 2021-03-26 140126 (2).png', '/content/drive/MyDrive/Colab Notebooks/ANN and CNN/riskli/mic/Ekran görüntüsü 2021-03-26 140126.png', '/content/drive/MyDrive/Colab Notebooks/ANN and CNN/riskli/mic/Ekran görüntüsü 2021-03-26 140141.png', '/content/drive/MyDrive/Colab Notebooks/ANN and CNN/riskli/mic/Ekran görüntüsü 2021-03-26 140141 (2).png', '/content/drive/MyDrive/Colab Notebooks/ANN and CNN/riskli/mic/siyahleke1 (2).png', '/content/drive/MyDrive/Colab Notebooks/ANN and CNN/riskli/mic/siyahleke1.png', '/content/drive/MyDrive/Colab Notebooks/ANN and CNN/riskli/mic/Ekran görüntüsü 2021-03-26 140236 (2).png', '/content/drive/MyDrive/Colab Notebooks/ANN and CNN/riskli/mic/Ekran görüntüsü 2021-03-26 140236.png', '/content/drive/MyDrive/Colab Notebooks/ANN and CNN/riskli/mic/Ekran görüntüsü 2021-03-26 140255 (2).png', '/content/drive/MyDrive/Colab Notebooks/ANN and CNN/riskli/mic/Ekran görüntüsü 2021-03-26 140255.png', '/content/drive/MyDrive/Colab Notebooks/ANN and CNN/riskli/mic/Ekran görüntüsü 2021-03-26 140311.png', '/content/drive/MyDrive/Colab Notebooks/ANN and CNN/riskli/mic/Ekran görüntüsü 2021-03-26 140311 (2).png', '/content/drive/MyDrive/Colab Notebooks/ANN and CNN/riskli/mic/Ekran görüntüsü 2021-03-26 140321.png', '/content/drive/MyDrive/Colab Notebooks/ANN and CNN/riskli/mic/Ekran görüntüsü 2021-03-26 140321 (2).png', '/content/drive/MyDrive/Colab Notebooks/ANN and CNN/riskli/mic/Ekran görüntüsü 2021-03-26 140418 (2).png', '/content/drive/MyDrive/Colab Notebooks/ANN and CNN/riskli/mic/Ekran görüntüsü 2021-03-26 140418.png', '/content/drive/MyDrive/Colab Notebooks/ANN and CNN/riskli/mic/bulankı.png', '/content/drive/MyDrive/Colab Notebooks/ANN and CNN/riskli/mic/bulankı (2).png', '/content/drive/MyDrive/Colab Notebooks/ANN and CNN/riskli/mic/Ekran görüntüsü 2021-03-26 140505.png', '/content/drive/MyDrive/Colab Notebooks/ANN and CNN/riskli/mic/Ekran görüntüsü 2021-03-26 140505 (2).png', '/content/drive/MyDrive/Colab Notebooks/ANN and CNN/riskli/mic/Ekran görüntüsü 2021-03-26 140819.png', '/content/drive/MyDrive/Colab Notebooks/ANN and CNN/riskli/mic/Ekran görüntüsü 2021-03-26 140819 (2).png', '/content/drive/MyDrive/Colab Notebooks/ANN and CNN/riskli/mic/Ekran görüntüsü 2021-03-26 140930 (2).png', '/content/drive/MyDrive/Colab Notebooks/ANN and CNN/riskli/mic/Ekran görüntüsü 2021-03-26 140930.png', '/content/drive/MyDrive/Colab Notebooks/ANN and CNN/riskli/mic/Ekran görüntüsü 2021-03-26 140949.png', '/content/drive/MyDrive/Colab Notebooks/ANN and CNN/riskli/mic/Ekran görüntüsü 2021-03-26 140949 (2).png', '/content/drive/MyDrive/Colab Notebooks/ANN and CNN/riskli/mic/Ekran görüntüsü 2021-03-26 141005 (2).png', '/content/drive/MyDrive/Colab Notebooks/ANN and CNN/riskli/mic/Ekran görüntüsü 2021-03-26 141005.png', '/content/drive/MyDrive/Colab Notebooks/ANN and CNN/riskli/mic/Ekran görüntüsü 2021-03-26 141351.png', '/content/drive/MyDrive/Colab Notebooks/ANN and CNN/riskli/mic/Ekran görüntüsü 2021-03-26 141351 (2).png', '/content/drive/MyDrive/Colab Notebooks/ANN and CNN/riskli/mic/Ekran görüntüsü 2021-03-26 141409 (2).png', '/content/drive/MyDrive/Colab Notebooks/ANN and CNN/riskli/mic/Ekran görüntüsü 2021-03-26 141409.png', '/content/drive/MyDrive/Colab Notebooks/ANN and CNN/riskli/mic/Ekran görüntüsü 2021-03-26 141542.png', '/content/drive/MyDrive/Colab Notebooks/ANN and CNN/riskli/mic/Ekran görüntüsü 2021-03-26 141542 (2).png', '/content/drive/MyDrive/Colab Notebooks/ANN and CNN/riskli/mic/Ekran görüntüsü 2021-03-26 141649.png', '/content/drive/MyDrive/Colab Notebooks/ANN and CNN/riskli/mic/Ekran görüntüsü 2021-03-26 141649 (2).png', '/content/drive/MyDrive/Colab Notebooks/ANN and CNN/riskli/mic/Ekran görüntüsü 2021-03-26 141743 (2).png', '/content/drive/MyDrive/Colab Notebooks/ANN and CNN/riskli/mic/Ekran görüntüsü 2021-03-26 141743.png', '/content/drive/MyDrive/Colab Notebooks/ANN and CNN/riskli/mic/Ekran görüntüsü 2021-03-26 141801.png', '/content/drive/MyDrive/Colab Notebooks/ANN and CNN/riskli/mic/Ekran görüntüsü 2021-03-26 141801 (2).png', '/content/drive/MyDrive/Colab Notebooks/ANN and CNN/riskli/mic/Ekran görüntüsü 2021-03-26 141812 (2).png', '/content/drive/MyDrive/Colab Notebooks/ANN and CNN/riskli/mic/Ekran görüntüsü 2021-03-26 141812.png', '/content/drive/MyDrive/Colab Notebooks/ANN and CNN/riskli/mic/Ekran görüntüsü 2021-03-26 141840.png', '/content/drive/MyDrive/Colab Notebooks/ANN and CNN/riskli/mic/Ekran görüntüsü 2021-03-26 141840 (2).png', '/content/drive/MyDrive/Colab Notebooks/ANN and CNN/riskli/mic/Ekran görüntüsü 2021-03-26 141905 (2).png', '/content/drive/MyDrive/Colab Notebooks/ANN and CNN/riskli/mic/Ekran görüntüsü 2021-03-26 141905.png', '/content/drive/MyDrive/Colab Notebooks/ANN and CNN/riskli/mic/siyahlke (2).png', '/content/drive/MyDrive/Colab Notebooks/ANN and CNN/riskli/mic/siyahlke.png', '/content/drive/MyDrive/Colab Notebooks/ANN and CNN/riskli/mic/Ekran görüntüsü 2021-03-26 142659.png', '/content/drive/MyDrive/Colab Notebooks/ANN and CNN/riskli/mic/Ekran görüntüsü 2021-03-26 142659 (2).png', '/content/drive/MyDrive/Colab Notebooks/ANN and CNN/riskli/mic/Ekran görüntüsü 2021-03-26 142758 (2).png', '/content/drive/MyDrive/Colab Notebooks/ANN and CNN/riskli/mic/Ekran görüntüsü 2021-03-26 142758.png', '/content/drive/MyDrive/Colab Notebooks/ANN and CNN/riskli/mic/leke (2).png', '/content/drive/MyDrive/Colab Notebooks/ANN and CNN/riskli/mic/leke.png', '/content/drive/MyDrive/Colab Notebooks/ANN and CNN/riskli/mic/kesikg (2).png', '/content/drive/MyDrive/Colab Notebooks/ANN and CNN/riskli/mic/kesikg.png', '/content/drive/MyDrive/Colab Notebooks/ANN and CNN/riskli/mic/Ekran görüntüsü 2021-03-26 143020.png', '/content/drive/MyDrive/Colab Notebooks/ANN and CNN/riskli/mic/Ekran görüntüsü 2021-03-26 143020 (2).png', '/content/drive/MyDrive/Colab Notebooks/ANN and CNN/riskli/mic/Ekran görüntüsü 2021-03-26 143041 (2).png', '/content/drive/MyDrive/Colab Notebooks/ANN and CNN/riskli/mic/Ekran görüntüsü 2021-03-26 143041.png', '/content/drive/MyDrive/Colab Notebooks/ANN and CNN/riskli/mic/kesikgg.png', '/content/drive/MyDrive/Colab Notebooks/ANN and CNN/riskli/mic/kesikgg (2).png', '/content/drive/MyDrive/Colab Notebooks/ANN and CNN/riskli/mic/Ekran görüntüsü 2021-03-26 144039.png', '/content/drive/MyDrive/Colab Notebooks/ANN and CNN/riskli/mic/Ekran görüntüsü 2021-03-26 144039 (2).png', '/content/drive/MyDrive/Colab Notebooks/ANN and CNN/riskli/mic/Ekran görüntüsü 2021-03-26 144209 (2).png', '/content/drive/MyDrive/Colab Notebooks/ANN and CNN/riskli/mic/Ekran görüntüsü 2021-03-26 144209.png', '/content/drive/MyDrive/Colab Notebooks/ANN and CNN/riskli/mic/Ekran görüntüsü 2021-03-26 144304.png', '/content/drive/MyDrive/Colab Notebooks/ANN and CNN/riskli/mic/Ekran görüntüsü 2021-03-26 144304 (2).png', '/content/drive/MyDrive/Colab Notebooks/ANN and CNN/riskli/mic/Ekran görüntüsü 2021-03-26 144321 (2).png', '/content/drive/MyDrive/Colab Notebooks/ANN and CNN/riskli/mic/Ekran görüntüsü 2021-03-26 144321.png', '/content/drive/MyDrive/Colab Notebooks/ANN and CNN/riskli/mic/Ekran görüntüsü 2021-03-26 144340 (2).png', '/content/drive/MyDrive/Colab Notebooks/ANN and CNN/riskli/mic/Ekran görüntüsü 2021-03-26 144340.png', '/content/drive/MyDrive/Colab Notebooks/ANN and CNN/riskli/mic/Ekran görüntüsü 2021-03-26 144502.png', '/content/drive/MyDrive/Colab Notebooks/ANN and CNN/riskli/mic/Ekran görüntüsü 2021-03-26 144502 (2).png', '/content/drive/MyDrive/Colab Notebooks/ANN and CNN/riskli/mic/Ekran görüntüsü 2021-03-26 144545 (2).png', '/content/drive/MyDrive/Colab Notebooks/ANN and CNN/riskli/mic/Ekran görüntüsü 2021-03-26 144545.png', '/content/drive/MyDrive/Colab Notebooks/ANN and CNN/riskli/mic/Ekran görüntüsü 2021-03-26 144607.png', '/content/drive/MyDrive/Colab Notebooks/ANN and CNN/riskli/mic/Ekran görüntüsü 2021-03-26 144607 (2).png', '/content/drive/MyDrive/Colab Notebooks/ANN and CNN/riskli/mic/Ekran görüntüsü 2021-03-26 144623 (2).png', '/content/drive/MyDrive/Colab Notebooks/ANN and CNN/riskli/mic/Ekran görüntüsü 2021-03-26 144623.png', '/content/drive/MyDrive/Colab Notebooks/ANN and CNN/riskli/mic/Ekran görüntüsü 2021-03-26 144719.png', '/content/drive/MyDrive/Colab Notebooks/ANN and CNN/riskli/mic/Ekran görüntüsü 2021-03-26 144719 (2).png', '/content/drive/MyDrive/Colab Notebooks/ANN and CNN/riskli/mic/Ekran görüntüsü 2021-03-26 144807 (2).png', '/content/drive/MyDrive/Colab Notebooks/ANN and CNN/riskli/mic/Ekran görüntüsü 2021-03-26 144807.png', '/content/drive/MyDrive/Colab Notebooks/ANN and CNN/riskli/mic/Ekran görüntüsü 2021-03-26 144826 (2).png', '/content/drive/MyDrive/Colab Notebooks/ANN and CNN/riskli/mic/Ekran görüntüsü 2021-03-26 144826.png', '/content/drive/MyDrive/Colab Notebooks/ANN and CNN/riskli/mic/Ekran görüntüsü 2021-03-26 150355 (2).png', '/content/drive/MyDrive/Colab Notebooks/ANN and CNN/riskli/mic/Ekran görüntüsü 2021-03-26 150355.png', '/content/drive/MyDrive/Colab Notebooks/ANN and CNN/riskli/mic/Ekran görüntüsü 2021-03-26 150408.png', '/content/drive/MyDrive/Colab Notebooks/ANN and CNN/riskli/mic/Ekran görüntüsü 2021-03-26 150408 (2).png', '/content/drive/MyDrive/Colab Notebooks/ANN and CNN/riskli/mic/Ekran görüntüsü 2021-03-26 150422 (2).png', '/content/drive/MyDrive/Colab Notebooks/ANN and CNN/riskli/mic/Ekran görüntüsü 2021-03-26 150422.png', '/content/drive/MyDrive/Colab Notebooks/ANN and CNN/riskli/mic/Ekran görüntüsü 2021-03-26 150451 (2).png', '/content/drive/MyDrive/Colab Notebooks/ANN and CNN/riskli/mic/Ekran görüntüsü 2021-03-26 150451.png', '/content/drive/MyDrive/Colab Notebooks/ANN and CNN/riskli/mic/Ekran görüntüsü 2021-03-26 150557 (2).png', '/content/drive/MyDrive/Colab Notebooks/ANN and CNN/riskli/mic/Ekran görüntüsü 2021-03-26 150557.png', '/content/drive/MyDrive/Colab Notebooks/ANN and CNN/riskli/mic/Ekran görüntüsü 2021-03-26 150637 (2).png', '/content/drive/MyDrive/Colab Notebooks/ANN and CNN/riskli/mic/Ekran görüntüsü 2021-03-26 150637.png', '/content/drive/MyDrive/Colab Notebooks/ANN and CNN/riskli/mic/Ekran görüntüsü 2021-03-26 150647 (2).png', '/content/drive/MyDrive/Colab Notebooks/ANN and CNN/riskli/mic/Ekran görüntüsü 2021-03-26 150647.png', '/content/drive/MyDrive/Colab Notebooks/ANN and CNN/riskli/mic/Ekran görüntüsü 2021-03-26 150702.png', '/content/drive/MyDrive/Colab Notebooks/ANN and CNN/riskli/mic/Ekran görüntüsü 2021-03-26 150702 (2).png', '/content/drive/MyDrive/Colab Notebooks/ANN and CNN/riskli/mic/Ekran görüntüsü 2021-03-26 151141 (2).png', '/content/drive/MyDrive/Colab Notebooks/ANN and CNN/riskli/mic/Ekran görüntüsü 2021-03-26 151141.png', '/content/drive/MyDrive/Colab Notebooks/ANN and CNN/riskli/mic/Ekran görüntüsü 2021-03-26 151158 (2).png', '/content/drive/MyDrive/Colab Notebooks/ANN and CNN/riskli/mic/Ekran görüntüsü 2021-03-26 151158.png', '/content/drive/MyDrive/Colab Notebooks/ANN and CNN/riskli/mic/Ekran görüntüsü 2021-03-26 151348.png', '/content/drive/MyDrive/Colab Notebooks/ANN and CNN/riskli/mic/Ekran görüntüsü 2021-03-26 151348 (2).png', '/content/drive/MyDrive/Colab Notebooks/ANN and CNN/riskli/mic/Ekran görüntüsü 2021-03-26 151409 (2).png', '/content/drive/MyDrive/Colab Notebooks/ANN and CNN/riskli/mic/Ekran görüntüsü 2021-03-26 151409.png', '/content/drive/MyDrive/Colab Notebooks/ANN and CNN/riskli/mic/Ekran görüntüsü 2021-03-26 151500.png', '/content/drive/MyDrive/Colab Notebooks/ANN and CNN/riskli/mic/Ekran görüntüsü 2021-03-26 151500 (2).png', '/content/drive/MyDrive/Colab Notebooks/ANN and CNN/riskli/mic/Ekran görüntüsü 2021-03-26 151605 (2).png', '/content/drive/MyDrive/Colab Notebooks/ANN and CNN/riskli/mic/Ekran görüntüsü 2021-03-26 151605.png', '/content/drive/MyDrive/Colab Notebooks/ANN and CNN/riskli/mic/Ekran görüntüsü 2021-03-26 151634.png', '/content/drive/MyDrive/Colab Notebooks/ANN and CNN/riskli/mic/Ekran görüntüsü 2021-03-26 151634 (2).png', '/content/drive/MyDrive/Colab Notebooks/ANN and CNN/riskli/mic/Ekran görüntüsü 2021-03-26 151855.png', '/content/drive/MyDrive/Colab Notebooks/ANN and CNN/riskli/mic/Ekran görüntüsü 2021-03-26 151855 (2).png', '/content/drive/MyDrive/Colab Notebooks/ANN and CNN/riskli/mic/kesig.png', '/content/drive/MyDrive/Colab Notebooks/ANN and CNN/riskli/mic/kesig (2).png', '/content/drive/MyDrive/Colab Notebooks/ANN and CNN/riskli/mic/Ekran görüntüsü 2021-03-26 155237 (2).png', '/content/drive/MyDrive/Colab Notebooks/ANN and CNN/riskli/mic/Ekran görüntüsü 2021-03-26 155237.png', '/content/drive/MyDrive/Colab Notebooks/ANN and CNN/riskli/mic/net değil (2).png', '/content/drive/MyDrive/Colab Notebooks/ANN and CNN/riskli/mic/net değil.png', '/content/drive/MyDrive/Colab Notebooks/ANN and CNN/riskli/mic/Ekran görüntüsü 2021-03-26 155523.png', '/content/drive/MyDrive/Colab Notebooks/ANN and CNN/riskli/mic/Ekran görüntüsü 2021-03-26 155523 (2).png', '/content/drive/MyDrive/Colab Notebooks/ANN and CNN/riskli/mic/Ekran görüntüsü 2021-03-26 155543.png', '/content/drive/MyDrive/Colab Notebooks/ANN and CNN/riskli/mic/Ekran görüntüsü 2021-03-26 155543 (2).png', '/content/drive/MyDrive/Colab Notebooks/ANN and CNN/riskli/mic/Ekran görüntüsü 2021-03-26 155609 (2).png', '/content/drive/MyDrive/Colab Notebooks/ANN and CNN/riskli/mic/Ekran görüntüsü 2021-03-26 155609.png', '/content/drive/MyDrive/Colab Notebooks/ANN and CNN/riskli/mic/Ekran görüntüsü 2021-03-26 155729.png', '/content/drive/MyDrive/Colab Notebooks/ANN and CNN/riskli/mic/Ekran görüntüsü 2021-03-26 155729 (2).png', '/content/drive/MyDrive/Colab Notebooks/ANN and CNN/riskli/mic/Ekran görüntüsü 2021-03-26 155747.png', '/content/drive/MyDrive/Colab Notebooks/ANN and CNN/riskli/mic/Ekran görüntüsü 2021-03-26 155747 (2).png', '/content/drive/MyDrive/Colab Notebooks/ANN and CNN/riskli/mic/Ekran görüntüsü 2021-03-26 165021.png', '/content/drive/MyDrive/Colab Notebooks/ANN and CNN/riskli/mic/Ekran görüntüsü 2021-03-26 165021 (2).png', '/content/drive/MyDrive/Colab Notebooks/ANN and CNN/riskli/mic/Ekran görüntüsü 2021-03-26 165247 (2).png', '/content/drive/MyDrive/Colab Notebooks/ANN and CNN/riskli/mic/Ekran görüntüsü 2021-03-26 165247.png', '/content/drive/MyDrive/Colab Notebooks/ANN and CNN/riskli/mic/kesikgö (2).png', '/content/drive/MyDrive/Colab Notebooks/ANN and CNN/riskli/mic/kesikgö.png', '/content/drive/MyDrive/Colab Notebooks/ANN and CNN/riskli/mic/Ekran görüntüsü 2021-03-26 165448 (2).png', '/content/drive/MyDrive/Colab Notebooks/ANN and CNN/riskli/mic/Ekran görüntüsü 2021-03-26 165448.png', '/content/drive/MyDrive/Colab Notebooks/ANN and CNN/riskli/mic/kesikli.png', '/content/drive/MyDrive/Colab Notebooks/ANN and CNN/riskli/mic/kesikli (2).png', '/content/drive/MyDrive/Colab Notebooks/ANN and CNN/riskli/mic/Ekran görüntüsü 2021-03-26 165751.png', '/content/drive/MyDrive/Colab Notebooks/ANN and CNN/riskli/mic/Ekran görüntüsü 2021-03-26 165751 (2).png', '/content/drive/MyDrive/Colab Notebooks/ANN and CNN/riskli/mic/Ekran görüntüsü 2021-03-26 165811 (2).png', '/content/drive/MyDrive/Colab Notebooks/ANN and CNN/riskli/mic/Ekran görüntüsü 2021-03-26 165811.png', '/content/drive/MyDrive/Colab Notebooks/ANN and CNN/riskli/mic/yarımgörüntü (2).png', '/content/drive/MyDrive/Colab Notebooks/ANN and CNN/riskli/mic/yarımgörüntü.png', '/content/drive/MyDrive/Colab Notebooks/ANN and CNN/riskli/mic/içiçe (2).png', '/content/drive/MyDrive/Colab Notebooks/ANN and CNN/riskli/mic/içiçe.png', '/content/drive/MyDrive/Colab Notebooks/ANN and CNN/riskli/mic/Ekran görüntüsü 2021-03-26 170008 (2).png', '/content/drive/MyDrive/Colab Notebooks/ANN and CNN/riskli/mic/Ekran görüntüsü 2021-03-26 170008.png', '/content/drive/MyDrive/Colab Notebooks/ANN and CNN/riskli/mic/Ekran görüntüsü 2021-03-26 170034 (2).png', '/content/drive/MyDrive/Colab Notebooks/ANN and CNN/riskli/mic/Ekran görüntüsü 2021-03-26 170034.png', '/content/drive/MyDrive/Colab Notebooks/ANN and CNN/riskli/mic/içic.png', '/content/drive/MyDrive/Colab Notebooks/ANN and CNN/riskli/mic/içic (2).png', '/content/drive/MyDrive/Colab Notebooks/ANN and CNN/riskli/mic/Ekran görüntüsü 2021-03-26 183100.png', '/content/drive/MyDrive/Colab Notebooks/ANN and CNN/riskli/mic/Ekran görüntüsü 2021-03-26 183100 (2).png', '/content/drive/MyDrive/Colab Notebooks/ANN and CNN/riskli/mic/siyah (2).png', '/content/drive/MyDrive/Colab Notebooks/ANN and CNN/riskli/mic/siyah.png', '/content/drive/MyDrive/Colab Notebooks/ANN and CNN/riskli/mic/siyahlık1 (2).png', '/content/drive/MyDrive/Colab Notebooks/ANN and CNN/riskli/mic/siyahlık1.png', '/content/drive/MyDrive/Colab Notebooks/ANN and CNN/riskli/mic/Ekran görüntüsü 2021-03-26 183859.png', '/content/drive/MyDrive/Colab Notebooks/ANN and CNN/riskli/mic/Ekran görüntüsü 2021-03-26 183859 (2).png', '/content/drive/MyDrive/Colab Notebooks/ANN and CNN/riskli/mic/siyahnokta.png', '/content/drive/MyDrive/Colab Notebooks/ANN and CNN/riskli/mic/siyahnokta (2).png', '/content/drive/MyDrive/Colab Notebooks/ANN and CNN/riskli/mic/Ekran görüntüsü 2021-03-26 185352.png', '/content/drive/MyDrive/Colab Notebooks/ANN and CNN/riskli/mic/Ekran görüntüsü 2021-03-26 185352 (2).png', '/content/drive/MyDrive/Colab Notebooks/ANN and CNN/riskli/mic/Ekran görüntüsü 2021-03-26 185509 (2).png', '/content/drive/MyDrive/Colab Notebooks/ANN and CNN/riskli/mic/Ekran görüntüsü 2021-03-26 185509.png', '/content/drive/MyDrive/Colab Notebooks/ANN and CNN/riskli/mic/Ekran görüntüsü 2021-03-26 185530.png', '/content/drive/MyDrive/Colab Notebooks/ANN and CNN/riskli/mic/Ekran görüntüsü 2021-03-26 185530 (2).png', '/content/drive/MyDrive/Colab Notebooks/ANN and CNN/riskli/mic/Ekran görüntüsü 2021-03-26 185704.png', '/content/drive/MyDrive/Colab Notebooks/ANN and CNN/riskli/mic/Ekran görüntüsü 2021-03-26 185704 (2).png', '/content/drive/MyDrive/Colab Notebooks/ANN and CNN/riskli/mic/KESİK (2).png', '/content/drive/MyDrive/Colab Notebooks/ANN and CNN/riskli/mic/KESİK.png', '/content/drive/MyDrive/Colab Notebooks/ANN and CNN/riskli/mic/BEYAZLEKE.png', '/content/drive/MyDrive/Colab Notebooks/ANN and CNN/riskli/mic/BEYAZLEKE (2).png', '/content/drive/MyDrive/Colab Notebooks/ANN and CNN/riskli/mic/KESİKK (2).png', '/content/drive/MyDrive/Colab Notebooks/ANN and CNN/riskli/mic/KESİKK.png', '/content/drive/MyDrive/Colab Notebooks/ANN and CNN/riskli/mic/İÇ (2).png', '/content/drive/MyDrive/Colab Notebooks/ANN and CNN/riskli/mic/İÇ.png', '/content/drive/MyDrive/Colab Notebooks/ANN and CNN/riskli/mic/kesiklii (2).png', '/content/drive/MyDrive/Colab Notebooks/ANN and CNN/riskli/mic/kesiklii.png', '/content/drive/MyDrive/Colab Notebooks/ANN and CNN/riskli/mic/Ekran görüntüsü 2021-03-29 001403 (2).png', '/content/drive/MyDrive/Colab Notebooks/ANN and CNN/riskli/mic/Ekran görüntüsü 2021-03-29 001403.png', '/content/drive/MyDrive/Colab Notebooks/ANN and CNN/riskli/mic/Ekran görüntüsü 2021-03-29 001420.png', '/content/drive/MyDrive/Colab Notebooks/ANN and CNN/riskli/mic/Ekran görüntüsü 2021-03-29 001420 (2).png', '/content/drive/MyDrive/Colab Notebooks/ANN and CNN/riskli/mic/Ekran görüntüsü 2021-03-29 001506 (2).png', '/content/drive/MyDrive/Colab Notebooks/ANN and CNN/riskli/mic/Ekran görüntüsü 2021-03-29 001506.png', '/content/drive/MyDrive/Colab Notebooks/ANN and CNN/riskli/mic/Ekran görüntüsü 2021-03-29 001659.png', '/content/drive/MyDrive/Colab Notebooks/ANN and CNN/riskli/mic/Ekran görüntüsü 2021-03-29 001659 (2).png', '/content/drive/MyDrive/Colab Notebooks/ANN and CNN/riskli/mic/Ekran görüntüsü 2021-03-29 002854.png', '/content/drive/MyDrive/Colab Notebooks/ANN and CNN/riskli/mic/Ekran görüntüsü 2021-03-29 002854 (2).png', '/content/drive/MyDrive/Colab Notebooks/ANN and CNN/riskli/mic/Ekran görüntüsü 2021-03-29 004929.png', '/content/drive/MyDrive/Colab Notebooks/ANN and CNN/riskli/mic/Ekran görüntüsü 2021-03-29 004929 (2).png', '/content/drive/MyDrive/Colab Notebooks/ANN and CNN/riskli/mic/Ekran görüntüsü 2021-03-29 005026 (2).png', '/content/drive/MyDrive/Colab Notebooks/ANN and CNN/riskli/mic/Ekran görüntüsü 2021-03-29 005026.png', '/content/drive/MyDrive/Colab Notebooks/ANN and CNN/riskli/mic/Ekran görüntüsü 2021-03-29 005209.png', '/content/drive/MyDrive/Colab Notebooks/ANN and CNN/riskli/mic/Ekran görüntüsü 2021-03-29 005209 (2).png', '/content/drive/MyDrive/Colab Notebooks/ANN and CNN/riskli/mic/Ekran görüntüsü 2021-03-29 010233 (2).png', '/content/drive/MyDrive/Colab Notebooks/ANN and CNN/riskli/mic/Ekran görüntüsü 2021-03-29 010233.png', '/content/drive/MyDrive/Colab Notebooks/ANN and CNN/riskli/mic/Ekran görüntüsü 2021-03-29 010301 (2).png', '/content/drive/MyDrive/Colab Notebooks/ANN and CNN/riskli/mic/Ekran görüntüsü 2021-03-29 010301.png', '/content/drive/MyDrive/Colab Notebooks/ANN and CNN/riskli/mic/Ekran görüntüsü 2021-03-29 010721 (2).png', '/content/drive/MyDrive/Colab Notebooks/ANN and CNN/riskli/mic/Ekran görüntüsü 2021-03-29 010721.png', '/content/drive/MyDrive/Colab Notebooks/ANN and CNN/riskli/mic/Ekran görüntüsü 2021-03-29 010820 (2).png', '/content/drive/MyDrive/Colab Notebooks/ANN and CNN/riskli/mic/Ekran görüntüsü 2021-03-29 010820.png', '/content/drive/MyDrive/Colab Notebooks/ANN and CNN/riskli/mic/Ekran görüntüsü 2021-03-29 011012.png', '/content/drive/MyDrive/Colab Notebooks/ANN and CNN/riskli/mic/Ekran görüntüsü 2021-03-29 011012 (2).png', '/content/drive/MyDrive/Colab Notebooks/ANN and CNN/riskli/mic/Ekran görüntüsü 2021-03-29 011046.png', '/content/drive/MyDrive/Colab Notebooks/ANN and CNN/riskli/mic/Ekran görüntüsü 2021-03-29 011046 (2).png', '/content/drive/MyDrive/Colab Notebooks/ANN and CNN/riskli/mic/Ekran görüntüsü 2021-03-29 011105 (2).png', '/content/drive/MyDrive/Colab Notebooks/ANN and CNN/riskli/mic/Ekran görüntüsü 2021-03-29 011105.png', '/content/drive/MyDrive/Colab Notebooks/ANN and CNN/riskli/mic/Ekran görüntüsü 2021-03-29 011514 (2).png', '/content/drive/MyDrive/Colab Notebooks/ANN and CNN/riskli/mic/Ekran görüntüsü 2021-03-29 011514.png', '/content/drive/MyDrive/Colab Notebooks/ANN and CNN/riskli/mic/Ekran görüntüsü 2021-03-29 011530 (2).png', '/content/drive/MyDrive/Colab Notebooks/ANN and CNN/riskli/mic/Ekran görüntüsü 2021-03-29 011530.png', '/content/drive/MyDrive/Colab Notebooks/ANN and CNN/riskli/mic/Ekran görüntüsü 2021-03-29 011547.png', '/content/drive/MyDrive/Colab Notebooks/ANN and CNN/riskli/mic/Ekran görüntüsü 2021-03-29 011547 (2).png', '/content/drive/MyDrive/Colab Notebooks/ANN and CNN/riskli/mic/Ekran görüntüsü 2021-03-29 011604.png', '/content/drive/MyDrive/Colab Notebooks/ANN and CNN/riskli/mic/Ekran görüntüsü 2021-03-29 011604 (2).png', '/content/drive/MyDrive/Colab Notebooks/ANN and CNN/riskli/mic/Ekran görüntüsü 2021-03-29 011621.png', '/content/drive/MyDrive/Colab Notebooks/ANN and CNN/riskli/mic/Ekran görüntüsü 2021-03-29 011621 (2).png', '/content/drive/MyDrive/Colab Notebooks/ANN and CNN/riskli/mic/kes (2).png', '/content/drive/MyDrive/Colab Notebooks/ANN and CNN/riskli/mic/kes.png', '/content/drive/MyDrive/Colab Notebooks/ANN and CNN/riskli/mic/Ekran görüntüsü 2021-03-29 011957.png', '/content/drive/MyDrive/Colab Notebooks/ANN and CNN/riskli/mic/Ekran görüntüsü 2021-03-29 011957 (2).png', '/content/drive/MyDrive/Colab Notebooks/ANN and CNN/riskli/mic/Ekran görüntüsü 2021-03-29 012012 (2).png', '/content/drive/MyDrive/Colab Notebooks/ANN and CNN/riskli/mic/Ekran görüntüsü 2021-03-29 012012.png', '/content/drive/MyDrive/Colab Notebooks/ANN and CNN/riskli/mic/Ekran görüntüsü 2021-03-29 012032 (2).png', '/content/drive/MyDrive/Colab Notebooks/ANN and CNN/riskli/mic/Ekran görüntüsü 2021-03-29 012032.png', '/content/drive/MyDrive/Colab Notebooks/ANN and CNN/riskli/mic/Ekran görüntüsü 2021-03-29 012110 (2).png', '/content/drive/MyDrive/Colab Notebooks/ANN and CNN/riskli/mic/Ekran görüntüsü 2021-03-29 012110.png', '/content/drive/MyDrive/Colab Notebooks/ANN and CNN/riskli/mic/Ekran görüntüsü 2021-03-29 012423.png', '/content/drive/MyDrive/Colab Notebooks/ANN and CNN/riskli/mic/Ekran görüntüsü 2021-03-29 012423 (2).png', '/content/drive/MyDrive/Colab Notebooks/ANN and CNN/riskli/mic/Ekran görüntüsü 2021-03-29 012500.png', '/content/drive/MyDrive/Colab Notebooks/ANN and CNN/riskli/mic/Ekran görüntüsü 2021-03-29 012500 (2).png', '/content/drive/MyDrive/Colab Notebooks/ANN and CNN/riskli/mic/Ekran görüntüsü 2021-03-29 012517.png', '/content/drive/MyDrive/Colab Notebooks/ANN and CNN/riskli/mic/Ekran görüntüsü 2021-03-29 012517 (2).png', '/content/drive/MyDrive/Colab Notebooks/ANN and CNN/riskli/mic/Ekran görüntüsü 2021-03-29 012546 (2).png', '/content/drive/MyDrive/Colab Notebooks/ANN and CNN/riskli/mic/Ekran görüntüsü 2021-03-29 012546.png', '/content/drive/MyDrive/Colab Notebooks/ANN and CNN/riskli/mic/Ekran görüntüsü 2021-03-29 012559.png', '/content/drive/MyDrive/Colab Notebooks/ANN and CNN/riskli/mic/Ekran görüntüsü 2021-03-29 012559 (2).png', '/content/drive/MyDrive/Colab Notebooks/ANN and CNN/riskli/mic/Ekran görüntüsü 2021-03-29 012616 (2).png', '/content/drive/MyDrive/Colab Notebooks/ANN and CNN/riskli/mic/Ekran görüntüsü 2021-03-29 012616.png', '/content/drive/MyDrive/Colab Notebooks/ANN and CNN/riskli/mic/Ekran görüntüsü 2021-03-29 012838.png', '/content/drive/MyDrive/Colab Notebooks/ANN and CNN/riskli/mic/Ekran görüntüsü 2021-03-29 012838 (2).png', '/content/drive/MyDrive/Colab Notebooks/ANN and CNN/riskli/mic/Ekran görüntüsü 2021-03-29 012923.png', '/content/drive/MyDrive/Colab Notebooks/ANN and CNN/riskli/mic/Ekran görüntüsü 2021-03-29 012923 (2).png', '/content/drive/MyDrive/Colab Notebooks/ANN and CNN/riskli/mic/Ekran görüntüsü 2021-03-29 012940.png', '/content/drive/MyDrive/Colab Notebooks/ANN and CNN/riskli/mic/Ekran görüntüsü 2021-03-29 012940 (2).png', '/content/drive/MyDrive/Colab Notebooks/ANN and CNN/riskli/mic/Ekran görüntüsü 2021-03-29 013043 (2).png', '/content/drive/MyDrive/Colab Notebooks/ANN and CNN/riskli/mic/Ekran görüntüsü 2021-03-29 013043.png', '/content/drive/MyDrive/Colab Notebooks/ANN and CNN/riskli/mic/Ekran görüntüsü 2021-03-29 014836.png', '/content/drive/MyDrive/Colab Notebooks/ANN and CNN/riskli/mic/Ekran görüntüsü 2021-03-29 014836 (2).png', '/content/drive/MyDrive/Colab Notebooks/ANN and CNN/riskli/mic/Ekran görüntüsü 2021-03-29 014906.png', '/content/drive/MyDrive/Colab Notebooks/ANN and CNN/riskli/mic/Ekran görüntüsü 2021-03-29 014906 (2).png', '/content/drive/MyDrive/Colab Notebooks/ANN and CNN/riskli/mic/Ekran görüntüsü 2021-03-29 015156 (2).png', '/content/drive/MyDrive/Colab Notebooks/ANN and CNN/riskli/mic/Ekran görüntüsü 2021-03-29 015156.png', '/content/drive/MyDrive/Colab Notebooks/ANN and CNN/riskli/mic/Ekran görüntüsü 2021-03-29 015234.png', '/content/drive/MyDrive/Colab Notebooks/ANN and CNN/riskli/mic/Ekran görüntüsü 2021-03-29 015234 (2).png', '/content/drive/MyDrive/Colab Notebooks/ANN and CNN/riskli/mic/Ekran görüntüsü 2021-03-29 015250.png', '/content/drive/MyDrive/Colab Notebooks/ANN and CNN/riskli/mic/Ekran görüntüsü 2021-03-29 015250 (2).png', '/content/drive/MyDrive/Colab Notebooks/ANN and CNN/riskli/mic/Ekran görüntüsü 2021-03-29 015303.png', '/content/drive/MyDrive/Colab Notebooks/ANN and CNN/riskli/mic/Ekran görüntüsü 2021-03-29 015303 (2).png', '/content/drive/MyDrive/Colab Notebooks/ANN and CNN/riskli/mic/Ekran görüntüsü 2021-03-29 015341.png', '/content/drive/MyDrive/Colab Notebooks/ANN and CNN/riskli/mic/Ekran görüntüsü 2021-03-29 015341 (2).png', '/content/drive/MyDrive/Colab Notebooks/ANN and CNN/riskli/mic/Ekran görüntüsü 2021-03-29 015421 (2).png', '/content/drive/MyDrive/Colab Notebooks/ANN and CNN/riskli/mic/Ekran görüntüsü 2021-03-29 015421.png', '/content/drive/MyDrive/Colab Notebooks/ANN and CNN/riskli/mic/Ekran görüntüsü 2021-03-29 015445.png', '/content/drive/MyDrive/Colab Notebooks/ANN and CNN/riskli/mic/Ekran görüntüsü 2021-03-29 015445 (2).png', '/content/drive/MyDrive/Colab Notebooks/ANN and CNN/riskli/mic/Ekran görüntüsü 2021-03-29 015505 (2).png', '/content/drive/MyDrive/Colab Notebooks/ANN and CNN/riskli/mic/Ekran görüntüsü 2021-03-29 015505.png', '/content/drive/MyDrive/Colab Notebooks/ANN and CNN/riskli/mic/Ekran görüntüsü 2021-03-29 015538 (2).png', '/content/drive/MyDrive/Colab Notebooks/ANN and CNN/riskli/mic/Ekran görüntüsü 2021-03-29 015538.png', '/content/drive/MyDrive/Colab Notebooks/ANN and CNN/riskli/mic/c2.png', '/content/drive/MyDrive/Colab Notebooks/ANN and CNN/riskli/mic/c2 (4).png', '/content/drive/MyDrive/Colab Notebooks/ANN and CNN/riskli/mic/c5.png', '/content/drive/MyDrive/Colab Notebooks/ANN and CNN/riskli/mic/c5 (4).png', '/content/drive/MyDrive/Colab Notebooks/ANN and CNN/riskli/mic/c7 (4).png', '/content/drive/MyDrive/Colab Notebooks/ANN and CNN/riskli/mic/c7.png', '/content/drive/MyDrive/Colab Notebooks/ANN and CNN/riskli/mic/c9 (4).png', '/content/drive/MyDrive/Colab Notebooks/ANN and CNN/riskli/mic/c9.png', '/content/drive/MyDrive/Colab Notebooks/ANN and CNN/riskli/mic/c14kesik (2).png', '/content/drive/MyDrive/Colab Notebooks/ANN and CNN/riskli/mic/c14kesik.png', '/content/drive/MyDrive/Colab Notebooks/ANN and CNN/riskli/mic/c18 (4).png', '/content/drive/MyDrive/Colab Notebooks/ANN and CNN/riskli/mic/c18.png', '/content/drive/MyDrive/Colab Notebooks/ANN and CNN/riskli/mic/c19 (4).png', '/content/drive/MyDrive/Colab Notebooks/ANN and CNN/riskli/mic/c19.png', '/content/drive/MyDrive/Colab Notebooks/ANN and CNN/riskli/mic/c22.png', '/content/drive/MyDrive/Colab Notebooks/ANN and CNN/riskli/mic/c22 (4).png', '/content/drive/MyDrive/Colab Notebooks/ANN and CNN/riskli/mic/c23.png', '/content/drive/MyDrive/Colab Notebooks/ANN and CNN/riskli/mic/c23 (4).png', '/content/drive/MyDrive/Colab Notebooks/ANN and CNN/riskli/mic/c24.png', '/content/drive/MyDrive/Colab Notebooks/ANN and CNN/riskli/mic/c24 (4).png', '/content/drive/MyDrive/Colab Notebooks/ANN and CNN/riskli/mic/c25.png', '/content/drive/MyDrive/Colab Notebooks/ANN and CNN/riskli/mic/c25 (4).png', '/content/drive/MyDrive/Colab Notebooks/ANN and CNN/riskli/mic/c26 (4).png', '/content/drive/MyDrive/Colab Notebooks/ANN and CNN/riskli/mic/c26.png', '/content/drive/MyDrive/Colab Notebooks/ANN and CNN/riskli/mic/c27 (4).png', '/content/drive/MyDrive/Colab Notebooks/ANN and CNN/riskli/mic/c27.png', '/content/drive/MyDrive/Colab Notebooks/ANN and CNN/riskli/mic/c28.png', '/content/drive/MyDrive/Colab Notebooks/ANN and CNN/riskli/mic/c28 (4).png', '/content/drive/MyDrive/Colab Notebooks/ANN and CNN/riskli/mic/c29 (4).png', '/content/drive/MyDrive/Colab Notebooks/ANN and CNN/riskli/mic/c29.png', '/content/drive/MyDrive/Colab Notebooks/ANN and CNN/riskli/mic/c30 (4).png', '/content/drive/MyDrive/Colab Notebooks/ANN and CNN/riskli/mic/c30.png', '/content/drive/MyDrive/Colab Notebooks/ANN and CNN/riskli/mic/c31.png', '/content/drive/MyDrive/Colab Notebooks/ANN and CNN/riskli/mic/c31 (4).png', '/content/drive/MyDrive/Colab Notebooks/ANN and CNN/riskli/mic/c32 (4).png', '/content/drive/MyDrive/Colab Notebooks/ANN and CNN/riskli/mic/c32.png', '/content/drive/MyDrive/Colab Notebooks/ANN and CNN/riskli/mic/c33 (4).png', '/content/drive/MyDrive/Colab Notebooks/ANN and CNN/riskli/mic/c33.png', '/content/drive/MyDrive/Colab Notebooks/ANN and CNN/riskli/mic/c34.png', '/content/drive/MyDrive/Colab Notebooks/ANN and CNN/riskli/mic/c34 (2).png', '/content/drive/MyDrive/Colab Notebooks/ANN and CNN/riskli/mic/c35 (4).png', '/content/drive/MyDrive/Colab Notebooks/ANN and CNN/riskli/mic/c35.png', '/content/drive/MyDrive/Colab Notebooks/ANN and CNN/riskli/mic/c36.png', '/content/drive/MyDrive/Colab Notebooks/ANN and CNN/riskli/mic/c36 (4).png', '/content/drive/MyDrive/Colab Notebooks/ANN and CNN/riskli/mic/c37.png', '/content/drive/MyDrive/Colab Notebooks/ANN and CNN/riskli/mic/c37 (4).png', '/content/drive/MyDrive/Colab Notebooks/ANN and CNN/riskli/mic/c38 (4).png', '/content/drive/MyDrive/Colab Notebooks/ANN and CNN/riskli/mic/c38.png', '/content/drive/MyDrive/Colab Notebooks/ANN and CNN/riskli/mic/c39 (4).png', '/content/drive/MyDrive/Colab Notebooks/ANN and CNN/riskli/mic/c39.png', '/content/drive/MyDrive/Colab Notebooks/ANN and CNN/riskli/mic/c40 (4).png', '/content/drive/MyDrive/Colab Notebooks/ANN and CNN/riskli/mic/c40.png', '/content/drive/MyDrive/Colab Notebooks/ANN and CNN/riskli/mic/c41.png', '/content/drive/MyDrive/Colab Notebooks/ANN and CNN/riskli/mic/c41 (4).png', '/content/drive/MyDrive/Colab Notebooks/ANN and CNN/riskli/mic/c42.png', '/content/drive/MyDrive/Colab Notebooks/ANN and CNN/riskli/mic/c42 (4).png', '/content/drive/MyDrive/Colab Notebooks/ANN and CNN/riskli/mic/c43.png', '/content/drive/MyDrive/Colab Notebooks/ANN and CNN/riskli/mic/c43 (4).png', '/content/drive/MyDrive/Colab Notebooks/ANN and CNN/riskli/mic/c2 (2).png', '/content/drive/MyDrive/Colab Notebooks/ANN and CNN/riskli/mic/c2 (3).png', '/content/drive/MyDrive/Colab Notebooks/ANN and CNN/riskli/mic/c3.png', '/content/drive/MyDrive/Colab Notebooks/ANN and CNN/riskli/mic/c3 (2).png', '/content/drive/MyDrive/Colab Notebooks/ANN and CNN/riskli/mic/c4 (2).png', '/content/drive/MyDrive/Colab Notebooks/ANN and CNN/riskli/mic/c4.png', '/content/drive/MyDrive/Colab Notebooks/ANN and CNN/riskli/mic/c5 (2).png', '/content/drive/MyDrive/Colab Notebooks/ANN and CNN/riskli/mic/c5 (3).png', '/content/drive/MyDrive/Colab Notebooks/ANN and CNN/riskli/mic/c6.png', '/content/drive/MyDrive/Colab Notebooks/ANN and CNN/riskli/mic/c6 (2).png', '/content/drive/MyDrive/Colab Notebooks/ANN and CNN/riskli/mic/c7 (3).png', '/content/drive/MyDrive/Colab Notebooks/ANN and CNN/riskli/mic/c7 (2).png', '/content/drive/MyDrive/Colab Notebooks/ANN and CNN/riskli/mic/c8.png', '/content/drive/MyDrive/Colab Notebooks/ANN and CNN/riskli/mic/c8 (2).png', '/content/drive/MyDrive/Colab Notebooks/ANN and CNN/riskli/mic/c9 (2).png', '/content/drive/MyDrive/Colab Notebooks/ANN and CNN/riskli/mic/c9 (3).png', '/content/drive/MyDrive/Colab Notebooks/ANN and CNN/riskli/mic/c10 (2).png', '/content/drive/MyDrive/Colab Notebooks/ANN and CNN/riskli/mic/c10.png', '/content/drive/MyDrive/Colab Notebooks/ANN and CNN/riskli/mic/c12.png', '/content/drive/MyDrive/Colab Notebooks/ANN and CNN/riskli/mic/c12 (2).png', '/content/drive/MyDrive/Colab Notebooks/ANN and CNN/riskli/mic/c13 (2).png', '/content/drive/MyDrive/Colab Notebooks/ANN and CNN/riskli/mic/c13.png', '/content/drive/MyDrive/Colab Notebooks/ANN and CNN/riskli/mic/c44.png', '/content/drive/MyDrive/Colab Notebooks/ANN and CNN/riskli/mic/c44 (2).png', '/content/drive/MyDrive/Colab Notebooks/ANN and CNN/riskli/mic/c14.png', '/content/drive/MyDrive/Colab Notebooks/ANN and CNN/riskli/mic/c14 (2).png', '/content/drive/MyDrive/Colab Notebooks/ANN and CNN/riskli/mic/c45.png', '/content/drive/MyDrive/Colab Notebooks/ANN and CNN/riskli/mic/c45 (4).png', '/content/drive/MyDrive/Colab Notebooks/ANN and CNN/riskli/mic/c15 (2).png', '/content/drive/MyDrive/Colab Notebooks/ANN and CNN/riskli/mic/c15.png', '/content/drive/MyDrive/Colab Notebooks/ANN and CNN/riskli/mic/c16 (2).png', '/content/drive/MyDrive/Colab Notebooks/ANN and CNN/riskli/mic/c16.png', '/content/drive/MyDrive/Colab Notebooks/ANN and CNN/riskli/mic/c17 (2).png', '/content/drive/MyDrive/Colab Notebooks/ANN and CNN/riskli/mic/c17.png', '/content/drive/MyDrive/Colab Notebooks/ANN and CNN/riskli/mic/c18 (3).png', '/content/drive/MyDrive/Colab Notebooks/ANN and CNN/riskli/mic/c18 (2).png', '/content/drive/MyDrive/Colab Notebooks/ANN and CNN/riskli/mic/c19 (3).png', '/content/drive/MyDrive/Colab Notebooks/ANN and CNN/riskli/mic/c19 (2).png', '/content/drive/MyDrive/Colab Notebooks/ANN and CNN/riskli/mic/c20.png', '/content/drive/MyDrive/Colab Notebooks/ANN and CNN/riskli/mic/c20 (2).png', '/content/drive/MyDrive/Colab Notebooks/ANN and CNN/riskli/mic/c21.png', '/content/drive/MyDrive/Colab Notebooks/ANN and CNN/riskli/mic/c21 (2).png', '/content/drive/MyDrive/Colab Notebooks/ANN and CNN/riskli/mic/c22 (3).png', '/content/drive/MyDrive/Colab Notebooks/ANN and CNN/riskli/mic/c22 (2).png', '/content/drive/MyDrive/Colab Notebooks/ANN and CNN/riskli/mic/c23 (2).png', '/content/drive/MyDrive/Colab Notebooks/ANN and CNN/riskli/mic/c23 (3).png', '/content/drive/MyDrive/Colab Notebooks/ANN and CNN/riskli/mic/c24 (2).png', '/content/drive/MyDrive/Colab Notebooks/ANN and CNN/riskli/mic/c24 (3).png', '/content/drive/MyDrive/Colab Notebooks/ANN and CNN/riskli/mic/c25 (2).png', '/content/drive/MyDrive/Colab Notebooks/ANN and CNN/riskli/mic/c25 (3).png', '/content/drive/MyDrive/Colab Notebooks/ANN and CNN/riskli/mic/c26 (2).png', '/content/drive/MyDrive/Colab Notebooks/ANN and CNN/riskli/mic/c26 (3).png', '/content/drive/MyDrive/Colab Notebooks/ANN and CNN/riskli/mic/c46 (4).png', '/content/drive/MyDrive/Colab Notebooks/ANN and CNN/riskli/mic/c46.png', '/content/drive/MyDrive/Colab Notebooks/ANN and CNN/riskli/mic/c47.png', '/content/drive/MyDrive/Colab Notebooks/ANN and CNN/riskli/mic/c47 (4).png', '/content/drive/MyDrive/Colab Notebooks/ANN and CNN/riskli/mic/c27 (3).png', '/content/drive/MyDrive/Colab Notebooks/ANN and CNN/riskli/mic/c27 (2).png', '/content/drive/MyDrive/Colab Notebooks/ANN and CNN/riskli/mic/c48.png', '/content/drive/MyDrive/Colab Notebooks/ANN and CNN/riskli/mic/c48 (2).png', '/content/drive/MyDrive/Colab Notebooks/ANN and CNN/riskli/mic/c49.png', '/content/drive/MyDrive/Colab Notebooks/ANN and CNN/riskli/mic/c49 (2).png', '/content/drive/MyDrive/Colab Notebooks/ANN and CNN/riskli/mic/c28 (2).png', '/content/drive/MyDrive/Colab Notebooks/ANN and CNN/riskli/mic/c28 (3).png', '/content/drive/MyDrive/Colab Notebooks/ANN and CNN/riskli/mic/c29 (3).png', '/content/drive/MyDrive/Colab Notebooks/ANN and CNN/riskli/mic/c29 (2).png', '/content/drive/MyDrive/Colab Notebooks/ANN and CNN/riskli/mic/c50 (2).png', '/content/drive/MyDrive/Colab Notebooks/ANN and CNN/riskli/mic/c50.png', '/content/drive/MyDrive/Colab Notebooks/ANN and CNN/riskli/mic/c30 (3).png', '/content/drive/MyDrive/Colab Notebooks/ANN and CNN/riskli/mic/c30 (2).png', '/content/drive/MyDrive/Colab Notebooks/ANN and CNN/riskli/mic/c51 (4).png', '/content/drive/MyDrive/Colab Notebooks/ANN and CNN/riskli/mic/c51.png', '/content/drive/MyDrive/Colab Notebooks/ANN and CNN/riskli/mic/c52 (2).png', '/content/drive/MyDrive/Colab Notebooks/ANN and CNN/riskli/mic/c31 (2).png', '/content/drive/MyDrive/Colab Notebooks/ANN and CNN/riskli/mic/c52.png', '/content/drive/MyDrive/Colab Notebooks/ANN and CNN/riskli/mic/c31 (3).png', '/content/drive/MyDrive/Colab Notebooks/ANN and CNN/riskli/mic/c53.png', '/content/drive/MyDrive/Colab Notebooks/ANN and CNN/riskli/mic/c53 (2).png', '/content/drive/MyDrive/Colab Notebooks/ANN and CNN/riskli/mic/c32 (2).png', '/content/drive/MyDrive/Colab Notebooks/ANN and CNN/riskli/mic/c32 (3).png', '/content/drive/MyDrive/Colab Notebooks/ANN and CNN/riskli/mic/c33 (3).png', '/content/drive/MyDrive/Colab Notebooks/ANN and CNN/riskli/mic/c33 (2).png', '/content/drive/MyDrive/Colab Notebooks/ANN and CNN/riskli/mic/c54 (4).png', '/content/drive/MyDrive/Colab Notebooks/ANN and CNN/riskli/mic/c54.png', '/content/drive/MyDrive/Colab Notebooks/ANN and CNN/riskli/mic/c35 (2).png', '/content/drive/MyDrive/Colab Notebooks/ANN and CNN/riskli/mic/c35 (3).png', '/content/drive/MyDrive/Colab Notebooks/ANN and CNN/riskli/mic/c36 (2).png', '/content/drive/MyDrive/Colab Notebooks/ANN and CNN/riskli/mic/c36 (3).png', '/content/drive/MyDrive/Colab Notebooks/ANN and CNN/riskli/mic/c37 (3).png', '/content/drive/MyDrive/Colab Notebooks/ANN and CNN/riskli/mic/c37 (2).png', '/content/drive/MyDrive/Colab Notebooks/ANN and CNN/riskli/mic/c55.png', '/content/drive/MyDrive/Colab Notebooks/ANN and CNN/riskli/mic/c55 (4).png', '/content/drive/MyDrive/Colab Notebooks/ANN and CNN/riskli/mic/c38 (3).png', '/content/drive/MyDrive/Colab Notebooks/ANN and CNN/riskli/mic/c56 (4).png', '/content/drive/MyDrive/Colab Notebooks/ANN and CNN/riskli/mic/c56.png', '/content/drive/MyDrive/Colab Notebooks/ANN and CNN/riskli/mic/c38 (2).png', '/content/drive/MyDrive/Colab Notebooks/ANN and CNN/riskli/mic/c57 (4).png', '/content/drive/MyDrive/Colab Notebooks/ANN and CNN/riskli/mic/c57.png', '/content/drive/MyDrive/Colab Notebooks/ANN and CNN/riskli/mic/c58 (2).png', '/content/drive/MyDrive/Colab Notebooks/ANN and CNN/riskli/mic/c58.png', '/content/drive/MyDrive/Colab Notebooks/ANN and CNN/riskli/mic/c59.png', '/content/drive/MyDrive/Colab Notebooks/ANN and CNN/riskli/mic/c59 (2).png', '/content/drive/MyDrive/Colab Notebooks/ANN and CNN/riskli/mic/c60.png', '/content/drive/MyDrive/Colab Notebooks/ANN and CNN/riskli/mic/c60 (2).png', '/content/drive/MyDrive/Colab Notebooks/ANN and CNN/riskli/mic/c39 (2).png', '/content/drive/MyDrive/Colab Notebooks/ANN and CNN/riskli/mic/c39 (3).png', '/content/drive/MyDrive/Colab Notebooks/ANN and CNN/riskli/mic/c40 (3).png', '/content/drive/MyDrive/Colab Notebooks/ANN and CNN/riskli/mic/c40 (2).png', '/content/drive/MyDrive/Colab Notebooks/ANN and CNN/riskli/mic/c41 (3).png', '/content/drive/MyDrive/Colab Notebooks/ANN and CNN/riskli/mic/c41 (2).png', '/content/drive/MyDrive/Colab Notebooks/ANN and CNN/riskli/mic/c42 (3).png', '/content/drive/MyDrive/Colab Notebooks/ANN and CNN/riskli/mic/c42 (2).png', '/content/drive/MyDrive/Colab Notebooks/ANN and CNN/riskli/mic/c43 (3).png', '/content/drive/MyDrive/Colab Notebooks/ANN and CNN/riskli/mic/c43 (2).png', '/content/drive/MyDrive/Colab Notebooks/ANN and CNN/riskli/mic/c61.png', '/content/drive/MyDrive/Colab Notebooks/ANN and CNN/riskli/mic/c61 (4).png', '/content/drive/MyDrive/Colab Notebooks/ANN and CNN/riskli/mic/c62.png', '/content/drive/MyDrive/Colab Notebooks/ANN and CNN/riskli/mic/c62 (4).png', '/content/drive/MyDrive/Colab Notebooks/ANN and CNN/riskli/mic/c63.png', '/content/drive/MyDrive/Colab Notebooks/ANN and CNN/riskli/mic/c63 (4).png', '/content/drive/MyDrive/Colab Notebooks/ANN and CNN/riskli/mic/c64 (4).png', '/content/drive/MyDrive/Colab Notebooks/ANN and CNN/riskli/mic/c64.png', '/content/drive/MyDrive/Colab Notebooks/ANN and CNN/riskli/mic/c65 (4).png', '/content/drive/MyDrive/Colab Notebooks/ANN and CNN/riskli/mic/c65.png', '/content/drive/MyDrive/Colab Notebooks/ANN and CNN/riskli/mic/c45 (3).png', '/content/drive/MyDrive/Colab Notebooks/ANN and CNN/riskli/mic/c45 (2).png', '/content/drive/MyDrive/Colab Notebooks/ANN and CNN/riskli/mic/c46 (3).png', '/content/drive/MyDrive/Colab Notebooks/ANN and CNN/riskli/mic/c46 (2).png', '/content/drive/MyDrive/Colab Notebooks/ANN and CNN/riskli/mic/c47 (2).png', '/content/drive/MyDrive/Colab Notebooks/ANN and CNN/riskli/mic/c47 (3).png', '/content/drive/MyDrive/Colab Notebooks/ANN and CNN/riskli/mic/c66.png', '/content/drive/MyDrive/Colab Notebooks/ANN and CNN/riskli/mic/c66 (2).png', '/content/drive/MyDrive/Colab Notebooks/ANN and CNN/riskli/mic/c67.png', '/content/drive/MyDrive/Colab Notebooks/ANN and CNN/riskli/mic/c67 (4).png', '/content/drive/MyDrive/Colab Notebooks/ANN and CNN/riskli/mic/c51 (3).png', '/content/drive/MyDrive/Colab Notebooks/ANN and CNN/riskli/mic/c51 (2).png', '/content/drive/MyDrive/Colab Notebooks/ANN and CNN/riskli/mic/c68 (4).png', '/content/drive/MyDrive/Colab Notebooks/ANN and CNN/riskli/mic/c68.png', '/content/drive/MyDrive/Colab Notebooks/ANN and CNN/riskli/mic/c54 (2).png', '/content/drive/MyDrive/Colab Notebooks/ANN and CNN/riskli/mic/c54 (3).png', '/content/drive/MyDrive/Colab Notebooks/ANN and CNN/riskli/mic/c55 (3).png', '/content/drive/MyDrive/Colab Notebooks/ANN and CNN/riskli/mic/c55 (2).png', '/content/drive/MyDrive/Colab Notebooks/ANN and CNN/riskli/mic/c56 (2).png', '/content/drive/MyDrive/Colab Notebooks/ANN and CNN/riskli/mic/c56 (3).png', '/content/drive/MyDrive/Colab Notebooks/ANN and CNN/riskli/mic/c57 (2).png', '/content/drive/MyDrive/Colab Notebooks/ANN and CNN/riskli/mic/c57 (3).png', '/content/drive/MyDrive/Colab Notebooks/ANN and CNN/riskli/mic/c61 (2).png', '/content/drive/MyDrive/Colab Notebooks/ANN and CNN/riskli/mic/c61 (3).png', '/content/drive/MyDrive/Colab Notebooks/ANN and CNN/riskli/mic/c69.png', '/content/drive/MyDrive/Colab Notebooks/ANN and CNN/riskli/mic/c69 (4).png', '/content/drive/MyDrive/Colab Notebooks/ANN and CNN/riskli/mic/c70 (2).png', '/content/drive/MyDrive/Colab Notebooks/ANN and CNN/riskli/mic/c70.png', '/content/drive/MyDrive/Colab Notebooks/ANN and CNN/riskli/mic/c71.png', '/content/drive/MyDrive/Colab Notebooks/ANN and CNN/riskli/mic/c71 (4).png', '/content/drive/MyDrive/Colab Notebooks/ANN and CNN/riskli/mic/c72.png', '/content/drive/MyDrive/Colab Notebooks/ANN and CNN/riskli/mic/c72 (4).png', '/content/drive/MyDrive/Colab Notebooks/ANN and CNN/riskli/mic/c73.png', '/content/drive/MyDrive/Colab Notebooks/ANN and CNN/riskli/mic/c73 (4).png', '/content/drive/MyDrive/Colab Notebooks/ANN and CNN/riskli/mic/c74.png', '/content/drive/MyDrive/Colab Notebooks/ANN and CNN/riskli/mic/c74 (4).png', '/content/drive/MyDrive/Colab Notebooks/ANN and CNN/riskli/mic/c75 (4).png', '/content/drive/MyDrive/Colab Notebooks/ANN and CNN/riskli/mic/c75.png', '/content/drive/MyDrive/Colab Notebooks/ANN and CNN/riskli/mic/c76 (2).png', '/content/drive/MyDrive/Colab Notebooks/ANN and CNN/riskli/mic/c76.png', '/content/drive/MyDrive/Colab Notebooks/ANN and CNN/riskli/mic/c77.png', '/content/drive/MyDrive/Colab Notebooks/ANN and CNN/riskli/mic/c77 (2).png', '/content/drive/MyDrive/Colab Notebooks/ANN and CNN/riskli/mic/c63 (3).png', '/content/drive/MyDrive/Colab Notebooks/ANN and CNN/riskli/mic/c63 (2).png', '/content/drive/MyDrive/Colab Notebooks/ANN and CNN/riskli/mic/c78.png', '/content/drive/MyDrive/Colab Notebooks/ANN and CNN/riskli/mic/c78 (4).png', '/content/drive/MyDrive/Colab Notebooks/ANN and CNN/riskli/mic/c62 (3).png', '/content/drive/MyDrive/Colab Notebooks/ANN and CNN/riskli/mic/c62 (2).png', '/content/drive/MyDrive/Colab Notebooks/ANN and CNN/riskli/mic/c64 (3).png', '/content/drive/MyDrive/Colab Notebooks/ANN and CNN/riskli/mic/c64 (2).png', '/content/drive/MyDrive/Colab Notebooks/ANN and CNN/riskli/mic/c65 (2).png', '/content/drive/MyDrive/Colab Notebooks/ANN and CNN/riskli/mic/c65 (3).png', '/content/drive/MyDrive/Colab Notebooks/ANN and CNN/riskli/mic/c67 (3).png', '/content/drive/MyDrive/Colab Notebooks/ANN and CNN/riskli/mic/c67 (2).png', '/content/drive/MyDrive/Colab Notebooks/ANN and CNN/riskli/mic/c68 (2).png', '/content/drive/MyDrive/Colab Notebooks/ANN and CNN/riskli/mic/c68 (3).png', '/content/drive/MyDrive/Colab Notebooks/ANN and CNN/riskli/mic/c69 (3).png', '/content/drive/MyDrive/Colab Notebooks/ANN and CNN/riskli/mic/c69 (2).png', '/content/drive/MyDrive/Colab Notebooks/ANN and CNN/riskli/mic/c71 (3).png', '/content/drive/MyDrive/Colab Notebooks/ANN and CNN/riskli/mic/c71 (2).png', '/content/drive/MyDrive/Colab Notebooks/ANN and CNN/riskli/mic/c72 (3).png', '/content/drive/MyDrive/Colab Notebooks/ANN and CNN/riskli/mic/c72 (2).png', '/content/drive/MyDrive/Colab Notebooks/ANN and CNN/riskli/mic/c79 (4).png', '/content/drive/MyDrive/Colab Notebooks/ANN and CNN/riskli/mic/c79.png', '/content/drive/MyDrive/Colab Notebooks/ANN and CNN/riskli/mic/c80.png', '/content/drive/MyDrive/Colab Notebooks/ANN and CNN/riskli/mic/c80 (4).png', '/content/drive/MyDrive/Colab Notebooks/ANN and CNN/riskli/mic/c81kesik (2).png', '/content/drive/MyDrive/Colab Notebooks/ANN and CNN/riskli/mic/c81kesik.png', '/content/drive/MyDrive/Colab Notebooks/ANN and CNN/riskli/mic/c82 (2).png', '/content/drive/MyDrive/Colab Notebooks/ANN and CNN/riskli/mic/c82.png', '/content/drive/MyDrive/Colab Notebooks/ANN and CNN/riskli/mic/c83.png', '/content/drive/MyDrive/Colab Notebooks/ANN and CNN/riskli/mic/c83 (4).png', '/content/drive/MyDrive/Colab Notebooks/ANN and CNN/riskli/mic/c73 (3).png', '/content/drive/MyDrive/Colab Notebooks/ANN and CNN/riskli/mic/c73 (2).png', '/content/drive/MyDrive/Colab Notebooks/ANN and CNN/riskli/mic/c74 (2).png', '/content/drive/MyDrive/Colab Notebooks/ANN and CNN/riskli/mic/c74 (3).png', '/content/drive/MyDrive/Colab Notebooks/ANN and CNN/riskli/mic/c75 (2).png', '/content/drive/MyDrive/Colab Notebooks/ANN and CNN/riskli/mic/c75 (3).png', '/content/drive/MyDrive/Colab Notebooks/ANN and CNN/riskli/mic/c78 (3).png', '/content/drive/MyDrive/Colab Notebooks/ANN and CNN/riskli/mic/c78 (2).png', '/content/drive/MyDrive/Colab Notebooks/ANN and CNN/riskli/mic/c79 (2).png', '/content/drive/MyDrive/Colab Notebooks/ANN and CNN/riskli/mic/c79 (3).png', '/content/drive/MyDrive/Colab Notebooks/ANN and CNN/riskli/mic/c84.png', '/content/drive/MyDrive/Colab Notebooks/ANN and CNN/riskli/mic/c84 (4).png', '/content/drive/MyDrive/Colab Notebooks/ANN and CNN/riskli/mic/c80 (3).png', '/content/drive/MyDrive/Colab Notebooks/ANN and CNN/riskli/mic/c80 (2).png', '/content/drive/MyDrive/Colab Notebooks/ANN and CNN/riskli/mic/c85.png', '/content/drive/MyDrive/Colab Notebooks/ANN and CNN/riskli/mic/c85 (4).png', '/content/drive/MyDrive/Colab Notebooks/ANN and CNN/riskli/mic/c86 (4).png', '/content/drive/MyDrive/Colab Notebooks/ANN and CNN/riskli/mic/c86.png', '/content/drive/MyDrive/Colab Notebooks/ANN and CNN/riskli/mic/c83 (2).png', '/content/drive/MyDrive/Colab Notebooks/ANN and CNN/riskli/mic/c83 (3).png', '/content/drive/MyDrive/Colab Notebooks/ANN and CNN/riskli/mic/c84 (3).png', '/content/drive/MyDrive/Colab Notebooks/ANN and CNN/riskli/mic/c84 (2).png', '/content/drive/MyDrive/Colab Notebooks/ANN and CNN/riskli/mic/c87 (4).png', '/content/drive/MyDrive/Colab Notebooks/ANN and CNN/riskli/mic/c87.png', '/content/drive/MyDrive/Colab Notebooks/ANN and CNN/riskli/mic/c85 (3).png', '/content/drive/MyDrive/Colab Notebooks/ANN and CNN/riskli/mic/c85 (2).png', '/content/drive/MyDrive/Colab Notebooks/ANN and CNN/riskli/mic/c86 (2).png', '/content/drive/MyDrive/Colab Notebooks/ANN and CNN/riskli/mic/c86 (3).png', '/content/drive/MyDrive/Colab Notebooks/ANN and CNN/riskli/mic/c87 (3).png', '/content/drive/MyDrive/Colab Notebooks/ANN and CNN/riskli/mic/c87 (2).png', '/content/drive/MyDrive/Colab Notebooks/ANN and CNN/riskli/mic/c89 (2).png', '/content/drive/MyDrive/Colab Notebooks/ANN and CNN/riskli/mic/c89 (3).png', '/content/drive/MyDrive/Colab Notebooks/ANN and CNN/riskli/mic/c90 (2).png', '/content/drive/MyDrive/Colab Notebooks/ANN and CNN/riskli/mic/c90 (3).png', '/content/drive/MyDrive/Colab Notebooks/ANN and CNN/riskli/mic/c91 (3).png', '/content/drive/MyDrive/Colab Notebooks/ANN and CNN/riskli/mic/c91 (2).png', '/content/drive/MyDrive/Colab Notebooks/ANN and CNN/riskli/mic/c92 (2).png', '/content/drive/MyDrive/Colab Notebooks/ANN and CNN/riskli/mic/c92 (3).png', '/content/drive/MyDrive/Colab Notebooks/ANN and CNN/riskli/mic/c93 (2).png', '/content/drive/MyDrive/Colab Notebooks/ANN and CNN/riskli/mic/c93 (3).png', '/content/drive/MyDrive/Colab Notebooks/ANN and CNN/riskli/mic/c94 (3).png', '/content/drive/MyDrive/Colab Notebooks/ANN and CNN/riskli/mic/c94 (2).png', '/content/drive/MyDrive/Colab Notebooks/ANN and CNN/riskli/mic/c95 (2).png', '/content/drive/MyDrive/Colab Notebooks/ANN and CNN/riskli/mic/c95 (3).png', '/content/drive/MyDrive/Colab Notebooks/ANN and CNN/riskli/mic/c98 (3).png', '/content/drive/MyDrive/Colab Notebooks/ANN and CNN/riskli/mic/c98 (2).png', '/content/drive/MyDrive/Colab Notebooks/ANN and CNN/riskli/mic/c99 (3).png', '/content/drive/MyDrive/Colab Notebooks/ANN and CNN/riskli/mic/c99 (2).png', '/content/drive/MyDrive/Colab Notebooks/ANN and CNN/riskli/mic/c100 (2).png', '/content/drive/MyDrive/Colab Notebooks/ANN and CNN/riskli/mic/c100 (3).png', '/content/drive/MyDrive/Colab Notebooks/ANN and CNN/riskli/mic/c88.png', '/content/drive/MyDrive/Colab Notebooks/ANN and CNN/riskli/mic/c88 (2).png', '/content/drive/MyDrive/Colab Notebooks/ANN and CNN/riskli/mic/c89 (4).png', '/content/drive/MyDrive/Colab Notebooks/ANN and CNN/riskli/mic/c89.png', '/content/drive/MyDrive/Colab Notebooks/ANN and CNN/riskli/mic/c101 (3).png', '/content/drive/MyDrive/Colab Notebooks/ANN and CNN/riskli/mic/c101 (2).png', '/content/drive/MyDrive/Colab Notebooks/ANN and CNN/riskli/mic/c90.png', '/content/drive/MyDrive/Colab Notebooks/ANN and CNN/riskli/mic/c90 (4).png', '/content/drive/MyDrive/Colab Notebooks/ANN and CNN/riskli/mic/c104 (3).png', '/content/drive/MyDrive/Colab Notebooks/ANN and CNN/riskli/mic/c104 (2).png', '/content/drive/MyDrive/Colab Notebooks/ANN and CNN/riskli/mic/c106 (3).png', '/content/drive/MyDrive/Colab Notebooks/ANN and CNN/riskli/mic/c106 (2).png', '/content/drive/MyDrive/Colab Notebooks/ANN and CNN/riskli/mic/c108 (2).png', '/content/drive/MyDrive/Colab Notebooks/ANN and CNN/riskli/mic/c108 (3).png', '/content/drive/MyDrive/Colab Notebooks/ANN and CNN/riskli/mic/c109 (3).png', '/content/drive/MyDrive/Colab Notebooks/ANN and CNN/riskli/mic/c109 (2).png', '/content/drive/MyDrive/Colab Notebooks/ANN and CNN/riskli/mic/c110 (2).png', '/content/drive/MyDrive/Colab Notebooks/ANN and CNN/riskli/mic/c110 (3).png', '/content/drive/MyDrive/Colab Notebooks/ANN and CNN/riskli/mic/c111 (3).png', '/content/drive/MyDrive/Colab Notebooks/ANN and CNN/riskli/mic/c111 (2).png', '/content/drive/MyDrive/Colab Notebooks/ANN and CNN/riskli/mic/c112 (2).png', '/content/drive/MyDrive/Colab Notebooks/ANN and CNN/riskli/mic/c112 (3).png', '/content/drive/MyDrive/Colab Notebooks/ANN and CNN/riskli/mic/c113 (3).png', '/content/drive/MyDrive/Colab Notebooks/ANN and CNN/riskli/mic/c113 (2).png', '/content/drive/MyDrive/Colab Notebooks/ANN and CNN/riskli/mic/c91.png', '/content/drive/MyDrive/Colab Notebooks/ANN and CNN/riskli/mic/c91 (4).png', '/content/drive/MyDrive/Colab Notebooks/ANN and CNN/riskli/mic/c92 (4).png', '/content/drive/MyDrive/Colab Notebooks/ANN and CNN/riskli/mic/c92.png', '/content/drive/MyDrive/Colab Notebooks/ANN and CNN/riskli/mic/c93.png', '/content/drive/MyDrive/Colab Notebooks/ANN and CNN/riskli/mic/c93 (4).png', '/content/drive/MyDrive/Colab Notebooks/ANN and CNN/riskli/mic/c94 (4).png', '/content/drive/MyDrive/Colab Notebooks/ANN and CNN/riskli/mic/c94.png', '/content/drive/MyDrive/Colab Notebooks/ANN and CNN/riskli/mic/c119 (2).png', '/content/drive/MyDrive/Colab Notebooks/ANN and CNN/riskli/mic/c119 (3).png', '/content/drive/MyDrive/Colab Notebooks/ANN and CNN/riskli/mic/c120 (2).png', '/content/drive/MyDrive/Colab Notebooks/ANN and CNN/riskli/mic/c120 (3).png', '/content/drive/MyDrive/Colab Notebooks/ANN and CNN/riskli/mic/c121.png', '/content/drive/MyDrive/Colab Notebooks/ANN and CNN/riskli/mic/c121 (2).png', '/content/drive/MyDrive/Colab Notebooks/ANN and CNN/riskli/mic/c122.png', '/content/drive/MyDrive/Colab Notebooks/ANN and CNN/riskli/mic/c122 (2).png', '/content/drive/MyDrive/Colab Notebooks/ANN and CNN/riskli/mic/c124.png', '/content/drive/MyDrive/Colab Notebooks/ANN and CNN/riskli/mic/c124 (2).png', '/content/drive/MyDrive/Colab Notebooks/ANN and CNN/riskli/mic/c125 (2).png', '/content/drive/MyDrive/Colab Notebooks/ANN and CNN/riskli/mic/c125.png', '/content/drive/MyDrive/Colab Notebooks/ANN and CNN/riskli/mic/c126 (2).png', '/content/drive/MyDrive/Colab Notebooks/ANN and CNN/riskli/mic/c126.png', '/content/drive/MyDrive/Colab Notebooks/ANN and CNN/riskli/mic/c127 (2).png', '/content/drive/MyDrive/Colab Notebooks/ANN and CNN/riskli/mic/c127.png', '/content/drive/MyDrive/Colab Notebooks/ANN and CNN/riskli/mic/c128 (2).png', '/content/drive/MyDrive/Colab Notebooks/ANN and CNN/riskli/mic/c128.png', '/content/drive/MyDrive/Colab Notebooks/ANN and CNN/riskli/mic/c129.png', '/content/drive/MyDrive/Colab Notebooks/ANN and CNN/riskli/mic/c129 (2).png', '/content/drive/MyDrive/Colab Notebooks/ANN and CNN/riskli/mic/c95 (4).png', '/content/drive/MyDrive/Colab Notebooks/ANN and CNN/riskli/mic/c95.png', '/content/drive/MyDrive/Colab Notebooks/ANN and CNN/riskli/mic/c96 (2).png', '/content/drive/MyDrive/Colab Notebooks/ANN and CNN/riskli/mic/c96.png', '/content/drive/MyDrive/Colab Notebooks/ANN and CNN/riskli/mic/c97.png', '/content/drive/MyDrive/Colab Notebooks/ANN and CNN/riskli/mic/c97 (2).png', '/content/drive/MyDrive/Colab Notebooks/ANN and CNN/riskli/mic/c98.png', '/content/drive/MyDrive/Colab Notebooks/ANN and CNN/riskli/mic/c98 (4).png', '/content/drive/MyDrive/Colab Notebooks/ANN and CNN/riskli/mic/c99.png', '/content/drive/MyDrive/Colab Notebooks/ANN and CNN/riskli/mic/c99 (4).png', '/content/drive/MyDrive/Colab Notebooks/ANN and CNN/riskli/mic/c130.png', '/content/drive/MyDrive/Colab Notebooks/ANN and CNN/riskli/mic/c130 (2).png', '/content/drive/MyDrive/Colab Notebooks/ANN and CNN/riskli/mic/c131.png', '/content/drive/MyDrive/Colab Notebooks/ANN and CNN/riskli/mic/c131 (2).png', '/content/drive/MyDrive/Colab Notebooks/ANN and CNN/riskli/mic/c132 (2).png', '/content/drive/MyDrive/Colab Notebooks/ANN and CNN/riskli/mic/c132.png', '/content/drive/MyDrive/Colab Notebooks/ANN and CNN/riskli/mic/c133 (2).png', '/content/drive/MyDrive/Colab Notebooks/ANN and CNN/riskli/mic/c133.png', '/content/drive/MyDrive/Colab Notebooks/ANN and CNN/riskli/mic/c134 (2).png', '/content/drive/MyDrive/Colab Notebooks/ANN and CNN/riskli/mic/c134.png', '/content/drive/MyDrive/Colab Notebooks/ANN and CNN/riskli/mic/c135 (2).png', '/content/drive/MyDrive/Colab Notebooks/ANN and CNN/riskli/mic/c135.png', '/content/drive/MyDrive/Colab Notebooks/ANN and CNN/riskli/mic/c136.png', '/content/drive/MyDrive/Colab Notebooks/ANN and CNN/riskli/mic/c136 (2).png', '/content/drive/MyDrive/Colab Notebooks/ANN and CNN/riskli/mic/c137 (2).png', '/content/drive/MyDrive/Colab Notebooks/ANN and CNN/riskli/mic/c137.png', '/content/drive/MyDrive/Colab Notebooks/ANN and CNN/riskli/mic/c138 (2).png', '/content/drive/MyDrive/Colab Notebooks/ANN and CNN/riskli/mic/c138.png', '/content/drive/MyDrive/Colab Notebooks/ANN and CNN/riskli/mic/c139.png', '/content/drive/MyDrive/Colab Notebooks/ANN and CNN/riskli/mic/c139 (2).png', '/content/drive/MyDrive/Colab Notebooks/ANN and CNN/riskli/mic/c140 (2).png', '/content/drive/MyDrive/Colab Notebooks/ANN and CNN/riskli/mic/c140.png', '/content/drive/MyDrive/Colab Notebooks/ANN and CNN/riskli/mic/c141.png', '/content/drive/MyDrive/Colab Notebooks/ANN and CNN/riskli/mic/c141 (2).png', '/content/drive/MyDrive/Colab Notebooks/ANN and CNN/riskli/mic/c142 (2).png', '/content/drive/MyDrive/Colab Notebooks/ANN and CNN/riskli/mic/c142.png', '/content/drive/MyDrive/Colab Notebooks/ANN and CNN/riskli/mic/c143.png', '/content/drive/MyDrive/Colab Notebooks/ANN and CNN/riskli/mic/c143 (2).png', '/content/drive/MyDrive/Colab Notebooks/ANN and CNN/riskli/mic/c144.png', '/content/drive/MyDrive/Colab Notebooks/ANN and CNN/riskli/mic/c144 (2).png', '/content/drive/MyDrive/Colab Notebooks/ANN and CNN/riskli/mic/c145.png', '/content/drive/MyDrive/Colab Notebooks/ANN and CNN/riskli/mic/c145 (2).png', '/content/drive/MyDrive/Colab Notebooks/ANN and CNN/riskli/mic/c146.png', '/content/drive/MyDrive/Colab Notebooks/ANN and CNN/riskli/mic/c146 (2).png', '/content/drive/MyDrive/Colab Notebooks/ANN and CNN/riskli/mic/c147.png', '/content/drive/MyDrive/Colab Notebooks/ANN and CNN/riskli/mic/c147 (2).png', '/content/drive/MyDrive/Colab Notebooks/ANN and CNN/riskli/mic/c149 (2).png', '/content/drive/MyDrive/Colab Notebooks/ANN and CNN/riskli/mic/c149.png', '/content/drive/MyDrive/Colab Notebooks/ANN and CNN/riskli/mic/c150 (2).png', '/content/drive/MyDrive/Colab Notebooks/ANN and CNN/riskli/mic/c150.png', '/content/drive/MyDrive/Colab Notebooks/ANN and CNN/riskli/mic/c151.png', '/content/drive/MyDrive/Colab Notebooks/ANN and CNN/riskli/mic/c151 (2).png', '/content/drive/MyDrive/Colab Notebooks/ANN and CNN/riskli/mic/c152.png', '/content/drive/MyDrive/Colab Notebooks/ANN and CNN/riskli/mic/c152 (2).png', '/content/drive/MyDrive/Colab Notebooks/ANN and CNN/riskli/mic/c153- (2).png', '/content/drive/MyDrive/Colab Notebooks/ANN and CNN/riskli/mic/c153-.png', '/content/drive/MyDrive/Colab Notebooks/ANN and CNN/riskli/mic/c100 (4).png', '/content/drive/MyDrive/Colab Notebooks/ANN and CNN/riskli/mic/c100.png', '/content/drive/MyDrive/Colab Notebooks/ANN and CNN/riskli/mic/c101.png', '/content/drive/MyDrive/Colab Notebooks/ANN and CNN/riskli/mic/c101 (4).png', '/content/drive/MyDrive/Colab Notebooks/ANN and CNN/riskli/mic/c102 (2).png', '/content/drive/MyDrive/Colab Notebooks/ANN and CNN/riskli/mic/c102.png', '/content/drive/MyDrive/Colab Notebooks/ANN and CNN/riskli/mic/c103 (2).png', '/content/drive/MyDrive/Colab Notebooks/ANN and CNN/riskli/mic/c103.png', '/content/drive/MyDrive/Colab Notebooks/ANN and CNN/riskli/mic/c104 (4).png', '/content/drive/MyDrive/Colab Notebooks/ANN and CNN/riskli/mic/c104.png', '/content/drive/MyDrive/Colab Notebooks/ANN and CNN/riskli/mic/c105.png', '/content/drive/MyDrive/Colab Notebooks/ANN and CNN/riskli/mic/c105 (2).png', '/content/drive/MyDrive/Colab Notebooks/ANN and CNN/riskli/mic/c106.png', '/content/drive/MyDrive/Colab Notebooks/ANN and CNN/riskli/mic/c106 (4).png', '/content/drive/MyDrive/Colab Notebooks/ANN and CNN/riskli/mic/c155 (2).png', '/content/drive/MyDrive/Colab Notebooks/ANN and CNN/riskli/mic/c155.png', '/content/drive/MyDrive/Colab Notebooks/ANN and CNN/riskli/mic/c156.png', '/content/drive/MyDrive/Colab Notebooks/ANN and CNN/riskli/mic/c156 (2).png', '/content/drive/MyDrive/Colab Notebooks/ANN and CNN/riskli/mic/c157 (2).png', '/content/drive/MyDrive/Colab Notebooks/ANN and CNN/riskli/mic/c157.png', '/content/drive/MyDrive/Colab Notebooks/ANN and CNN/riskli/mic/c158.png', '/content/drive/MyDrive/Colab Notebooks/ANN and CNN/riskli/mic/c158 (2).png', '/content/drive/MyDrive/Colab Notebooks/ANN and CNN/riskli/mic/c107 (2).png', '/content/drive/MyDrive/Colab Notebooks/ANN and CNN/riskli/mic/c107.png', '/content/drive/MyDrive/Colab Notebooks/ANN and CNN/riskli/mic/c108.png', '/content/drive/MyDrive/Colab Notebooks/ANN and CNN/riskli/mic/c108 (4).png', '/content/drive/MyDrive/Colab Notebooks/ANN and CNN/riskli/mic/c109 (4).png', '/content/drive/MyDrive/Colab Notebooks/ANN and CNN/riskli/mic/c109.png', '/content/drive/MyDrive/Colab Notebooks/ANN and CNN/riskli/mic/c110.png', '/content/drive/MyDrive/Colab Notebooks/ANN and CNN/riskli/mic/c110 (4).png', '/content/drive/MyDrive/Colab Notebooks/ANN and CNN/riskli/mic/c159 (2).png', '/content/drive/MyDrive/Colab Notebooks/ANN and CNN/riskli/mic/c159.png', '/content/drive/MyDrive/Colab Notebooks/ANN and CNN/riskli/mic/c160.png', '/content/drive/MyDrive/Colab Notebooks/ANN and CNN/riskli/mic/c160 (2).png', '/content/drive/MyDrive/Colab Notebooks/ANN and CNN/riskli/mic/c161.png', '/content/drive/MyDrive/Colab Notebooks/ANN and CNN/riskli/mic/c161 (2).png', '/content/drive/MyDrive/Colab Notebooks/ANN and CNN/riskli/mic/c111.png', '/content/drive/MyDrive/Colab Notebooks/ANN and CNN/riskli/mic/c111 (4).png', '/content/drive/MyDrive/Colab Notebooks/ANN and CNN/riskli/mic/c112 (4).png', '/content/drive/MyDrive/Colab Notebooks/ANN and CNN/riskli/mic/c112.png', '/content/drive/MyDrive/Colab Notebooks/ANN and CNN/riskli/mic/c113 (4).png', '/content/drive/MyDrive/Colab Notebooks/ANN and CNN/riskli/mic/c113.png', '/content/drive/MyDrive/Colab Notebooks/ANN and CNN/riskli/mic/c114.png', '/content/drive/MyDrive/Colab Notebooks/ANN and CNN/riskli/mic/c114 (2).png', '/content/drive/MyDrive/Colab Notebooks/ANN and CNN/riskli/mic/c115.png', '/content/drive/MyDrive/Colab Notebooks/ANN and CNN/riskli/mic/c115 (2).png', '/content/drive/MyDrive/Colab Notebooks/ANN and CNN/riskli/mic/c116 (2).png', '/content/drive/MyDrive/Colab Notebooks/ANN and CNN/riskli/mic/c116.png', '/content/drive/MyDrive/Colab Notebooks/ANN and CNN/riskli/mic/c117 (2).png', '/content/drive/MyDrive/Colab Notebooks/ANN and CNN/riskli/mic/c117.png', '/content/drive/MyDrive/Colab Notebooks/ANN and CNN/riskli/mic/c118 (2).png', '/content/drive/MyDrive/Colab Notebooks/ANN and CNN/riskli/mic/c118.png', '/content/drive/MyDrive/Colab Notebooks/ANN and CNN/riskli/mic/c119 (4).png', '/content/drive/MyDrive/Colab Notebooks/ANN and CNN/riskli/mic/c119.png', '/content/drive/MyDrive/Colab Notebooks/ANN and CNN/riskli/mic/c120 (4).png', '/content/drive/MyDrive/Colab Notebooks/ANN and CNN/riskli/mic/c120.png', '/content/drive/MyDrive/Colab Notebooks/ANN and CNN/riskli/mic/c162 (2).png', '/content/drive/MyDrive/Colab Notebooks/ANN and CNN/riskli/mic/c162.png', '/content/drive/MyDrive/Colab Notebooks/ANN and CNN/riskli/mic/c163 (2).png', '/content/drive/MyDrive/Colab Notebooks/ANN and CNN/riskli/mic/c163.png', '/content/drive/MyDrive/Colab Notebooks/ANN and CNN/riskli/mic/c164.png', '/content/drive/MyDrive/Colab Notebooks/ANN and CNN/riskli/mic/c164 (2).png', '/content/drive/MyDrive/Colab Notebooks/ANN and CNN/riskli/mic/c165 (2).png', '/content/drive/MyDrive/Colab Notebooks/ANN and CNN/riskli/mic/c165.png', '/content/drive/MyDrive/Colab Notebooks/ANN and CNN/riskli/mic/c166 (2).png', '/content/drive/MyDrive/Colab Notebooks/ANN and CNN/riskli/mic/c166.png', '/content/drive/MyDrive/Colab Notebooks/ANN and CNN/riskli/mic/c167 (2).png', '/content/drive/MyDrive/Colab Notebooks/ANN and CNN/riskli/mic/c167.png', '/content/drive/MyDrive/Colab Notebooks/ANN and CNN/riskli/mic/c169.png', '/content/drive/MyDrive/Colab Notebooks/ANN and CNN/riskli/mic/c169 (2).png', '/content/drive/MyDrive/Colab Notebooks/ANN and CNN/riskli/mic/c170 (2).png', '/content/drive/MyDrive/Colab Notebooks/ANN and CNN/riskli/mic/c170.png', '/content/drive/MyDrive/Colab Notebooks/ANN and CNN/riskli/mic/c171.png', '/content/drive/MyDrive/Colab Notebooks/ANN and CNN/riskli/mic/c171 (2).png', '/content/drive/MyDrive/Colab Notebooks/ANN and CNN/riskli/mic/c172 (2).png', '/content/drive/MyDrive/Colab Notebooks/ANN and CNN/riskli/mic/c172.png', '/content/drive/MyDrive/Colab Notebooks/ANN and CNN/riskli/mic/c173 (2).png', '/content/drive/MyDrive/Colab Notebooks/ANN and CNN/riskli/mic/c173.png', '/content/drive/MyDrive/Colab Notebooks/ANN and CNN/riskli/mic/c174.png', '/content/drive/MyDrive/Colab Notebooks/ANN and CNN/riskli/mic/c174 (2).png', '/content/drive/MyDrive/Colab Notebooks/ANN and CNN/riskli/mic/c175.png', '/content/drive/MyDrive/Colab Notebooks/ANN and CNN/riskli/mic/c175 (2).png', '/content/drive/MyDrive/Colab Notebooks/ANN and CNN/riskli/mic/c176 (2).png', '/content/drive/MyDrive/Colab Notebooks/ANN and CNN/riskli/mic/c176.png', '/content/drive/MyDrive/Colab Notebooks/ANN and CNN/riskli/mic/c177 (2).png', '/content/drive/MyDrive/Colab Notebooks/ANN and CNN/riskli/mic/c177.png', '/content/drive/MyDrive/Colab Notebooks/ANN and CNN/riskli/mic/c178.png', '/content/drive/MyDrive/Colab Notebooks/ANN and CNN/riskli/mic/c178 (2).png', '/content/drive/MyDrive/Colab Notebooks/ANN and CNN/riskli/mic/c179 (2).png', '/content/drive/MyDrive/Colab Notebooks/ANN and CNN/riskli/mic/c179.png', '/content/drive/MyDrive/Colab Notebooks/ANN and CNN/riskli/mic/c180 (2).png', '/content/drive/MyDrive/Colab Notebooks/ANN and CNN/riskli/mic/c180.png', '/content/drive/MyDrive/Colab Notebooks/ANN and CNN/riskli/mic/c181 (2).png', '/content/drive/MyDrive/Colab Notebooks/ANN and CNN/riskli/mic/c181.png', '/content/drive/MyDrive/Colab Notebooks/ANN and CNN/riskli/mic/c182 (2).png', '/content/drive/MyDrive/Colab Notebooks/ANN and CNN/riskli/mic/c182.png', '/content/drive/MyDrive/Colab Notebooks/ANN and CNN/riskli/mic/c183 (2).png', '/content/drive/MyDrive/Colab Notebooks/ANN and CNN/riskli/mic/c183.png', '/content/drive/MyDrive/Colab Notebooks/ANN and CNN/riskli/mic/c184 (2).png', '/content/drive/MyDrive/Colab Notebooks/ANN and CNN/riskli/mic/c184.png', '/content/drive/MyDrive/Colab Notebooks/ANN and CNN/riskli/mic/c185 (2).png', '/content/drive/MyDrive/Colab Notebooks/ANN and CNN/riskli/mic/c185.png', '/content/drive/MyDrive/Colab Notebooks/ANN and CNN/riskli/mic/c186.png', '/content/drive/MyDrive/Colab Notebooks/ANN and CNN/riskli/mic/c186 (2).png', '/content/drive/MyDrive/Colab Notebooks/ANN and CNN/riskli/mic/c187.png', '/content/drive/MyDrive/Colab Notebooks/ANN and CNN/riskli/mic/c187 (2).png', '/content/drive/MyDrive/Colab Notebooks/ANN and CNN/riskli/mic/c188 (2).png', '/content/drive/MyDrive/Colab Notebooks/ANN and CNN/riskli/mic/c188.png', '/content/drive/MyDrive/Colab Notebooks/ANN and CNN/riskli/mic/c193 (2).png', '/content/drive/MyDrive/Colab Notebooks/ANN and CNN/riskli/mic/c193.png', '/content/drive/MyDrive/Colab Notebooks/ANN and CNN/riskli/mic/c194 (2).png', '/content/drive/MyDrive/Colab Notebooks/ANN and CNN/riskli/mic/c194.png', '/content/drive/MyDrive/Colab Notebooks/ANN and CNN/riskli/mic/c195 (2).png', '/content/drive/MyDrive/Colab Notebooks/ANN and CNN/riskli/mic/c195.png', '/content/drive/MyDrive/Colab Notebooks/ANN and CNN/riskli/mic/c199.png', '/content/drive/MyDrive/Colab Notebooks/ANN and CNN/riskli/mic/c199 (2).png', '/content/drive/MyDrive/Colab Notebooks/ANN and CNN/riskli/mic/c200.png', '/content/drive/MyDrive/Colab Notebooks/ANN and CNN/riskli/mic/c200 (2).png', '/content/drive/MyDrive/Colab Notebooks/ANN and CNN/riskli/mic/c201 (2).png', '/content/drive/MyDrive/Colab Notebooks/ANN and CNN/riskli/mic/c201.png', '/content/drive/MyDrive/Colab Notebooks/ANN and CNN/riskli/mic/c202.png', '/content/drive/MyDrive/Colab Notebooks/ANN and CNN/riskli/mic/c202 (2).png', '/content/drive/MyDrive/Colab Notebooks/ANN and CNN/riskli/mic/c203 (2).png', '/content/drive/MyDrive/Colab Notebooks/ANN and CNN/riskli/mic/c203.png', '/content/drive/MyDrive/Colab Notebooks/ANN and CNN/riskli/mic/c204 (2).png', '/content/drive/MyDrive/Colab Notebooks/ANN and CNN/riskli/mic/c204.png', '/content/drive/MyDrive/Colab Notebooks/ANN and CNN/riskli/mic/c205.png', '/content/drive/MyDrive/Colab Notebooks/ANN and CNN/riskli/mic/c205 (2).png', '/content/drive/MyDrive/Colab Notebooks/ANN and CNN/riskli/mic/c206 (2).png', '/content/drive/MyDrive/Colab Notebooks/ANN and CNN/riskli/mic/c206.png', '/content/drive/MyDrive/Colab Notebooks/ANN and CNN/riskli/mic/c207-.png', '/content/drive/MyDrive/Colab Notebooks/ANN and CNN/riskli/mic/c207- (2).png', '/content/drive/MyDrive/Colab Notebooks/ANN and CNN/riskli/mic/c208.png', '/content/drive/MyDrive/Colab Notebooks/ANN and CNN/riskli/mic/c208 (2).png', '/content/drive/MyDrive/Colab Notebooks/ANN and CNN/riskli/mic/c210.png', '/content/drive/MyDrive/Colab Notebooks/ANN and CNN/riskli/mic/c210 (2).png', '/content/drive/MyDrive/Colab Notebooks/ANN and CNN/riskli/mic/c211 (2).png', '/content/drive/MyDrive/Colab Notebooks/ANN and CNN/riskli/mic/c211.png', '/content/drive/MyDrive/Colab Notebooks/ANN and CNN/riskli/mic/c212 (2).png', '/content/drive/MyDrive/Colab Notebooks/ANN and CNN/riskli/mic/c212.png', '/content/drive/MyDrive/Colab Notebooks/ANN and CNN/riskli/mic/c213 (2).png', '/content/drive/MyDrive/Colab Notebooks/ANN and CNN/riskli/mic/c213.png', '/content/drive/MyDrive/Colab Notebooks/ANN and CNN/riskli/mic/c214 (2).png', '/content/drive/MyDrive/Colab Notebooks/ANN and CNN/riskli/mic/c214.png']\n"
          ]
        }
      ]
    },
    {
      "cell_type": "code",
      "source": [
        "canis_risk= []\n",
        "rubrum_risk= []\n",
        "\n",
        "for i in img_c:\n",
        "  img = cv2.imread(i)\n",
        "  img_size = cv2.resize(img, (75,75), interpolation = cv2.INTER_LINEAR)\n",
        "  canis_risk.append([img_size,0])\n",
        "for i in img_r:\n",
        "  img = cv2.imread(i)\n",
        "  img_size = cv2.resize(img, (75,75), interpolation = cv2.INTER_LINEAR)\n",
        "  rubrum_risk.append([img_size,1])\n"
      ],
      "metadata": {
        "id": "zOB04MJtDpAw"
      },
      "execution_count": null,
      "outputs": []
    },
    {
      "cell_type": "code",
      "source": [
        "X1= []\n",
        "Y1= []\n",
        "\n",
        "image = np.concatenate((canis_risk, rubrum_risk))\n",
        "random.shuffle(image)\n",
        "\n",
        "for feature, label in image:\n",
        "    X1.append(feature)\n",
        "    Y1.append(label)\n",
        "    \n",
        "X1 = np.array(X1)\n",
        "Y1= np.array(Y1)"
      ],
      "metadata": {
        "id": "Ze__mSQ1D99d",
        "colab": {
          "base_uri": "https://localhost:8080/"
        },
        "outputId": "8214b869-da24-4577-8c54-6c0fd099a703"
      },
      "execution_count": null,
      "outputs": [
        {
          "output_type": "stream",
          "name": "stderr",
          "text": [
            "<string>:6: VisibleDeprecationWarning: Creating an ndarray from ragged nested sequences (which is a list-or-tuple of lists-or-tuples-or ndarrays with different lengths or shapes) is deprecated. If you meant to do this, you must specify 'dtype=object' when creating the ndarray.\n"
          ]
        }
      ]
    },
    {
      "cell_type": "code",
      "source": [
        "from sklearn.model_selection import train_test_split\n",
        "X_train1, X_predict1, y_train1, y_true1  = train_test_split(X1,Y1,shuffle=False, test_size=0.2, random_state=42)"
      ],
      "metadata": {
        "id": "Ayd0n3OCECTu"
      },
      "execution_count": null,
      "outputs": []
    },
    {
      "cell_type": "code",
      "source": [
        "from sklearn.metrics import confusion_matrix\n",
        "import itertools\n",
        "\n",
        "from keras.utils.np_utils import to_categorical # convert to one-hot-encoding\n",
        "from keras.models import Sequential\n",
        "from keras.layers import Dense, Dropout, Flatten, Conv2D, MaxPool2D\n",
        "\n",
        "from keras.preprocessing.image import ImageDataGenerator\n",
        "from keras.callbacks import ReduceLROnPlateau\n",
        "\n",
        "model = Sequential()\n",
        "#\n",
        "model.add(Conv2D(filters = 8, kernel_size = (5,5),padding = 'Same', \n",
        "                 activation ='relu', input_shape = (75,75,3)))\n",
        "model.add(MaxPool2D(pool_size=(2,2)))\n",
        "model.add(Dropout(0.25))\n",
        "#\n",
        "model.add(Conv2D(filters = 16, kernel_size = (3,3),padding = 'Same', \n",
        "                 activation ='relu' , input_shape = (75,75,3)))\n",
        "model.add(MaxPool2D(pool_size=(2,2), strides=(2,2)))\n",
        "model.add(Dropout(0.25))\n",
        "# fully connected\n",
        "model.add(Flatten())\n",
        "model.add(Dense(256, activation = \"relu\"))\n",
        "model.add(Dropout(0.5))\n",
        "model.add(Dense(2, activation = \"softmax\"))"
      ],
      "metadata": {
        "id": "K1FLZbbXEGty"
      },
      "execution_count": null,
      "outputs": []
    },
    {
      "cell_type": "code",
      "source": [
        "model.compile(optimizer='adam',loss = tf.keras.losses.SparseCategoricalCrossentropy(from_logits=True), metrics=['accuracy'])"
      ],
      "metadata": {
        "id": "LE2pkkqgEPxt"
      },
      "execution_count": null,
      "outputs": []
    },
    {
      "cell_type": "code",
      "source": [
        "datagen = ImageDataGenerator(\n",
        "        featurewise_center=False,  # set input mean to 0 over the dataset\n",
        "        samplewise_center=False,  # set each sample mean to 0\n",
        "        featurewise_std_normalization=False,  # divide inputs by std of the dataset\n",
        "        samplewise_std_normalization=False,  # divide each input by its std\n",
        "        zca_whitening=False,  # dimesion reduction\n",
        "        rotation_range=5,  # randomly rotate images in the range 5 degrees\n",
        "        zoom_range = 0.1, # Randomly zoom image 10%\n",
        "        width_shift_range=0.1,  # randomly shift images horizontally 10%\n",
        "        height_shift_range=0.1,  # randomly shift images vertically 10%\n",
        "        horizontal_flip=False,  # randomly flip images\n",
        "        vertical_flip=False)  # randomly flip images\n",
        "\n",
        "datagen.fit(X_train1)"
      ],
      "metadata": {
        "id": "bZj6pVsOES_9"
      },
      "execution_count": null,
      "outputs": []
    },
    {
      "cell_type": "code",
      "source": [
        "history = model.fit(X_train1, y_train1, validation_data = (X_predict1, y_true1), epochs = 20, batch_size = 50)"
      ],
      "metadata": {
        "id": "OkuciFXiEWAW",
        "colab": {
          "base_uri": "https://localhost:8080/"
        },
        "outputId": "c11ed316-1831-4e0c-c7f3-23f562d71e5e"
      },
      "execution_count": null,
      "outputs": [
        {
          "output_type": "stream",
          "name": "stdout",
          "text": [
            "Epoch 1/20\n"
          ]
        },
        {
          "output_type": "stream",
          "name": "stderr",
          "text": [
            "/usr/local/lib/python3.7/dist-packages/tensorflow/python/util/dispatch.py:1082: UserWarning: \"`sparse_categorical_crossentropy` received `from_logits=True`, but the `output` argument was produced by a sigmoid or softmax activation and thus does not represent logits. Was this intended?\"\n",
            "  return dispatch_target(*args, **kwargs)\n"
          ]
        },
        {
          "output_type": "stream",
          "name": "stdout",
          "text": [
            "30/30 [==============================] - 10s 321ms/step - loss: 32.6071 - accuracy: 0.8939 - val_loss: 2.2114 - val_accuracy: 0.6515\n",
            "Epoch 2/20\n",
            "30/30 [==============================] - 7s 247ms/step - loss: 0.4661 - accuracy: 0.9006 - val_loss: 0.7703 - val_accuracy: 0.6595\n",
            "Epoch 3/20\n",
            "30/30 [==============================] - 7s 248ms/step - loss: 0.2605 - accuracy: 0.9268 - val_loss: 0.5235 - val_accuracy: 0.6622\n",
            "Epoch 4/20\n",
            "30/30 [==============================] - 7s 246ms/step - loss: 0.2150 - accuracy: 0.9295 - val_loss: 0.6022 - val_accuracy: 0.6515\n",
            "Epoch 5/20\n",
            "30/30 [==============================] - 7s 245ms/step - loss: 0.2044 - accuracy: 0.9355 - val_loss: 0.4778 - val_accuracy: 0.6622\n",
            "Epoch 6/20\n",
            "30/30 [==============================] - 7s 247ms/step - loss: 0.1662 - accuracy: 0.9422 - val_loss: 0.4492 - val_accuracy: 0.7158\n",
            "Epoch 7/20\n",
            "30/30 [==============================] - 7s 245ms/step - loss: 0.1484 - accuracy: 0.9362 - val_loss: 0.5052 - val_accuracy: 0.6622\n",
            "Epoch 8/20\n",
            "30/30 [==============================] - 7s 247ms/step - loss: 0.1370 - accuracy: 0.9389 - val_loss: 0.5036 - val_accuracy: 0.7131\n",
            "Epoch 9/20\n",
            "30/30 [==============================] - 7s 247ms/step - loss: 0.1246 - accuracy: 0.9449 - val_loss: 0.3622 - val_accuracy: 0.7614\n",
            "Epoch 10/20\n",
            "30/30 [==============================] - 8s 268ms/step - loss: 0.1197 - accuracy: 0.9449 - val_loss: 0.4722 - val_accuracy: 0.8418\n",
            "Epoch 11/20\n",
            "30/30 [==============================] - 7s 247ms/step - loss: 0.1017 - accuracy: 0.9537 - val_loss: 0.4294 - val_accuracy: 0.7453\n",
            "Epoch 12/20\n",
            "30/30 [==============================] - 7s 246ms/step - loss: 0.1015 - accuracy: 0.9530 - val_loss: 0.5589 - val_accuracy: 0.7802\n",
            "Epoch 13/20\n",
            "30/30 [==============================] - 7s 248ms/step - loss: 0.0877 - accuracy: 0.9550 - val_loss: 0.4310 - val_accuracy: 0.8418\n",
            "Epoch 14/20\n",
            "30/30 [==============================] - 7s 246ms/step - loss: 0.0896 - accuracy: 0.9563 - val_loss: 1.7659 - val_accuracy: 0.7534\n",
            "Epoch 15/20\n",
            "30/30 [==============================] - 7s 247ms/step - loss: 0.0868 - accuracy: 0.9637 - val_loss: 0.7768 - val_accuracy: 0.7936\n",
            "Epoch 16/20\n",
            "30/30 [==============================] - 7s 246ms/step - loss: 0.0880 - accuracy: 0.9604 - val_loss: 0.5161 - val_accuracy: 0.8123\n",
            "Epoch 17/20\n",
            "30/30 [==============================] - 7s 247ms/step - loss: 0.1068 - accuracy: 0.9651 - val_loss: 0.6046 - val_accuracy: 0.7480\n",
            "Epoch 18/20\n",
            "30/30 [==============================] - 7s 247ms/step - loss: 0.0857 - accuracy: 0.9631 - val_loss: 0.4210 - val_accuracy: 0.8284\n",
            "Epoch 19/20\n",
            "30/30 [==============================] - 7s 248ms/step - loss: 0.0751 - accuracy: 0.9698 - val_loss: 0.4827 - val_accuracy: 0.8257\n",
            "Epoch 20/20\n",
            "30/30 [==============================] - 7s 243ms/step - loss: 0.0669 - accuracy: 0.9745 - val_loss: 1.3926 - val_accuracy: 0.8525\n"
          ]
        }
      ]
    },
    {
      "cell_type": "code",
      "source": [
        "from sklearn.metrics import confusion_matrix\n",
        "import seaborn as sns\n",
        "\n",
        "Y_pred1 = model.predict(X_predict1)\n",
        "Y_pred_classes1 = np.argmax(Y_pred1,axis = 1) \n",
        "\n",
        "\n",
        "confusion_mtx = confusion_matrix(y_true1, Y_pred_classes1) \n",
        "\n",
        "f,ax = plt.subplots(figsize=(8, 8))\n",
        "sns.heatmap(confusion_mtx, annot=True, linewidths=0.01,cmap=\"OrRd\",linecolor=\"black\", fmt= '.1f',ax=ax)\n",
        "plt.xlabel(\"Predicted Label\")\n",
        "plt.ylabel(\"True Label\")\n",
        "plt.title(\"Confusion Matrix\")\n",
        "plt.show()"
      ],
      "metadata": {
        "colab": {
          "base_uri": "https://localhost:8080/",
          "height": 513
        },
        "id": "orUVW8vZciKt",
        "outputId": "22d1131c-9a7b-4bf4-d943-76517db1343a"
      },
      "execution_count": null,
      "outputs": [
        {
          "output_type": "display_data",
          "data": {
            "text/plain": [
              "<Figure size 576x576 with 2 Axes>"
            ],
            "image/png": "[encoded data removed]"
          },
          "metadata": {
            "needs_background": "light"
          }
        }
      ]
    },
    {
      "cell_type": "code",
      "source": [
        "from sklearn.metrics import classification_report\n",
        "\n",
        "print(classification_report(y_true1, Y_pred_classes1))"
      ],
      "metadata": {
        "colab": {
          "base_uri": "https://localhost:8080/"
        },
        "id": "lgg8yjC6dhNa",
        "outputId": "472af39e-efe4-4c23-c7c3-b2455fda9837"
      },
      "execution_count": null,
      "outputs": [
        {
          "output_type": "stream",
          "name": "stdout",
          "text": [
            "              precision    recall  f1-score   support\n",
            "\n",
            "           0       0.82      0.99      0.90       243\n",
            "           1       0.96      0.60      0.74       130\n",
            "\n",
            "    accuracy                           0.85       373\n",
            "   macro avg       0.89      0.79      0.82       373\n",
            "weighted avg       0.87      0.85      0.84       373\n",
            "\n"
          ]
        }
      ]
    },
    {
      "cell_type": "markdown",
      "source": [
        "# TransferLearning_Xception\n",
        "\n"
      ],
      "metadata": {
        "id": "sRvjUSl7FiHM"
      }
    },
    {
      "cell_type": "code",
      "source": [
        "import pandas as pd\n",
        "import math, re, os\n",
        "import numpy as np\n",
        "import matplotlib.pyplot as plt\n",
        "from sklearn.utils import shuffle\n",
        "import tensorflow as tf\n",
        "from tensorflow import keras\n",
        "from tensorflow.keras import activations\n",
        "from tensorflow.keras import layers,callbacks\n",
        "from tensorflow.keras.layers.experimental import preprocessing\n",
        "import cv2\n",
        "import copy # copy the matrix\n",
        "from matplotlib import pyplot, transforms\n",
        "from tensorflow.keras.optimizers import SGD, RMSprop, Adam, Adagrad, Adadelta\n",
        "from keras.layers import Dense, Dropout, Activation, Flatten, BatchNormalization, Conv2D, MaxPool2D, MaxPooling2D\n",
        "from tensorflow.keras.callbacks import ReduceLROnPlateau, ModelCheckpoint, EarlyStopping"
      ],
      "metadata": {
        "id": "MIVghL38Fm-G"
      },
      "execution_count": null,
      "outputs": []
    },
    {
      "cell_type": "code",
      "source": [
        "base_model = keras.applications.Xception(include_top=False,input_shape = (75,75,3))"
      ],
      "metadata": {
        "id": "LXmoU1a0HJ5V",
        "colab": {
          "base_uri": "https://localhost:8080/"
        },
        "outputId": "8e2d0f8d-5a09-4295-944c-1e63cc4f8437"
      },
      "execution_count": null,
      "outputs": [
        {
          "output_type": "stream",
          "name": "stdout",
          "text": [
            "Downloading data from https://storage.googleapis.com/tensorflow/keras-applications/xception/xception_weights_tf_dim_ordering_tf_kernels_notop.h5\n",
            "83689472/83683744 [==============================] - 0s 0us/step\n",
            "83697664/83683744 [==============================] - 0s 0us/step\n"
          ]
        }
      ]
    },
    {
      "cell_type": "code",
      "source": [
        "base_model.trainable = False\n",
        "\n",
        "new_model = keras.Sequential([\n",
        "    \n",
        "  \n",
        "    preprocessing.RandomFlip('horizontal_and_vertical'), \n",
        "    preprocessing.RandomContrast(0.5),\n",
        "    preprocessing.RandomRotation((-0.5,0.5)),\n",
        "    preprocessing.RandomCrop(75,75),\n",
        "    base_model,\n",
        "    tf.keras.layers.GlobalAveragePooling2D(),\n",
        "    tf.keras.layers.Dense(2, activation='sigmoid'),\n",
        "])"
      ],
      "metadata": {
        "id": "Z3xa8nIsHTSH"
      },
      "execution_count": null,
      "outputs": []
    },
    {
      "cell_type": "code",
      "source": [
        "callbacks = [EarlyStopping(monitor='val_loss', patience=5, verbose=1),\n",
        "                ModelCheckpoint('model.hdf5',\n",
        "                                 save_best_only=True)]"
      ],
      "metadata": {
        "id": "Z8gCKVpfHWtg"
      },
      "execution_count": null,
      "outputs": []
    },
    {
      "cell_type": "code",
      "source": [
        "\n",
        "model.compile(\n",
        "  loss=tf.keras.losses.SparseCategoricalCrossentropy(from_logits=True),\n",
        "  optimizer='adam',\n",
        "  metrics=['accuracy']\n",
        ")"
      ],
      "metadata": {
        "id": "TFAK1krAHZn6"
      },
      "execution_count": null,
      "outputs": []
    },
    {
      "cell_type": "code",
      "source": [
        "history=model.fit(X_train, y_train,validation_data=(X_predict, y_true),epochs = 30, callbacks=callbacks)"
      ],
      "metadata": {
        "colab": {
          "base_uri": "https://localhost:8080/"
        },
        "id": "mVCaUWm_Hc5N",
        "outputId": "ddfb5d10-40bf-4f4f-da11-a043a6642e62"
      },
      "execution_count": null,
      "outputs": [
        {
          "output_type": "stream",
          "name": "stdout",
          "text": [
            "Epoch 1/30\n"
          ]
        },
        {
          "output_type": "stream",
          "name": "stderr",
          "text": [
            "/usr/local/lib/python3.7/dist-packages/tensorflow/python/util/dispatch.py:1082: UserWarning: \"`sparse_categorical_crossentropy` received `from_logits=True`, but the `output` argument was produced by a sigmoid or softmax activation and thus does not represent logits. Was this intended?\"\n",
            "  return dispatch_target(*args, **kwargs)\n"
          ]
        },
        {
          "output_type": "stream",
          "name": "stdout",
          "text": [
            "24/24 [==============================] - 6s 195ms/step - loss: 0.7688 - accuracy: 0.6658 - val_loss: 0.7946 - val_accuracy: 0.3089\n",
            "Epoch 2/30\n",
            "24/24 [==============================] - 4s 167ms/step - loss: 0.5240 - accuracy: 0.7276 - val_loss: 0.6570 - val_accuracy: 0.5759\n",
            "Epoch 3/30\n",
            "24/24 [==============================] - 4s 167ms/step - loss: 0.4228 - accuracy: 0.7921 - val_loss: 0.5393 - val_accuracy: 0.7173\n",
            "Epoch 4/30\n",
            "24/24 [==============================] - 4s 166ms/step - loss: 0.3900 - accuracy: 0.8276 - val_loss: 0.5833 - val_accuracy: 0.6597\n",
            "Epoch 5/30\n",
            "24/24 [==============================] - 4s 166ms/step - loss: 0.3823 - accuracy: 0.8303 - val_loss: 0.4699 - val_accuracy: 0.7225\n",
            "Epoch 6/30\n",
            "24/24 [==============================] - 4s 168ms/step - loss: 0.3109 - accuracy: 0.8579 - val_loss: 0.3571 - val_accuracy: 0.8429\n",
            "Epoch 7/30\n",
            "24/24 [==============================] - 4s 162ms/step - loss: 0.2583 - accuracy: 0.8908 - val_loss: 0.5620 - val_accuracy: 0.7853\n",
            "Epoch 8/30\n",
            "24/24 [==============================] - 4s 164ms/step - loss: 0.2418 - accuracy: 0.8934 - val_loss: 0.5943 - val_accuracy: 0.7539\n",
            "Epoch 9/30\n",
            "24/24 [==============================] - 5s 220ms/step - loss: 0.2435 - accuracy: 0.8934 - val_loss: 0.5017 - val_accuracy: 0.7592\n",
            "Epoch 10/30\n",
            "24/24 [==============================] - 5s 188ms/step - loss: 0.1782 - accuracy: 0.9250 - val_loss: 0.4617 - val_accuracy: 0.8639\n",
            "Epoch 11/30\n",
            "24/24 [==============================] - 4s 165ms/step - loss: 0.1703 - accuracy: 0.9342 - val_loss: 0.3702 - val_accuracy: 0.8325\n",
            "Epoch 11: early stopping\n"
          ]
        }
      ]
    },
    {
      "cell_type": "code",
      "source": [
        "from sklearn.metrics import confusion_matrix\n",
        "import seaborn as sns\n",
        "\n",
        "Y_pred = model.predict(X_predict)\n",
        "Y_pred_classes = np.argmax(Y_pred,axis = 1) \n",
        "\n",
        "\n",
        "confusion_mtx = confusion_matrix(y_true, Y_pred_classes) \n",
        "\n",
        "f,ax = plt.subplots(figsize=(8, 8))\n",
        "sns.heatmap(confusion_mtx, annot=True, linewidths=0.01,cmap=\"OrRd\",linecolor=\"black\", fmt= '.1f',ax=ax)\n",
        "plt.xlabel(\"Predicted Label\")\n",
        "plt.ylabel(\"True Label\")\n",
        "plt.title(\"Confusion Matrix\")\n",
        "plt.show()"
      ],
      "metadata": {
        "id": "I7BzMMV7TP54",
        "colab": {
          "base_uri": "https://localhost:8080/",
          "height": 513
        },
        "outputId": "0ae2b766-b0e8-4e76-a47d-caf19a2caa3e"
      },
      "execution_count": null,
      "outputs": [
        {
          "output_type": "display_data",
          "data": {
            "text/plain": [
              "<Figure size 576x576 with 2 Axes>"
            ],
            "image/png": "[encoded data removed]"
          },
          "metadata": {
            "needs_background": "light"
          }
        }
      ]
    },
    {
      "cell_type": "code",
      "source": [],
      "metadata": {
        "id": "7ZfM6PAFeXlj"
      },
      "execution_count": null,
      "outputs": []
    }
  ]
}